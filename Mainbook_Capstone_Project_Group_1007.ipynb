{
  "nbformat": 4,
  "nbformat_minor": 0,
  "metadata": {
    "accelerator": "GPU",
    "colab": {
      "name": "Mainbook_Capstone_Project_Group_1007.ipynb",
      "provenance": [],
      "collapsed_sections": [],
      "toc_visible": true
    },
    "kernelspec": {
      "display_name": "Python 3",
      "language": "python",
      "name": "python3"
    },
    "language_info": {
      "codemirror_mode": {
        "name": "ipython",
        "version": 3
      },
      "file_extension": ".py",
      "mimetype": "text/x-python",
      "name": "python",
      "nbconvert_exporter": "python",
      "pygments_lexer": "ipython3",
      "version": "3.7.7"
    }
  },
  "cells": [
    {
      "cell_type": "markdown",
      "metadata": {
        "id": "ix765Qiz-mxS"
      },
      "source": [
        "<center><img src = 'https://github.com/insaid2018/Term-1/blob/master/Images/INSAID_Full%20Logo.png?raw=true'  width=\"400\" height=\"200\"></center>\n",
        "\n",
        "# **Machine Learning Project Capstone Group 1007**\n"
      ]
    },
    {
      "cell_type": "markdown",
      "metadata": {
        "id": "-XKo-s7n-mxW"
      },
      "source": [
        "### **Table of Contents**\n",
        "\n",
        "1. [Introduction](#section1)<br>\n",
        "     \n",
        "2. [Project Description](#section2)<br>\n",
        "     \n",
        "3. [Problem Statement](#section3)<br>     \n",
        "\n",
        "4. [Problem Analysis](#section4)<br> \n",
        "\n",
        "5. [Data Pre Processing](#section5)<br> \n",
        "\n",
        "6. [Exploratory Data Analysis](#section6)<br> \n",
        "\n",
        "7. [Profiling](#section7)<br> \n",
        "\n",
        "8. [Post Profiling EDA Analysis](#section8)<br> \n",
        "\n",
        "9. [Conclusion/Summarization](#section9)<br>\n",
        "\n",
        "10. [Actionable Insight](#section10)<br>"
      ]
    },
    {
      "cell_type": "markdown",
      "metadata": {
        "id": "qr7FCWCo-mxY"
      },
      "source": [
        "<a id=section1></a>\n",
        "## **1. Introduction**\n",
        "\n",
        "For an HR Department at a software company who want to try a new initiative to retain employees is planning to gain insights using data to predict whether an employee is likely to leave.\n",
        "Once these employees are identified, HR can be more proactive in reaching out to them before it's too late.\n",
        "They only want to deal with the data that is related to permanent employees.\n",
        "\n",
        "Currently, when an employee leaves, he or she is taken an interview with the name “exit interview” and shares reasons for leaving. The HR Department then tries and learns insights from the interview and makes changes accordingly.\n",
        "\n"
      ]
    },
    {
      "cell_type": "markdown",
      "metadata": {
        "id": "gVXr5VOu-mxa"
      },
      "source": [
        "<a id=section2></a>\n",
        "## **2. Project Description**\n",
        "\n",
        "This current approach suffers with problems is that it's too haphazard. The quality of insight gained from an interview depends heavily on the skill of the interviewer.\n",
        "The second problem is these insights can't be aggregated and interlaced across all employees who have left.\n",
        "The third is that it is too late by the time the proposed policy changes take effect.\n",
        "\n",
        "\n",
        "\n",
        "\n"
      ]
    },
    {
      "cell_type": "markdown",
      "metadata": {
        "id": "nBEgsty9-mxe"
      },
      "source": [
        "<a id=section3></a>\n",
        "## **3. Problem Statement**\n",
        "The HR department want to supplement their exit interviews with a more proactive approach."
      ]
    },
    {
      "cell_type": "markdown",
      "metadata": {
        "id": "SCmetns_6sDu"
      },
      "source": [
        "<a id=section401></a>\n",
        "## **4. Importing Packages**\n"
      ]
    },
    {
      "cell_type": "code",
      "metadata": {
        "colab": {
          "base_uri": "https://localhost:8080/"
        },
        "id": "V-tHyZ3S0GXn",
        "outputId": "0b6484ac-b1d0-4345-c92f-2c5f09308bda"
      },
      "source": [
        "#installing mysql connector\n",
        "!pip install mysql.connector"
      ],
      "execution_count": null,
      "outputs": [
        {
          "output_type": "stream",
          "text": [
            "Collecting mysql.connector\n",
            "\u001b[?25l  Downloading https://files.pythonhosted.org/packages/28/04/e40098f3730e75bbe36a338926f566ea803550a34fb50535499f4fc4787a/mysql-connector-2.2.9.tar.gz (11.9MB)\n",
            "\u001b[K     |████████████████████████████████| 11.9MB 262kB/s \n",
            "\u001b[?25hBuilding wheels for collected packages: mysql.connector\n",
            "  Building wheel for mysql.connector (setup.py) ... \u001b[?25l\u001b[?25hdone\n",
            "  Created wheel for mysql.connector: filename=mysql_connector-2.2.9-cp36-cp36m-linux_x86_64.whl size=247949 sha256=d3b853c4b46988ad3c99e20dd7e35b1eb2d9454e6722711443bbca1081c86057\n",
            "  Stored in directory: /root/.cache/pip/wheels/8c/83/a1/f8b6d4bb1bd6208bbde1608bbfa7557504bed9eaf2ecf8c175\n",
            "Successfully built mysql.connector\n",
            "Installing collected packages: mysql.connector\n",
            "Successfully installed mysql.connector\n"
          ],
          "name": "stdout"
        }
      ]
    },
    {
      "cell_type": "code",
      "metadata": {
        "id": "6YmPW5We4m0p"
      },
      "source": [
        "import mysql.connector as mysql\n",
        "import csv\n",
        "import pandas as pd\n",
        "import numpy as np\n",
        "import seaborn as sns\n",
        "import matplotlib.pyplot as plt\n",
        "import folium\n",
        "from folium import plugins\n",
        "\n",
        "\n",
        "from sklearn.preprocessing import StandardScaler\n",
        "from sklearn.model_selection import train_test_split\n",
        "from sklearn.model_selection import KFold\n",
        "from sklearn.ensemble import RandomForestClassifier\n",
        "from sklearn.svm import SVC\n",
        "from sklearn.neighbors import KNeighborsClassifier\n",
        "from sklearn.naive_bayes import GaussianNB\n",
        "from sklearn.metrics import classification_report\n",
        "from sklearn.metrics import confusion_matrix\n",
        "from sklearn.metrics import accuracy_score\n",
        "from sklearn.metrics import precision_score,recall_score,f1_score\n",
        "from sklearn.model_selection import GridSearchCV\n",
        "import time"
      ],
      "execution_count": null,
      "outputs": []
    },
    {
      "cell_type": "code",
      "metadata": {
        "id": "WQl3AwCR4t-t"
      },
      "source": [
        "cnx = mysql.connect(user='student', password='student',\n",
        "                              host='cpanel.insaid.co',\n",
        "                              database='Capstone2')"
      ],
      "execution_count": null,
      "outputs": []
    },
    {
      "cell_type": "code",
      "metadata": {
        "id": "3gs9RuP448Br"
      },
      "source": [
        "#To download data in csv files enable it\n",
        "download=True"
      ],
      "execution_count": null,
      "outputs": []
    },
    {
      "cell_type": "code",
      "metadata": {
        "id": "ratxgYpy5SoQ"
      },
      "source": [
        "table_names_with_query = { 'departmentDf': 'select * from department_data', \n",
        "                          'EmployeeDetailsDf':'select * from employee_details_data',\n",
        "                          'EmployeeDf': \"select * from employee_data\"}"
      ],
      "execution_count": null,
      "outputs": []
    },
    {
      "cell_type": "code",
      "metadata": {
        "id": "EFWJBHxb5661"
      },
      "source": [
        "if download:\n",
        "  for name, query in table_names_with_query.items():\n",
        "    cursor = cnx.cursor()\n",
        "    cursor.execute(query)\n",
        "    with open(name+'.csv', 'w', newline='',encoding=\"utf-8\") as csvfile:\n",
        "      writer = csv.writer(csvfile)\n",
        "      writer.writerow([i[0] for i in cursor.description]) \n",
        "      writer.writerows(cursor.fetchall())\n",
        "    cursor.close()"
      ],
      "execution_count": null,
      "outputs": []
    },
    {
      "cell_type": "markdown",
      "metadata": {
        "id": "xB3Toxxs7jZK"
      },
      "source": [
        "<a id=section5></a>\n",
        "## **5. Loading Data**"
      ]
    },
    {
      "cell_type": "markdown",
      "metadata": {
        "id": "grGPGVDY8WG8"
      },
      "source": [
        "<a id=section501></a>\n",
        "## **5.1 Employee Details**"
      ]
    },
    {
      "cell_type": "code",
      "metadata": {
        "colab": {
          "base_uri": "https://localhost:8080/",
          "height": 202
        },
        "id": "qMv02fb46N1Q",
        "outputId": "720d780e-4a3b-446d-8f7d-58b3845a6701"
      },
      "source": [
        "EmployeeDetailsDf = pd.read_csv('/content/EmployeeDetailsDf.csv')\n",
        "EmployeeDetailsDf.head()"
      ],
      "execution_count": null,
      "outputs": [
        {
          "output_type": "execute_result",
          "data": {
            "text/html": [
              "<div>\n",
              "<style scoped>\n",
              "    .dataframe tbody tr th:only-of-type {\n",
              "        vertical-align: middle;\n",
              "    }\n",
              "\n",
              "    .dataframe tbody tr th {\n",
              "        vertical-align: top;\n",
              "    }\n",
              "\n",
              "    .dataframe thead th {\n",
              "        text-align: right;\n",
              "    }\n",
              "</style>\n",
              "<table border=\"1\" class=\"dataframe\">\n",
              "  <thead>\n",
              "    <tr style=\"text-align: right;\">\n",
              "      <th></th>\n",
              "      <th>employee_id</th>\n",
              "      <th>age</th>\n",
              "      <th>gender</th>\n",
              "      <th>marital_status</th>\n",
              "    </tr>\n",
              "  </thead>\n",
              "  <tbody>\n",
              "    <tr>\n",
              "      <th>0</th>\n",
              "      <td>113558</td>\n",
              "      <td>43</td>\n",
              "      <td>Male</td>\n",
              "      <td>Married</td>\n",
              "    </tr>\n",
              "    <tr>\n",
              "      <th>1</th>\n",
              "      <td>112256</td>\n",
              "      <td>24</td>\n",
              "      <td>Female</td>\n",
              "      <td>Unmarried</td>\n",
              "    </tr>\n",
              "    <tr>\n",
              "      <th>2</th>\n",
              "      <td>112586</td>\n",
              "      <td>22</td>\n",
              "      <td>Female</td>\n",
              "      <td>Unmarried</td>\n",
              "    </tr>\n",
              "    <tr>\n",
              "      <th>3</th>\n",
              "      <td>108071</td>\n",
              "      <td>36</td>\n",
              "      <td>Male</td>\n",
              "      <td>Married</td>\n",
              "    </tr>\n",
              "    <tr>\n",
              "      <th>4</th>\n",
              "      <td>116915</td>\n",
              "      <td>38</td>\n",
              "      <td>Male</td>\n",
              "      <td>Married</td>\n",
              "    </tr>\n",
              "  </tbody>\n",
              "</table>\n",
              "</div>"
            ],
            "text/plain": [
              "   employee_id  age  gender marital_status\n",
              "0       113558   43    Male        Married\n",
              "1       112256   24  Female      Unmarried\n",
              "2       112586   22  Female      Unmarried\n",
              "3       108071   36    Male        Married\n",
              "4       116915   38    Male        Married"
            ]
          },
          "metadata": {
            "tags": []
          },
          "execution_count": 7
        }
      ]
    },
    {
      "cell_type": "code",
      "metadata": {
        "colab": {
          "base_uri": "https://localhost:8080/"
        },
        "id": "qumQ7ZjY7xpE",
        "outputId": "55d4dd37-3220-4f99-eef8-0cced7580531"
      },
      "source": [
        "EmployeeDetailsDf.info()"
      ],
      "execution_count": null,
      "outputs": [
        {
          "output_type": "stream",
          "text": [
            "<class 'pandas.core.frame.DataFrame'>\n",
            "RangeIndex: 14245 entries, 0 to 14244\n",
            "Data columns (total 4 columns):\n",
            " #   Column          Non-Null Count  Dtype \n",
            "---  ------          --------------  ----- \n",
            " 0   employee_id     14245 non-null  int64 \n",
            " 1   age             14245 non-null  int64 \n",
            " 2   gender          14245 non-null  object\n",
            " 3   marital_status  14245 non-null  object\n",
            "dtypes: int64(2), object(2)\n",
            "memory usage: 445.3+ KB\n"
          ],
          "name": "stdout"
        }
      ]
    },
    {
      "cell_type": "code",
      "metadata": {
        "colab": {
          "base_uri": "https://localhost:8080/"
        },
        "id": "a_sxZNRI-aNU",
        "outputId": "254762a6-f74c-4d95-9c69-9802ca37a028"
      },
      "source": [
        "# Dimension of the Employee Details\n",
        "EmployeeDetailsDf.shape"
      ],
      "execution_count": null,
      "outputs": [
        {
          "output_type": "execute_result",
          "data": {
            "text/plain": [
              "(14245, 4)"
            ]
          },
          "metadata": {
            "tags": []
          },
          "execution_count": 9
        }
      ]
    },
    {
      "cell_type": "code",
      "metadata": {
        "colab": {
          "base_uri": "https://localhost:8080/"
        },
        "id": "kC0GltZ69Cjk",
        "outputId": "1376e225-6875-400a-89d0-7ab0191df1bb"
      },
      "source": [
        "#Check Missing Values in Employee Details dataset\n",
        "EmployeeDetailsDf.isnull().sum()"
      ],
      "execution_count": null,
      "outputs": [
        {
          "output_type": "execute_result",
          "data": {
            "text/plain": [
              "employee_id       0\n",
              "age               0\n",
              "gender            0\n",
              "marital_status    0\n",
              "dtype: int64"
            ]
          },
          "metadata": {
            "tags": []
          },
          "execution_count": 10
        }
      ]
    },
    {
      "cell_type": "markdown",
      "metadata": {
        "id": "3B2hyQLA8pZ2"
      },
      "source": [
        "Employee Details Df data have 4 features:\n",
        "\n",
        "1. employee-id which will be unique\n",
        "2. Employee Details dataset has no missing values"
      ]
    },
    {
      "cell_type": "markdown",
      "metadata": {
        "id": "q349RaTp908J"
      },
      "source": [
        "<a id=section502></a>\n",
        "## **5.2 Employee Df**"
      ]
    },
    {
      "cell_type": "code",
      "metadata": {
        "colab": {
          "base_uri": "https://localhost:8080/",
          "height": 222
        },
        "id": "r3VV29Mu9-Kd",
        "outputId": "4aad5454-04be-483f-ff62-510de9c180b5"
      },
      "source": [
        "EmployeeDf = pd.read_csv('/content/EmployeeDf.csv')\n",
        "EmployeeDf.head()"
      ],
      "execution_count": null,
      "outputs": [
        {
          "output_type": "execute_result",
          "data": {
            "text/html": [
              "<div>\n",
              "<style scoped>\n",
              "    .dataframe tbody tr th:only-of-type {\n",
              "        vertical-align: middle;\n",
              "    }\n",
              "\n",
              "    .dataframe tbody tr th {\n",
              "        vertical-align: top;\n",
              "    }\n",
              "\n",
              "    .dataframe thead th {\n",
              "        text-align: right;\n",
              "    }\n",
              "</style>\n",
              "<table border=\"1\" class=\"dataframe\">\n",
              "  <thead>\n",
              "    <tr style=\"text-align: right;\">\n",
              "      <th></th>\n",
              "      <th>avg_monthly_hrs</th>\n",
              "      <th>department</th>\n",
              "      <th>filed_complaint</th>\n",
              "      <th>last_evaluation</th>\n",
              "      <th>n_projects</th>\n",
              "      <th>recently_promoted</th>\n",
              "      <th>salary</th>\n",
              "      <th>satisfaction</th>\n",
              "      <th>status</th>\n",
              "      <th>tenure</th>\n",
              "      <th>employee_id</th>\n",
              "    </tr>\n",
              "  </thead>\n",
              "  <tbody>\n",
              "    <tr>\n",
              "      <th>0</th>\n",
              "      <td>246.0</td>\n",
              "      <td>NaN</td>\n",
              "      <td>NaN</td>\n",
              "      <td>0.866838</td>\n",
              "      <td>6</td>\n",
              "      <td>NaN</td>\n",
              "      <td>medium</td>\n",
              "      <td>0.134415</td>\n",
              "      <td>Left</td>\n",
              "      <td>4.0</td>\n",
              "      <td>124467</td>\n",
              "    </tr>\n",
              "    <tr>\n",
              "      <th>1</th>\n",
              "      <td>134.0</td>\n",
              "      <td>NaN</td>\n",
              "      <td>NaN</td>\n",
              "      <td>0.555718</td>\n",
              "      <td>2</td>\n",
              "      <td>NaN</td>\n",
              "      <td>low</td>\n",
              "      <td>0.511041</td>\n",
              "      <td>Left</td>\n",
              "      <td>3.0</td>\n",
              "      <td>112210</td>\n",
              "    </tr>\n",
              "    <tr>\n",
              "      <th>2</th>\n",
              "      <td>156.0</td>\n",
              "      <td>D00-SS</td>\n",
              "      <td>1.0</td>\n",
              "      <td>0.474082</td>\n",
              "      <td>2</td>\n",
              "      <td>NaN</td>\n",
              "      <td>medium</td>\n",
              "      <td>0.405101</td>\n",
              "      <td>Left</td>\n",
              "      <td>3.0</td>\n",
              "      <td>126150</td>\n",
              "    </tr>\n",
              "    <tr>\n",
              "      <th>3</th>\n",
              "      <td>256.0</td>\n",
              "      <td>D00-SP</td>\n",
              "      <td>NaN</td>\n",
              "      <td>0.961360</td>\n",
              "      <td>6</td>\n",
              "      <td>NaN</td>\n",
              "      <td>low</td>\n",
              "      <td>0.152974</td>\n",
              "      <td>Left</td>\n",
              "      <td>4.0</td>\n",
              "      <td>125346</td>\n",
              "    </tr>\n",
              "    <tr>\n",
              "      <th>4</th>\n",
              "      <td>146.0</td>\n",
              "      <td>D00-SS</td>\n",
              "      <td>NaN</td>\n",
              "      <td>0.507349</td>\n",
              "      <td>2</td>\n",
              "      <td>NaN</td>\n",
              "      <td>medium</td>\n",
              "      <td>0.434845</td>\n",
              "      <td>Left</td>\n",
              "      <td>3.0</td>\n",
              "      <td>113707</td>\n",
              "    </tr>\n",
              "  </tbody>\n",
              "</table>\n",
              "</div>"
            ],
            "text/plain": [
              "   avg_monthly_hrs department  filed_complaint  ...  status  tenure  employee_id\n",
              "0            246.0        NaN              NaN  ...    Left     4.0       124467\n",
              "1            134.0        NaN              NaN  ...    Left     3.0       112210\n",
              "2            156.0     D00-SS              1.0  ...    Left     3.0       126150\n",
              "3            256.0     D00-SP              NaN  ...    Left     4.0       125346\n",
              "4            146.0     D00-SS              NaN  ...    Left     3.0       113707\n",
              "\n",
              "[5 rows x 11 columns]"
            ]
          },
          "metadata": {
            "tags": []
          },
          "execution_count": 11
        }
      ]
    },
    {
      "cell_type": "markdown",
      "metadata": {
        "id": "FQCeCF3-JxPg"
      },
      "source": [
        "Target variable\n",
        "- 'status' – Current employment status (Employed / Left)\n",
        "\n",
        "Features\n",
        "\n",
        "- 'department' – Department employees belong(ed) to\n",
        "- 'salary' – Salary level relative to rest of their department\n",
        "- 'tenure' – Number of years at the company\n",
        "- 'recently_promoted' – Was the employee promoted in the last 3 years?\n",
        "- 'n_projects' – Number of projects employee is staffed on\n",
        "- 'avg_monthly_hrs' – Average number of hours worked per month\n",
        "Mutual evaluation information\n",
        "- 'satisfaction' – Score for employee’s satisfaction with the company (higher is better)\n",
        "- 'last_evaluation' – Score for most recent evaluation of employee (higher is better)\n",
        "- 'filed_complaint' – Has the employee filed a formal complaint in the last 3 years?"
      ]
    },
    {
      "cell_type": "code",
      "metadata": {
        "colab": {
          "base_uri": "https://localhost:8080/"
        },
        "id": "NG6D4kWs-H5R",
        "outputId": "2fe92c51-9abc-4d1f-a74d-d3799ce3a57c"
      },
      "source": [
        "EmployeeDf.info()"
      ],
      "execution_count": null,
      "outputs": [
        {
          "output_type": "stream",
          "text": [
            "<class 'pandas.core.frame.DataFrame'>\n",
            "RangeIndex: 14150 entries, 0 to 14149\n",
            "Data columns (total 11 columns):\n",
            " #   Column             Non-Null Count  Dtype  \n",
            "---  ------             --------------  -----  \n",
            " 0   avg_monthly_hrs    14150 non-null  float64\n",
            " 1   department         13443 non-null  object \n",
            " 2   filed_complaint    2046 non-null   float64\n",
            " 3   last_evaluation    12663 non-null  float64\n",
            " 4   n_projects         14150 non-null  int64  \n",
            " 5   recently_promoted  297 non-null    float64\n",
            " 6   salary             14150 non-null  object \n",
            " 7   satisfaction       14000 non-null  float64\n",
            " 8   status             14150 non-null  object \n",
            " 9   tenure             14000 non-null  float64\n",
            " 10  employee_id        14150 non-null  int64  \n",
            "dtypes: float64(6), int64(2), object(3)\n",
            "memory usage: 1.2+ MB\n"
          ],
          "name": "stdout"
        }
      ]
    },
    {
      "cell_type": "code",
      "metadata": {
        "colab": {
          "base_uri": "https://localhost:8080/"
        },
        "id": "8q2hpVF_-Pz3",
        "outputId": "4faae006-aafd-491f-cac5-fa8b9ac0e568"
      },
      "source": [
        "# Dimension of the Employee Df\n",
        "EmployeeDf.shape"
      ],
      "execution_count": null,
      "outputs": [
        {
          "output_type": "execute_result",
          "data": {
            "text/plain": [
              "(14150, 11)"
            ]
          },
          "metadata": {
            "tags": []
          },
          "execution_count": 13
        }
      ]
    },
    {
      "cell_type": "code",
      "metadata": {
        "colab": {
          "base_uri": "https://localhost:8080/"
        },
        "id": "GDwX1Rui-k-J",
        "outputId": "1c3f7d51-7dcd-4db3-9fbe-1a5aba1f4294"
      },
      "source": [
        "#Check Missing Values in Employee dataset\n",
        "EmployeeDf.isnull().sum()"
      ],
      "execution_count": null,
      "outputs": [
        {
          "output_type": "execute_result",
          "data": {
            "text/plain": [
              "avg_monthly_hrs          0\n",
              "department             707\n",
              "filed_complaint      12104\n",
              "last_evaluation       1487\n",
              "n_projects               0\n",
              "recently_promoted    13853\n",
              "salary                   0\n",
              "satisfaction           150\n",
              "status                   0\n",
              "tenure                 150\n",
              "employee_id              0\n",
              "dtype: int64"
            ]
          },
          "metadata": {
            "tags": []
          },
          "execution_count": 14
        }
      ]
    },
    {
      "cell_type": "code",
      "metadata": {
        "colab": {
          "base_uri": "https://localhost:8080/"
        },
        "id": "Aw-_V02eSkKC",
        "outputId": "6ba04c7d-0148-49d0-c66e-4aad6f223ae0"
      },
      "source": [
        "# Column datatypes\n",
        "EmployeeDf.dtypes"
      ],
      "execution_count": null,
      "outputs": [
        {
          "output_type": "execute_result",
          "data": {
            "text/plain": [
              "avg_monthly_hrs      float64\n",
              "department            object\n",
              "filed_complaint      float64\n",
              "last_evaluation      float64\n",
              "n_projects             int64\n",
              "recently_promoted    float64\n",
              "salary                object\n",
              "satisfaction         float64\n",
              "status                object\n",
              "tenure               float64\n",
              "employee_id            int64\n",
              "dtype: object"
            ]
          },
          "metadata": {
            "tags": []
          },
          "execution_count": 15
        }
      ]
    },
    {
      "cell_type": "markdown",
      "metadata": {
        "id": "TDkIHeAKTFGq"
      },
      "source": [
        "Make sure all the data types make sense and none seems incorrect"
      ]
    },
    {
      "cell_type": "markdown",
      "metadata": {
        "id": "bRArjF0Q-4Jv"
      },
      "source": [
        "<a id=section503></a>\n",
        "## **5.3 Department Df**"
      ]
    },
    {
      "cell_type": "code",
      "metadata": {
        "colab": {
          "base_uri": "https://localhost:8080/",
          "height": 202
        },
        "id": "_FHjUj-K_CCR",
        "outputId": "6d992185-4920-4775-bb7d-13951537ed2c"
      },
      "source": [
        "departmentDf = pd.read_csv('/content/departmentDf.csv')\n",
        "departmentDf.head()"
      ],
      "execution_count": null,
      "outputs": [
        {
          "output_type": "execute_result",
          "data": {
            "text/html": [
              "<div>\n",
              "<style scoped>\n",
              "    .dataframe tbody tr th:only-of-type {\n",
              "        vertical-align: middle;\n",
              "    }\n",
              "\n",
              "    .dataframe tbody tr th {\n",
              "        vertical-align: top;\n",
              "    }\n",
              "\n",
              "    .dataframe thead th {\n",
              "        text-align: right;\n",
              "    }\n",
              "</style>\n",
              "<table border=\"1\" class=\"dataframe\">\n",
              "  <thead>\n",
              "    <tr style=\"text-align: right;\">\n",
              "      <th></th>\n",
              "      <th>dept_id</th>\n",
              "      <th>dept_name</th>\n",
              "      <th>dept_head</th>\n",
              "    </tr>\n",
              "  </thead>\n",
              "  <tbody>\n",
              "    <tr>\n",
              "      <th>0</th>\n",
              "      <td>D00-IT</td>\n",
              "      <td>IT</td>\n",
              "      <td>Henry Adey</td>\n",
              "    </tr>\n",
              "    <tr>\n",
              "      <th>1</th>\n",
              "      <td>D00-SS</td>\n",
              "      <td>Sales</td>\n",
              "      <td>Edward J Bayley</td>\n",
              "    </tr>\n",
              "    <tr>\n",
              "      <th>2</th>\n",
              "      <td>D00-TP</td>\n",
              "      <td>Temp</td>\n",
              "      <td>Micheal Zachrey</td>\n",
              "    </tr>\n",
              "    <tr>\n",
              "      <th>3</th>\n",
              "      <td>D00-ENG</td>\n",
              "      <td>Engineering</td>\n",
              "      <td>Sushant Raghunathan K</td>\n",
              "    </tr>\n",
              "    <tr>\n",
              "      <th>4</th>\n",
              "      <td>D00-SP</td>\n",
              "      <td>Support</td>\n",
              "      <td>Amelia Westray</td>\n",
              "    </tr>\n",
              "  </tbody>\n",
              "</table>\n",
              "</div>"
            ],
            "text/plain": [
              "   dept_id    dept_name              dept_head\n",
              "0   D00-IT           IT             Henry Adey\n",
              "1   D00-SS        Sales        Edward J Bayley\n",
              "2   D00-TP         Temp        Micheal Zachrey\n",
              "3  D00-ENG  Engineering  Sushant Raghunathan K\n",
              "4   D00-SP      Support         Amelia Westray"
            ]
          },
          "metadata": {
            "tags": []
          },
          "execution_count": 16
        }
      ]
    },
    {
      "cell_type": "code",
      "metadata": {
        "colab": {
          "base_uri": "https://localhost:8080/"
        },
        "id": "0BdqD5DL_K6K",
        "outputId": "76b2324a-94ba-4ea1-d902-15a272fe6b29"
      },
      "source": [
        "departmentDf.info()"
      ],
      "execution_count": null,
      "outputs": [
        {
          "output_type": "stream",
          "text": [
            "<class 'pandas.core.frame.DataFrame'>\n",
            "RangeIndex: 11 entries, 0 to 10\n",
            "Data columns (total 3 columns):\n",
            " #   Column     Non-Null Count  Dtype \n",
            "---  ------     --------------  ----- \n",
            " 0   dept_id    11 non-null     object\n",
            " 1   dept_name  11 non-null     object\n",
            " 2   dept_head  11 non-null     object\n",
            "dtypes: object(3)\n",
            "memory usage: 392.0+ bytes\n"
          ],
          "name": "stdout"
        }
      ]
    },
    {
      "cell_type": "code",
      "metadata": {
        "colab": {
          "base_uri": "https://localhost:8080/"
        },
        "id": "in5tOt02_P4c",
        "outputId": "893a213c-294a-4da5-e175-89c4cb1dce59"
      },
      "source": [
        "# Dimension of the Department Df\n",
        "departmentDf.shape"
      ],
      "execution_count": null,
      "outputs": [
        {
          "output_type": "execute_result",
          "data": {
            "text/plain": [
              "(11, 3)"
            ]
          },
          "metadata": {
            "tags": []
          },
          "execution_count": 18
        }
      ]
    },
    {
      "cell_type": "code",
      "metadata": {
        "colab": {
          "base_uri": "https://localhost:8080/"
        },
        "id": "iupmZgAJ_XzC",
        "outputId": "60527c13-3234-4955-eb69-fce2feffebbf"
      },
      "source": [
        "#Check Missing Values in Department dataset\n",
        "departmentDf.isnull().sum()"
      ],
      "execution_count": null,
      "outputs": [
        {
          "output_type": "execute_result",
          "data": {
            "text/plain": [
              "dept_id      0\n",
              "dept_name    0\n",
              "dept_head    0\n",
              "dtype: int64"
            ]
          },
          "metadata": {
            "tags": []
          },
          "execution_count": 19
        }
      ]
    },
    {
      "cell_type": "markdown",
      "metadata": {
        "id": "hBF52wcu_PWP"
      },
      "source": [
        "> Using ```info```we get following insights for all 3 datasets \n",
        "- For Department Table, there are 11 unique Departments\n",
        "- 14245 Employees in the Employee Details table whereas 14150 employees admistrative information is populated in the Employees Admistrative table.\n",
        "- In the employee administrative table there few columns like filed complaint, recently Promoted information is not populated for all rows\n",
        "- Employee Id is common between Employee details and employee Administrative table.\n",
        "\n"
      ]
    },
    {
      "cell_type": "markdown",
      "metadata": {
        "id": "yVKqs5UGERoF"
      },
      "source": [
        "**Observations**\n",
        "*  Null values in Filed Complaint and Recently Promoted column. We need to replace the NAN with valid values like 0 for not Promoted or Not filed complaints columns"
      ]
    },
    {
      "cell_type": "markdown",
      "metadata": {
        "id": "OeGqg2S5DqZf"
      },
      "source": [
        "<a id=section6></a>\n",
        "## **6. Data Preprocessing**"
      ]
    },
    {
      "cell_type": "markdown",
      "metadata": {
        "id": "D3PKtXzoKrTv"
      },
      "source": [
        " ### **6.1.1 Treating missing  values for Promoted and filed Complaints and Last Evaluation columns**"
      ]
    },
    {
      "cell_type": "code",
      "metadata": {
        "id": "Ve6lJ79tKolq"
      },
      "source": [
        "EmployeeDf.fillna({'filed_complaint': 0,'recently_promoted': 0, 'last_evaluation': 0}, inplace = True)"
      ],
      "execution_count": null,
      "outputs": []
    },
    {
      "cell_type": "code",
      "metadata": {
        "colab": {
          "base_uri": "https://localhost:8080/",
          "height": 406
        },
        "id": "I354hZpyLC78",
        "outputId": "df37b6b5-21b1-4938-bde5-10abe325c8cc"
      },
      "source": [
        "# Describe Employee dataset\n",
        "EmployeeDf.describe(include= \"all\")"
      ],
      "execution_count": null,
      "outputs": [
        {
          "output_type": "execute_result",
          "data": {
            "text/html": [
              "<div>\n",
              "<style scoped>\n",
              "    .dataframe tbody tr th:only-of-type {\n",
              "        vertical-align: middle;\n",
              "    }\n",
              "\n",
              "    .dataframe tbody tr th {\n",
              "        vertical-align: top;\n",
              "    }\n",
              "\n",
              "    .dataframe thead th {\n",
              "        text-align: right;\n",
              "    }\n",
              "</style>\n",
              "<table border=\"1\" class=\"dataframe\">\n",
              "  <thead>\n",
              "    <tr style=\"text-align: right;\">\n",
              "      <th></th>\n",
              "      <th>avg_monthly_hrs</th>\n",
              "      <th>department</th>\n",
              "      <th>filed_complaint</th>\n",
              "      <th>last_evaluation</th>\n",
              "      <th>n_projects</th>\n",
              "      <th>recently_promoted</th>\n",
              "      <th>salary</th>\n",
              "      <th>satisfaction</th>\n",
              "      <th>status</th>\n",
              "      <th>tenure</th>\n",
              "      <th>employee_id</th>\n",
              "    </tr>\n",
              "  </thead>\n",
              "  <tbody>\n",
              "    <tr>\n",
              "      <th>count</th>\n",
              "      <td>14150.000000</td>\n",
              "      <td>13443</td>\n",
              "      <td>14150.000000</td>\n",
              "      <td>14150.000000</td>\n",
              "      <td>14150.000000</td>\n",
              "      <td>14150.000000</td>\n",
              "      <td>14150</td>\n",
              "      <td>14000.000000</td>\n",
              "      <td>14150</td>\n",
              "      <td>14000.000000</td>\n",
              "      <td>14150.000000</td>\n",
              "    </tr>\n",
              "    <tr>\n",
              "      <th>unique</th>\n",
              "      <td>NaN</td>\n",
              "      <td>12</td>\n",
              "      <td>NaN</td>\n",
              "      <td>NaN</td>\n",
              "      <td>NaN</td>\n",
              "      <td>NaN</td>\n",
              "      <td>3</td>\n",
              "      <td>NaN</td>\n",
              "      <td>2</td>\n",
              "      <td>NaN</td>\n",
              "      <td>NaN</td>\n",
              "    </tr>\n",
              "    <tr>\n",
              "      <th>top</th>\n",
              "      <td>NaN</td>\n",
              "      <td>D00-SS</td>\n",
              "      <td>NaN</td>\n",
              "      <td>NaN</td>\n",
              "      <td>NaN</td>\n",
              "      <td>NaN</td>\n",
              "      <td>low</td>\n",
              "      <td>NaN</td>\n",
              "      <td>Employed</td>\n",
              "      <td>NaN</td>\n",
              "      <td>NaN</td>\n",
              "    </tr>\n",
              "    <tr>\n",
              "      <th>freq</th>\n",
              "      <td>NaN</td>\n",
              "      <td>3905</td>\n",
              "      <td>NaN</td>\n",
              "      <td>NaN</td>\n",
              "      <td>NaN</td>\n",
              "      <td>NaN</td>\n",
              "      <td>6906</td>\n",
              "      <td>NaN</td>\n",
              "      <td>10784</td>\n",
              "      <td>NaN</td>\n",
              "      <td>NaN</td>\n",
              "    </tr>\n",
              "    <tr>\n",
              "      <th>mean</th>\n",
              "      <td>199.994346</td>\n",
              "      <td>NaN</td>\n",
              "      <td>0.144594</td>\n",
              "      <td>0.642904</td>\n",
              "      <td>3.778304</td>\n",
              "      <td>0.020989</td>\n",
              "      <td>NaN</td>\n",
              "      <td>0.621212</td>\n",
              "      <td>NaN</td>\n",
              "      <td>3.499357</td>\n",
              "      <td>112080.750247</td>\n",
              "    </tr>\n",
              "    <tr>\n",
              "      <th>std</th>\n",
              "      <td>50.833697</td>\n",
              "      <td>NaN</td>\n",
              "      <td>0.351703</td>\n",
              "      <td>0.274512</td>\n",
              "      <td>1.250162</td>\n",
              "      <td>0.143354</td>\n",
              "      <td>NaN</td>\n",
              "      <td>0.250482</td>\n",
              "      <td>NaN</td>\n",
              "      <td>1.462584</td>\n",
              "      <td>8748.202856</td>\n",
              "    </tr>\n",
              "    <tr>\n",
              "      <th>min</th>\n",
              "      <td>49.000000</td>\n",
              "      <td>NaN</td>\n",
              "      <td>0.000000</td>\n",
              "      <td>0.000000</td>\n",
              "      <td>1.000000</td>\n",
              "      <td>0.000000</td>\n",
              "      <td>NaN</td>\n",
              "      <td>0.040058</td>\n",
              "      <td>NaN</td>\n",
              "      <td>2.000000</td>\n",
              "      <td>0.000000</td>\n",
              "    </tr>\n",
              "    <tr>\n",
              "      <th>25%</th>\n",
              "      <td>155.000000</td>\n",
              "      <td>NaN</td>\n",
              "      <td>0.000000</td>\n",
              "      <td>0.522031</td>\n",
              "      <td>3.000000</td>\n",
              "      <td>0.000000</td>\n",
              "      <td>NaN</td>\n",
              "      <td>0.450356</td>\n",
              "      <td>NaN</td>\n",
              "      <td>3.000000</td>\n",
              "      <td>105772.500000</td>\n",
              "    </tr>\n",
              "    <tr>\n",
              "      <th>50%</th>\n",
              "      <td>199.000000</td>\n",
              "      <td>NaN</td>\n",
              "      <td>0.000000</td>\n",
              "      <td>0.683553</td>\n",
              "      <td>4.000000</td>\n",
              "      <td>0.000000</td>\n",
              "      <td>NaN</td>\n",
              "      <td>0.652394</td>\n",
              "      <td>NaN</td>\n",
              "      <td>3.000000</td>\n",
              "      <td>111291.500000</td>\n",
              "    </tr>\n",
              "    <tr>\n",
              "      <th>75%</th>\n",
              "      <td>245.000000</td>\n",
              "      <td>NaN</td>\n",
              "      <td>0.000000</td>\n",
              "      <td>0.857037</td>\n",
              "      <td>5.000000</td>\n",
              "      <td>0.000000</td>\n",
              "      <td>NaN</td>\n",
              "      <td>0.824926</td>\n",
              "      <td>NaN</td>\n",
              "      <td>4.000000</td>\n",
              "      <td>116650.750000</td>\n",
              "    </tr>\n",
              "    <tr>\n",
              "      <th>max</th>\n",
              "      <td>310.000000</td>\n",
              "      <td>NaN</td>\n",
              "      <td>1.000000</td>\n",
              "      <td>1.000000</td>\n",
              "      <td>7.000000</td>\n",
              "      <td>1.000000</td>\n",
              "      <td>NaN</td>\n",
              "      <td>1.000000</td>\n",
              "      <td>NaN</td>\n",
              "      <td>10.000000</td>\n",
              "      <td>148988.000000</td>\n",
              "    </tr>\n",
              "  </tbody>\n",
              "</table>\n",
              "</div>"
            ],
            "text/plain": [
              "        avg_monthly_hrs department  ...        tenure    employee_id\n",
              "count      14150.000000      13443  ...  14000.000000   14150.000000\n",
              "unique              NaN         12  ...           NaN            NaN\n",
              "top                 NaN     D00-SS  ...           NaN            NaN\n",
              "freq                NaN       3905  ...           NaN            NaN\n",
              "mean         199.994346        NaN  ...      3.499357  112080.750247\n",
              "std           50.833697        NaN  ...      1.462584    8748.202856\n",
              "min           49.000000        NaN  ...      2.000000       0.000000\n",
              "25%          155.000000        NaN  ...      3.000000  105772.500000\n",
              "50%          199.000000        NaN  ...      3.000000  111291.500000\n",
              "75%          245.000000        NaN  ...      4.000000  116650.750000\n",
              "max          310.000000        NaN  ...     10.000000  148988.000000\n",
              "\n",
              "[11 rows x 11 columns]"
            ]
          },
          "metadata": {
            "tags": []
          },
          "execution_count": 21
        }
      ]
    },
    {
      "cell_type": "markdown",
      "metadata": {
        "id": "PU4xhCaaNXzU"
      },
      "source": [
        "### **6.1.2 Treating Missing Department and incorrect Department value**"
      ]
    },
    {
      "cell_type": "code",
      "metadata": {
        "colab": {
          "base_uri": "https://localhost:8080/",
          "height": 35
        },
        "id": "ViGa8cFydk60",
        "outputId": "08049e4c-c135-48a6-880f-b7190aa3d66a"
      },
      "source": [
        "EmployeeDf['department'].mode()[0]"
      ],
      "execution_count": null,
      "outputs": [
        {
          "output_type": "execute_result",
          "data": {
            "application/vnd.google.colaboratory.intrinsic+json": {
              "type": "string"
            },
            "text/plain": [
              "'D00-SS'"
            ]
          },
          "metadata": {
            "tags": []
          },
          "execution_count": 22
        }
      ]
    },
    {
      "cell_type": "code",
      "metadata": {
        "id": "-lZy7-ZMLXct"
      },
      "source": [
        "# Replace the missing department values of Employee dataset with Mode value\n",
        "EmployeeDf['department'].fillna('D00-SS', inplace=True)\n",
        "\n"
      ],
      "execution_count": null,
      "outputs": []
    },
    {
      "cell_type": "code",
      "metadata": {
        "colab": {
          "base_uri": "https://localhost:8080/"
        },
        "id": "qBprrqNZLvOh",
        "outputId": "8e18eaff-56a9-41b4-bf0a-a25ce8942a4a"
      },
      "source": [
        "EmployeeDf['department'].unique()"
      ],
      "execution_count": null,
      "outputs": [
        {
          "output_type": "execute_result",
          "data": {
            "text/plain": [
              "array(['D00-SS', 'D00-SP', 'D00-MT', 'D00-PD', 'D00-IT', 'D00-AD',\n",
              "       'D00-MN', 'D00-ENG', 'D00-PR', 'D00-TP', 'D00-FN', '-IT'],\n",
              "      dtype=object)"
            ]
          },
          "metadata": {
            "tags": []
          },
          "execution_count": 24
        }
      ]
    },
    {
      "cell_type": "code",
      "metadata": {
        "id": "tYhVtT2ZLwcN"
      },
      "source": [
        "EmployeeDf.replace({'-IT': \"D00-IT\"}, inplace = True)"
      ],
      "execution_count": null,
      "outputs": []
    },
    {
      "cell_type": "code",
      "metadata": {
        "colab": {
          "base_uri": "https://localhost:8080/"
        },
        "id": "WJG6ITPEL6By",
        "outputId": "7b2fc334-584c-452b-8d09-41f40dc9cc31"
      },
      "source": [
        "EmployeeDf['department'].unique()"
      ],
      "execution_count": null,
      "outputs": [
        {
          "output_type": "execute_result",
          "data": {
            "text/plain": [
              "array(['D00-SS', 'D00-SP', 'D00-MT', 'D00-PD', 'D00-IT', 'D00-AD',\n",
              "       'D00-MN', 'D00-ENG', 'D00-PR', 'D00-TP', 'D00-FN'], dtype=object)"
            ]
          },
          "metadata": {
            "tags": []
          },
          "execution_count": 26
        }
      ]
    },
    {
      "cell_type": "code",
      "metadata": {
        "colab": {
          "base_uri": "https://localhost:8080/"
        },
        "id": "kPiXo4PndAzm",
        "outputId": "ce69dc5f-9190-49c5-8fcd-29dac7c26769"
      },
      "source": [
        "EmployeeDf.isnull().sum()"
      ],
      "execution_count": null,
      "outputs": [
        {
          "output_type": "execute_result",
          "data": {
            "text/plain": [
              "avg_monthly_hrs        0\n",
              "department             0\n",
              "filed_complaint        0\n",
              "last_evaluation        0\n",
              "n_projects             0\n",
              "recently_promoted      0\n",
              "salary                 0\n",
              "satisfaction         150\n",
              "status                 0\n",
              "tenure               150\n",
              "employee_id            0\n",
              "dtype: int64"
            ]
          },
          "metadata": {
            "tags": []
          },
          "execution_count": 27
        }
      ]
    },
    {
      "cell_type": "markdown",
      "metadata": {
        "id": "2VDXwV6SOVn-"
      },
      "source": [
        "### **6.1.3 Checking Missing value for satisfication column of EmployeeDf**"
      ]
    },
    {
      "cell_type": "code",
      "metadata": {
        "colab": {
          "base_uri": "https://localhost:8080/",
          "height": 435
        },
        "id": "CL4LIpikOWL6",
        "outputId": "9b070492-82cc-4617-e46b-faa6e9010798"
      },
      "source": [
        "EmployeeDf[EmployeeDf[\"satisfaction\"].isna()]"
      ],
      "execution_count": null,
      "outputs": [
        {
          "output_type": "execute_result",
          "data": {
            "text/html": [
              "<div>\n",
              "<style scoped>\n",
              "    .dataframe tbody tr th:only-of-type {\n",
              "        vertical-align: middle;\n",
              "    }\n",
              "\n",
              "    .dataframe tbody tr th {\n",
              "        vertical-align: top;\n",
              "    }\n",
              "\n",
              "    .dataframe thead th {\n",
              "        text-align: right;\n",
              "    }\n",
              "</style>\n",
              "<table border=\"1\" class=\"dataframe\">\n",
              "  <thead>\n",
              "    <tr style=\"text-align: right;\">\n",
              "      <th></th>\n",
              "      <th>avg_monthly_hrs</th>\n",
              "      <th>department</th>\n",
              "      <th>filed_complaint</th>\n",
              "      <th>last_evaluation</th>\n",
              "      <th>n_projects</th>\n",
              "      <th>recently_promoted</th>\n",
              "      <th>salary</th>\n",
              "      <th>satisfaction</th>\n",
              "      <th>status</th>\n",
              "      <th>tenure</th>\n",
              "      <th>employee_id</th>\n",
              "    </tr>\n",
              "  </thead>\n",
              "  <tbody>\n",
              "    <tr>\n",
              "      <th>44</th>\n",
              "      <td>125.0</td>\n",
              "      <td>D00-TP</td>\n",
              "      <td>0.0</td>\n",
              "      <td>0.0</td>\n",
              "      <td>3</td>\n",
              "      <td>0.0</td>\n",
              "      <td>medium</td>\n",
              "      <td>NaN</td>\n",
              "      <td>Left</td>\n",
              "      <td>NaN</td>\n",
              "      <td>120360</td>\n",
              "    </tr>\n",
              "    <tr>\n",
              "      <th>245</th>\n",
              "      <td>124.0</td>\n",
              "      <td>D00-TP</td>\n",
              "      <td>0.0</td>\n",
              "      <td>0.0</td>\n",
              "      <td>3</td>\n",
              "      <td>0.0</td>\n",
              "      <td>low</td>\n",
              "      <td>NaN</td>\n",
              "      <td>Left</td>\n",
              "      <td>NaN</td>\n",
              "      <td>116012</td>\n",
              "    </tr>\n",
              "    <tr>\n",
              "      <th>251</th>\n",
              "      <td>119.0</td>\n",
              "      <td>D00-TP</td>\n",
              "      <td>0.0</td>\n",
              "      <td>0.0</td>\n",
              "      <td>2</td>\n",
              "      <td>0.0</td>\n",
              "      <td>medium</td>\n",
              "      <td>NaN</td>\n",
              "      <td>Left</td>\n",
              "      <td>NaN</td>\n",
              "      <td>116287</td>\n",
              "    </tr>\n",
              "    <tr>\n",
              "      <th>414</th>\n",
              "      <td>126.0</td>\n",
              "      <td>D00-TP</td>\n",
              "      <td>0.0</td>\n",
              "      <td>0.0</td>\n",
              "      <td>2</td>\n",
              "      <td>0.0</td>\n",
              "      <td>low</td>\n",
              "      <td>NaN</td>\n",
              "      <td>Left</td>\n",
              "      <td>NaN</td>\n",
              "      <td>115235</td>\n",
              "    </tr>\n",
              "    <tr>\n",
              "      <th>468</th>\n",
              "      <td>65.0</td>\n",
              "      <td>D00-TP</td>\n",
              "      <td>0.0</td>\n",
              "      <td>0.0</td>\n",
              "      <td>1</td>\n",
              "      <td>0.0</td>\n",
              "      <td>high</td>\n",
              "      <td>NaN</td>\n",
              "      <td>Left</td>\n",
              "      <td>NaN</td>\n",
              "      <td>122769</td>\n",
              "    </tr>\n",
              "    <tr>\n",
              "      <th>...</th>\n",
              "      <td>...</td>\n",
              "      <td>...</td>\n",
              "      <td>...</td>\n",
              "      <td>...</td>\n",
              "      <td>...</td>\n",
              "      <td>...</td>\n",
              "      <td>...</td>\n",
              "      <td>...</td>\n",
              "      <td>...</td>\n",
              "      <td>...</td>\n",
              "      <td>...</td>\n",
              "    </tr>\n",
              "    <tr>\n",
              "      <th>13741</th>\n",
              "      <td>122.0</td>\n",
              "      <td>D00-TP</td>\n",
              "      <td>0.0</td>\n",
              "      <td>0.0</td>\n",
              "      <td>2</td>\n",
              "      <td>0.0</td>\n",
              "      <td>medium</td>\n",
              "      <td>NaN</td>\n",
              "      <td>Employed</td>\n",
              "      <td>NaN</td>\n",
              "      <td>111990</td>\n",
              "    </tr>\n",
              "    <tr>\n",
              "      <th>13774</th>\n",
              "      <td>49.0</td>\n",
              "      <td>D00-TP</td>\n",
              "      <td>0.0</td>\n",
              "      <td>0.0</td>\n",
              "      <td>2</td>\n",
              "      <td>0.0</td>\n",
              "      <td>low</td>\n",
              "      <td>NaN</td>\n",
              "      <td>Employed</td>\n",
              "      <td>NaN</td>\n",
              "      <td>148021</td>\n",
              "    </tr>\n",
              "    <tr>\n",
              "      <th>13841</th>\n",
              "      <td>97.0</td>\n",
              "      <td>D00-TP</td>\n",
              "      <td>1.0</td>\n",
              "      <td>0.0</td>\n",
              "      <td>1</td>\n",
              "      <td>0.0</td>\n",
              "      <td>medium</td>\n",
              "      <td>NaN</td>\n",
              "      <td>Employed</td>\n",
              "      <td>NaN</td>\n",
              "      <td>116171</td>\n",
              "    </tr>\n",
              "    <tr>\n",
              "      <th>13905</th>\n",
              "      <td>132.0</td>\n",
              "      <td>D00-TP</td>\n",
              "      <td>0.0</td>\n",
              "      <td>0.0</td>\n",
              "      <td>2</td>\n",
              "      <td>0.0</td>\n",
              "      <td>medium</td>\n",
              "      <td>NaN</td>\n",
              "      <td>Left</td>\n",
              "      <td>NaN</td>\n",
              "      <td>106482</td>\n",
              "    </tr>\n",
              "    <tr>\n",
              "      <th>13960</th>\n",
              "      <td>116.0</td>\n",
              "      <td>D00-TP</td>\n",
              "      <td>0.0</td>\n",
              "      <td>0.0</td>\n",
              "      <td>2</td>\n",
              "      <td>0.0</td>\n",
              "      <td>low</td>\n",
              "      <td>NaN</td>\n",
              "      <td>Employed</td>\n",
              "      <td>NaN</td>\n",
              "      <td>105231</td>\n",
              "    </tr>\n",
              "  </tbody>\n",
              "</table>\n",
              "<p>150 rows × 11 columns</p>\n",
              "</div>"
            ],
            "text/plain": [
              "       avg_monthly_hrs department  ...  tenure  employee_id\n",
              "44               125.0     D00-TP  ...     NaN       120360\n",
              "245              124.0     D00-TP  ...     NaN       116012\n",
              "251              119.0     D00-TP  ...     NaN       116287\n",
              "414              126.0     D00-TP  ...     NaN       115235\n",
              "468               65.0     D00-TP  ...     NaN       122769\n",
              "...                ...        ...  ...     ...          ...\n",
              "13741            122.0     D00-TP  ...     NaN       111990\n",
              "13774             49.0     D00-TP  ...     NaN       148021\n",
              "13841             97.0     D00-TP  ...     NaN       116171\n",
              "13905            132.0     D00-TP  ...     NaN       106482\n",
              "13960            116.0     D00-TP  ...     NaN       105231\n",
              "\n",
              "[150 rows x 11 columns]"
            ]
          },
          "metadata": {
            "tags": []
          },
          "execution_count": 28
        }
      ]
    },
    {
      "cell_type": "code",
      "metadata": {
        "id": "o89EYDUbOh2K"
      },
      "source": [
        "# file the missing values for satisfaction with Mean value\n",
        "EmployeeDf['satisfaction'].fillna(EmployeeDf['satisfaction'].mean(), inplace=True)"
      ],
      "execution_count": null,
      "outputs": []
    },
    {
      "cell_type": "markdown",
      "metadata": {
        "id": "mDw6mTYqPIlH"
      },
      "source": [
        "### **6.1.4 Checking Missing value for Tenure column of EmployeeDf**"
      ]
    },
    {
      "cell_type": "code",
      "metadata": {
        "colab": {
          "base_uri": "https://localhost:8080/",
          "height": 435
        },
        "id": "ThBo0FgOPJDS",
        "outputId": "0f634db9-54c1-4ed5-cfcd-6c75e9492074"
      },
      "source": [
        "# Code to filter out state specific rows\n",
        "EmployeeDf[EmployeeDf[\"tenure\"].isna()]"
      ],
      "execution_count": null,
      "outputs": [
        {
          "output_type": "execute_result",
          "data": {
            "text/html": [
              "<div>\n",
              "<style scoped>\n",
              "    .dataframe tbody tr th:only-of-type {\n",
              "        vertical-align: middle;\n",
              "    }\n",
              "\n",
              "    .dataframe tbody tr th {\n",
              "        vertical-align: top;\n",
              "    }\n",
              "\n",
              "    .dataframe thead th {\n",
              "        text-align: right;\n",
              "    }\n",
              "</style>\n",
              "<table border=\"1\" class=\"dataframe\">\n",
              "  <thead>\n",
              "    <tr style=\"text-align: right;\">\n",
              "      <th></th>\n",
              "      <th>avg_monthly_hrs</th>\n",
              "      <th>department</th>\n",
              "      <th>filed_complaint</th>\n",
              "      <th>last_evaluation</th>\n",
              "      <th>n_projects</th>\n",
              "      <th>recently_promoted</th>\n",
              "      <th>salary</th>\n",
              "      <th>satisfaction</th>\n",
              "      <th>status</th>\n",
              "      <th>tenure</th>\n",
              "      <th>employee_id</th>\n",
              "    </tr>\n",
              "  </thead>\n",
              "  <tbody>\n",
              "    <tr>\n",
              "      <th>44</th>\n",
              "      <td>125.0</td>\n",
              "      <td>D00-TP</td>\n",
              "      <td>0.0</td>\n",
              "      <td>0.0</td>\n",
              "      <td>3</td>\n",
              "      <td>0.0</td>\n",
              "      <td>medium</td>\n",
              "      <td>0.621212</td>\n",
              "      <td>Left</td>\n",
              "      <td>NaN</td>\n",
              "      <td>120360</td>\n",
              "    </tr>\n",
              "    <tr>\n",
              "      <th>245</th>\n",
              "      <td>124.0</td>\n",
              "      <td>D00-TP</td>\n",
              "      <td>0.0</td>\n",
              "      <td>0.0</td>\n",
              "      <td>3</td>\n",
              "      <td>0.0</td>\n",
              "      <td>low</td>\n",
              "      <td>0.621212</td>\n",
              "      <td>Left</td>\n",
              "      <td>NaN</td>\n",
              "      <td>116012</td>\n",
              "    </tr>\n",
              "    <tr>\n",
              "      <th>251</th>\n",
              "      <td>119.0</td>\n",
              "      <td>D00-TP</td>\n",
              "      <td>0.0</td>\n",
              "      <td>0.0</td>\n",
              "      <td>2</td>\n",
              "      <td>0.0</td>\n",
              "      <td>medium</td>\n",
              "      <td>0.621212</td>\n",
              "      <td>Left</td>\n",
              "      <td>NaN</td>\n",
              "      <td>116287</td>\n",
              "    </tr>\n",
              "    <tr>\n",
              "      <th>414</th>\n",
              "      <td>126.0</td>\n",
              "      <td>D00-TP</td>\n",
              "      <td>0.0</td>\n",
              "      <td>0.0</td>\n",
              "      <td>2</td>\n",
              "      <td>0.0</td>\n",
              "      <td>low</td>\n",
              "      <td>0.621212</td>\n",
              "      <td>Left</td>\n",
              "      <td>NaN</td>\n",
              "      <td>115235</td>\n",
              "    </tr>\n",
              "    <tr>\n",
              "      <th>468</th>\n",
              "      <td>65.0</td>\n",
              "      <td>D00-TP</td>\n",
              "      <td>0.0</td>\n",
              "      <td>0.0</td>\n",
              "      <td>1</td>\n",
              "      <td>0.0</td>\n",
              "      <td>high</td>\n",
              "      <td>0.621212</td>\n",
              "      <td>Left</td>\n",
              "      <td>NaN</td>\n",
              "      <td>122769</td>\n",
              "    </tr>\n",
              "    <tr>\n",
              "      <th>...</th>\n",
              "      <td>...</td>\n",
              "      <td>...</td>\n",
              "      <td>...</td>\n",
              "      <td>...</td>\n",
              "      <td>...</td>\n",
              "      <td>...</td>\n",
              "      <td>...</td>\n",
              "      <td>...</td>\n",
              "      <td>...</td>\n",
              "      <td>...</td>\n",
              "      <td>...</td>\n",
              "    </tr>\n",
              "    <tr>\n",
              "      <th>13741</th>\n",
              "      <td>122.0</td>\n",
              "      <td>D00-TP</td>\n",
              "      <td>0.0</td>\n",
              "      <td>0.0</td>\n",
              "      <td>2</td>\n",
              "      <td>0.0</td>\n",
              "      <td>medium</td>\n",
              "      <td>0.621212</td>\n",
              "      <td>Employed</td>\n",
              "      <td>NaN</td>\n",
              "      <td>111990</td>\n",
              "    </tr>\n",
              "    <tr>\n",
              "      <th>13774</th>\n",
              "      <td>49.0</td>\n",
              "      <td>D00-TP</td>\n",
              "      <td>0.0</td>\n",
              "      <td>0.0</td>\n",
              "      <td>2</td>\n",
              "      <td>0.0</td>\n",
              "      <td>low</td>\n",
              "      <td>0.621212</td>\n",
              "      <td>Employed</td>\n",
              "      <td>NaN</td>\n",
              "      <td>148021</td>\n",
              "    </tr>\n",
              "    <tr>\n",
              "      <th>13841</th>\n",
              "      <td>97.0</td>\n",
              "      <td>D00-TP</td>\n",
              "      <td>1.0</td>\n",
              "      <td>0.0</td>\n",
              "      <td>1</td>\n",
              "      <td>0.0</td>\n",
              "      <td>medium</td>\n",
              "      <td>0.621212</td>\n",
              "      <td>Employed</td>\n",
              "      <td>NaN</td>\n",
              "      <td>116171</td>\n",
              "    </tr>\n",
              "    <tr>\n",
              "      <th>13905</th>\n",
              "      <td>132.0</td>\n",
              "      <td>D00-TP</td>\n",
              "      <td>0.0</td>\n",
              "      <td>0.0</td>\n",
              "      <td>2</td>\n",
              "      <td>0.0</td>\n",
              "      <td>medium</td>\n",
              "      <td>0.621212</td>\n",
              "      <td>Left</td>\n",
              "      <td>NaN</td>\n",
              "      <td>106482</td>\n",
              "    </tr>\n",
              "    <tr>\n",
              "      <th>13960</th>\n",
              "      <td>116.0</td>\n",
              "      <td>D00-TP</td>\n",
              "      <td>0.0</td>\n",
              "      <td>0.0</td>\n",
              "      <td>2</td>\n",
              "      <td>0.0</td>\n",
              "      <td>low</td>\n",
              "      <td>0.621212</td>\n",
              "      <td>Employed</td>\n",
              "      <td>NaN</td>\n",
              "      <td>105231</td>\n",
              "    </tr>\n",
              "  </tbody>\n",
              "</table>\n",
              "<p>150 rows × 11 columns</p>\n",
              "</div>"
            ],
            "text/plain": [
              "       avg_monthly_hrs department  ...  tenure  employee_id\n",
              "44               125.0     D00-TP  ...     NaN       120360\n",
              "245              124.0     D00-TP  ...     NaN       116012\n",
              "251              119.0     D00-TP  ...     NaN       116287\n",
              "414              126.0     D00-TP  ...     NaN       115235\n",
              "468               65.0     D00-TP  ...     NaN       122769\n",
              "...                ...        ...  ...     ...          ...\n",
              "13741            122.0     D00-TP  ...     NaN       111990\n",
              "13774             49.0     D00-TP  ...     NaN       148021\n",
              "13841             97.0     D00-TP  ...     NaN       116171\n",
              "13905            132.0     D00-TP  ...     NaN       106482\n",
              "13960            116.0     D00-TP  ...     NaN       105231\n",
              "\n",
              "[150 rows x 11 columns]"
            ]
          },
          "metadata": {
            "tags": []
          },
          "execution_count": 30
        }
      ]
    },
    {
      "cell_type": "code",
      "metadata": {
        "id": "WI4AFqctPZgH"
      },
      "source": [
        "# file the missing values for tenure with Mean value\n",
        "EmployeeDf['tenure'].fillna(EmployeeDf['tenure'].mean(), inplace=True)"
      ],
      "execution_count": null,
      "outputs": []
    },
    {
      "cell_type": "code",
      "metadata": {
        "colab": {
          "base_uri": "https://localhost:8080/",
          "height": 222
        },
        "id": "sJCCql-2PePW",
        "outputId": "654bcad2-1fc3-4390-9f03-b693ec840f61"
      },
      "source": [
        "EmployeeDf.head()"
      ],
      "execution_count": null,
      "outputs": [
        {
          "output_type": "execute_result",
          "data": {
            "text/html": [
              "<div>\n",
              "<style scoped>\n",
              "    .dataframe tbody tr th:only-of-type {\n",
              "        vertical-align: middle;\n",
              "    }\n",
              "\n",
              "    .dataframe tbody tr th {\n",
              "        vertical-align: top;\n",
              "    }\n",
              "\n",
              "    .dataframe thead th {\n",
              "        text-align: right;\n",
              "    }\n",
              "</style>\n",
              "<table border=\"1\" class=\"dataframe\">\n",
              "  <thead>\n",
              "    <tr style=\"text-align: right;\">\n",
              "      <th></th>\n",
              "      <th>avg_monthly_hrs</th>\n",
              "      <th>department</th>\n",
              "      <th>filed_complaint</th>\n",
              "      <th>last_evaluation</th>\n",
              "      <th>n_projects</th>\n",
              "      <th>recently_promoted</th>\n",
              "      <th>salary</th>\n",
              "      <th>satisfaction</th>\n",
              "      <th>status</th>\n",
              "      <th>tenure</th>\n",
              "      <th>employee_id</th>\n",
              "    </tr>\n",
              "  </thead>\n",
              "  <tbody>\n",
              "    <tr>\n",
              "      <th>0</th>\n",
              "      <td>246.0</td>\n",
              "      <td>D00-SS</td>\n",
              "      <td>0.0</td>\n",
              "      <td>0.866838</td>\n",
              "      <td>6</td>\n",
              "      <td>0.0</td>\n",
              "      <td>medium</td>\n",
              "      <td>0.134415</td>\n",
              "      <td>Left</td>\n",
              "      <td>4.0</td>\n",
              "      <td>124467</td>\n",
              "    </tr>\n",
              "    <tr>\n",
              "      <th>1</th>\n",
              "      <td>134.0</td>\n",
              "      <td>D00-SS</td>\n",
              "      <td>0.0</td>\n",
              "      <td>0.555718</td>\n",
              "      <td>2</td>\n",
              "      <td>0.0</td>\n",
              "      <td>low</td>\n",
              "      <td>0.511041</td>\n",
              "      <td>Left</td>\n",
              "      <td>3.0</td>\n",
              "      <td>112210</td>\n",
              "    </tr>\n",
              "    <tr>\n",
              "      <th>2</th>\n",
              "      <td>156.0</td>\n",
              "      <td>D00-SS</td>\n",
              "      <td>1.0</td>\n",
              "      <td>0.474082</td>\n",
              "      <td>2</td>\n",
              "      <td>0.0</td>\n",
              "      <td>medium</td>\n",
              "      <td>0.405101</td>\n",
              "      <td>Left</td>\n",
              "      <td>3.0</td>\n",
              "      <td>126150</td>\n",
              "    </tr>\n",
              "    <tr>\n",
              "      <th>3</th>\n",
              "      <td>256.0</td>\n",
              "      <td>D00-SP</td>\n",
              "      <td>0.0</td>\n",
              "      <td>0.961360</td>\n",
              "      <td>6</td>\n",
              "      <td>0.0</td>\n",
              "      <td>low</td>\n",
              "      <td>0.152974</td>\n",
              "      <td>Left</td>\n",
              "      <td>4.0</td>\n",
              "      <td>125346</td>\n",
              "    </tr>\n",
              "    <tr>\n",
              "      <th>4</th>\n",
              "      <td>146.0</td>\n",
              "      <td>D00-SS</td>\n",
              "      <td>0.0</td>\n",
              "      <td>0.507349</td>\n",
              "      <td>2</td>\n",
              "      <td>0.0</td>\n",
              "      <td>medium</td>\n",
              "      <td>0.434845</td>\n",
              "      <td>Left</td>\n",
              "      <td>3.0</td>\n",
              "      <td>113707</td>\n",
              "    </tr>\n",
              "  </tbody>\n",
              "</table>\n",
              "</div>"
            ],
            "text/plain": [
              "   avg_monthly_hrs department  filed_complaint  ...  status  tenure  employee_id\n",
              "0            246.0     D00-SS              0.0  ...    Left     4.0       124467\n",
              "1            134.0     D00-SS              0.0  ...    Left     3.0       112210\n",
              "2            156.0     D00-SS              1.0  ...    Left     3.0       126150\n",
              "3            256.0     D00-SP              0.0  ...    Left     4.0       125346\n",
              "4            146.0     D00-SS              0.0  ...    Left     3.0       113707\n",
              "\n",
              "[5 rows x 11 columns]"
            ]
          },
          "metadata": {
            "tags": []
          },
          "execution_count": 32
        }
      ]
    },
    {
      "cell_type": "markdown",
      "metadata": {
        "id": "5lQrTt7jPsZe"
      },
      "source": [
        "***Observations***\n",
        "*   There are missing values in Employee administrative details table.\n",
        "- For last evaluation column we have 10.5% Missing Data and for department 5 % missing data and for tenure and Satisfaction survey 1% missing data.\n",
        "- We need to treat the last evaluation data and Department column as the missing data % is pretty high. For tenure and satisifaction survey, we can safely assume that 1% employees are new joines and we can either prefill tenure as 0 and satisfaction as 1.or we can drop these rows."
      ]
    },
    {
      "cell_type": "code",
      "metadata": {
        "colab": {
          "base_uri": "https://localhost:8080/",
          "height": 314
        },
        "id": "65QYbc6wV4Xs",
        "outputId": "8b428100-fbba-4f3d-b956-8dd1d638cd12"
      },
      "source": [
        "# Summarize numerical features\n",
        "EmployeeDf.describe()"
      ],
      "execution_count": null,
      "outputs": [
        {
          "output_type": "execute_result",
          "data": {
            "text/html": [
              "<div>\n",
              "<style scoped>\n",
              "    .dataframe tbody tr th:only-of-type {\n",
              "        vertical-align: middle;\n",
              "    }\n",
              "\n",
              "    .dataframe tbody tr th {\n",
              "        vertical-align: top;\n",
              "    }\n",
              "\n",
              "    .dataframe thead th {\n",
              "        text-align: right;\n",
              "    }\n",
              "</style>\n",
              "<table border=\"1\" class=\"dataframe\">\n",
              "  <thead>\n",
              "    <tr style=\"text-align: right;\">\n",
              "      <th></th>\n",
              "      <th>avg_monthly_hrs</th>\n",
              "      <th>filed_complaint</th>\n",
              "      <th>last_evaluation</th>\n",
              "      <th>n_projects</th>\n",
              "      <th>recently_promoted</th>\n",
              "      <th>satisfaction</th>\n",
              "      <th>tenure</th>\n",
              "      <th>employee_id</th>\n",
              "    </tr>\n",
              "  </thead>\n",
              "  <tbody>\n",
              "    <tr>\n",
              "      <th>count</th>\n",
              "      <td>14150.000000</td>\n",
              "      <td>14150.000000</td>\n",
              "      <td>14150.000000</td>\n",
              "      <td>14150.000000</td>\n",
              "      <td>14150.000000</td>\n",
              "      <td>14150.000000</td>\n",
              "      <td>14150.000000</td>\n",
              "      <td>14150.000000</td>\n",
              "    </tr>\n",
              "    <tr>\n",
              "      <th>mean</th>\n",
              "      <td>199.994346</td>\n",
              "      <td>0.144594</td>\n",
              "      <td>0.642904</td>\n",
              "      <td>3.778304</td>\n",
              "      <td>0.020989</td>\n",
              "      <td>0.621212</td>\n",
              "      <td>3.499357</td>\n",
              "      <td>112080.750247</td>\n",
              "    </tr>\n",
              "    <tr>\n",
              "      <th>std</th>\n",
              "      <td>50.833697</td>\n",
              "      <td>0.351703</td>\n",
              "      <td>0.274512</td>\n",
              "      <td>1.250162</td>\n",
              "      <td>0.143354</td>\n",
              "      <td>0.249151</td>\n",
              "      <td>1.454811</td>\n",
              "      <td>8748.202856</td>\n",
              "    </tr>\n",
              "    <tr>\n",
              "      <th>min</th>\n",
              "      <td>49.000000</td>\n",
              "      <td>0.000000</td>\n",
              "      <td>0.000000</td>\n",
              "      <td>1.000000</td>\n",
              "      <td>0.000000</td>\n",
              "      <td>0.040058</td>\n",
              "      <td>2.000000</td>\n",
              "      <td>0.000000</td>\n",
              "    </tr>\n",
              "    <tr>\n",
              "      <th>25%</th>\n",
              "      <td>155.000000</td>\n",
              "      <td>0.000000</td>\n",
              "      <td>0.522031</td>\n",
              "      <td>3.000000</td>\n",
              "      <td>0.000000</td>\n",
              "      <td>0.452824</td>\n",
              "      <td>3.000000</td>\n",
              "      <td>105772.500000</td>\n",
              "    </tr>\n",
              "    <tr>\n",
              "      <th>50%</th>\n",
              "      <td>199.000000</td>\n",
              "      <td>0.000000</td>\n",
              "      <td>0.683553</td>\n",
              "      <td>4.000000</td>\n",
              "      <td>0.000000</td>\n",
              "      <td>0.648124</td>\n",
              "      <td>3.000000</td>\n",
              "      <td>111291.500000</td>\n",
              "    </tr>\n",
              "    <tr>\n",
              "      <th>75%</th>\n",
              "      <td>245.000000</td>\n",
              "      <td>0.000000</td>\n",
              "      <td>0.857037</td>\n",
              "      <td>5.000000</td>\n",
              "      <td>0.000000</td>\n",
              "      <td>0.822965</td>\n",
              "      <td>4.000000</td>\n",
              "      <td>116650.750000</td>\n",
              "    </tr>\n",
              "    <tr>\n",
              "      <th>max</th>\n",
              "      <td>310.000000</td>\n",
              "      <td>1.000000</td>\n",
              "      <td>1.000000</td>\n",
              "      <td>7.000000</td>\n",
              "      <td>1.000000</td>\n",
              "      <td>1.000000</td>\n",
              "      <td>10.000000</td>\n",
              "      <td>148988.000000</td>\n",
              "    </tr>\n",
              "  </tbody>\n",
              "</table>\n",
              "</div>"
            ],
            "text/plain": [
              "       avg_monthly_hrs  filed_complaint  ...        tenure    employee_id\n",
              "count     14150.000000     14150.000000  ...  14150.000000   14150.000000\n",
              "mean        199.994346         0.144594  ...      3.499357  112080.750247\n",
              "std          50.833697         0.351703  ...      1.454811    8748.202856\n",
              "min          49.000000         0.000000  ...      2.000000       0.000000\n",
              "25%         155.000000         0.000000  ...      3.000000  105772.500000\n",
              "50%         199.000000         0.000000  ...      3.000000  111291.500000\n",
              "75%         245.000000         0.000000  ...      4.000000  116650.750000\n",
              "max         310.000000         1.000000  ...     10.000000  148988.000000\n",
              "\n",
              "[8 rows x 8 columns]"
            ]
          },
          "metadata": {
            "tags": []
          },
          "execution_count": 33
        }
      ]
    },
    {
      "cell_type": "markdown",
      "metadata": {
        "id": "0FGlj-40Kknu"
      },
      "source": [
        "## **6.1.4 Checking for Duplicate data in EmployeeDf**"
      ]
    },
    {
      "cell_type": "markdown",
      "metadata": {
        "id": "Gb_rnVArKjM2"
      },
      "source": [
        ""
      ]
    },
    {
      "cell_type": "code",
      "metadata": {
        "id": "VBnhqrE80DGE"
      },
      "source": [
        "EmployeeDfDuplicate = EmployeeDf[EmployeeDf.duplicated('employee_id',keep = False)].sort_values([\"employee_id\"])\n"
      ],
      "execution_count": null,
      "outputs": []
    },
    {
      "cell_type": "code",
      "metadata": {
        "id": "TqTc0cRQ0DGE"
      },
      "source": [
        "# Drop duplicate rows\n",
        "EmployeeDf.drop_duplicates(keep = \"first\",inplace = True)"
      ],
      "execution_count": null,
      "outputs": []
    },
    {
      "cell_type": "code",
      "metadata": {
        "colab": {
          "base_uri": "https://localhost:8080/",
          "height": 222
        },
        "id": "tGeBwkRc0DGE",
        "outputId": "608bf37c-6b87-462a-f0cf-9779438aedd2"
      },
      "source": [
        "## Check after removing duplicate rows.\n",
        "EmployeeDf[EmployeeDf.duplicated('employee_id',keep = False)].sort_values([\"employee_id\"])"
      ],
      "execution_count": null,
      "outputs": [
        {
          "output_type": "execute_result",
          "data": {
            "text/html": [
              "<div>\n",
              "<style scoped>\n",
              "    .dataframe tbody tr th:only-of-type {\n",
              "        vertical-align: middle;\n",
              "    }\n",
              "\n",
              "    .dataframe tbody tr th {\n",
              "        vertical-align: top;\n",
              "    }\n",
              "\n",
              "    .dataframe thead th {\n",
              "        text-align: right;\n",
              "    }\n",
              "</style>\n",
              "<table border=\"1\" class=\"dataframe\">\n",
              "  <thead>\n",
              "    <tr style=\"text-align: right;\">\n",
              "      <th></th>\n",
              "      <th>avg_monthly_hrs</th>\n",
              "      <th>department</th>\n",
              "      <th>filed_complaint</th>\n",
              "      <th>last_evaluation</th>\n",
              "      <th>n_projects</th>\n",
              "      <th>recently_promoted</th>\n",
              "      <th>salary</th>\n",
              "      <th>satisfaction</th>\n",
              "      <th>status</th>\n",
              "      <th>tenure</th>\n",
              "      <th>employee_id</th>\n",
              "    </tr>\n",
              "  </thead>\n",
              "  <tbody>\n",
              "    <tr>\n",
              "      <th>34</th>\n",
              "      <td>284.0</td>\n",
              "      <td>D00-SS</td>\n",
              "      <td>0.0</td>\n",
              "      <td>0.852702</td>\n",
              "      <td>6</td>\n",
              "      <td>0.0</td>\n",
              "      <td>low</td>\n",
              "      <td>0.069168</td>\n",
              "      <td>Left</td>\n",
              "      <td>4.0</td>\n",
              "      <td>0</td>\n",
              "    </tr>\n",
              "    <tr>\n",
              "      <th>304</th>\n",
              "      <td>264.0</td>\n",
              "      <td>D00-ENG</td>\n",
              "      <td>0.0</td>\n",
              "      <td>0.774554</td>\n",
              "      <td>6</td>\n",
              "      <td>0.0</td>\n",
              "      <td>low</td>\n",
              "      <td>0.110974</td>\n",
              "      <td>Left</td>\n",
              "      <td>4.0</td>\n",
              "      <td>0</td>\n",
              "    </tr>\n",
              "    <tr>\n",
              "      <th>1234</th>\n",
              "      <td>129.0</td>\n",
              "      <td>D00-SP</td>\n",
              "      <td>0.0</td>\n",
              "      <td>0.402660</td>\n",
              "      <td>2</td>\n",
              "      <td>0.0</td>\n",
              "      <td>medium</td>\n",
              "      <td>0.437359</td>\n",
              "      <td>Left</td>\n",
              "      <td>3.0</td>\n",
              "      <td>0</td>\n",
              "    </tr>\n",
              "    <tr>\n",
              "      <th>11304</th>\n",
              "      <td>167.0</td>\n",
              "      <td>D00-SS</td>\n",
              "      <td>0.0</td>\n",
              "      <td>0.880053</td>\n",
              "      <td>5</td>\n",
              "      <td>0.0</td>\n",
              "      <td>low</td>\n",
              "      <td>0.682140</td>\n",
              "      <td>Employed</td>\n",
              "      <td>3.0</td>\n",
              "      <td>0</td>\n",
              "    </tr>\n",
              "    <tr>\n",
              "      <th>12304</th>\n",
              "      <td>259.0</td>\n",
              "      <td>D00-ENG</td>\n",
              "      <td>0.0</td>\n",
              "      <td>0.505883</td>\n",
              "      <td>5</td>\n",
              "      <td>0.0</td>\n",
              "      <td>low</td>\n",
              "      <td>0.631046</td>\n",
              "      <td>Employed</td>\n",
              "      <td>4.0</td>\n",
              "      <td>0</td>\n",
              "    </tr>\n",
              "  </tbody>\n",
              "</table>\n",
              "</div>"
            ],
            "text/plain": [
              "       avg_monthly_hrs department  ...  tenure  employee_id\n",
              "34               284.0     D00-SS  ...     4.0            0\n",
              "304              264.0    D00-ENG  ...     4.0            0\n",
              "1234             129.0     D00-SP  ...     3.0            0\n",
              "11304            167.0     D00-SS  ...     3.0            0\n",
              "12304            259.0    D00-ENG  ...     4.0            0\n",
              "\n",
              "[5 rows x 11 columns]"
            ]
          },
          "metadata": {
            "tags": []
          },
          "execution_count": 36
        }
      ]
    },
    {
      "cell_type": "markdown",
      "metadata": {
        "id": "-WsKHYK10DGF"
      },
      "source": [
        "**Observation**\n",
        "- Even after removing duplicate rows, there are still 5 rows with employee Id = 0. Let's process those rows"
      ]
    },
    {
      "cell_type": "code",
      "metadata": {
        "id": "N6WVj02-0DGF"
      },
      "source": [
        "## filter the rows with employee Id = 0\n",
        "EmployeeDf = EmployeeDf[EmployeeDf['employee_id'] != 0]  "
      ],
      "execution_count": null,
      "outputs": []
    },
    {
      "cell_type": "code",
      "metadata": {
        "colab": {
          "base_uri": "https://localhost:8080/",
          "height": 69
        },
        "id": "KOoXHZBj0DGF",
        "outputId": "2ea72682-e269-4237-9031-f3cb24238098"
      },
      "source": [
        " # check if still there is any duplicate\n",
        "EmployeeDf[EmployeeDf.duplicated('employee_id',keep = False)].sort_values([\"employee_id\"]) "
      ],
      "execution_count": null,
      "outputs": [
        {
          "output_type": "execute_result",
          "data": {
            "text/html": [
              "<div>\n",
              "<style scoped>\n",
              "    .dataframe tbody tr th:only-of-type {\n",
              "        vertical-align: middle;\n",
              "    }\n",
              "\n",
              "    .dataframe tbody tr th {\n",
              "        vertical-align: top;\n",
              "    }\n",
              "\n",
              "    .dataframe thead th {\n",
              "        text-align: right;\n",
              "    }\n",
              "</style>\n",
              "<table border=\"1\" class=\"dataframe\">\n",
              "  <thead>\n",
              "    <tr style=\"text-align: right;\">\n",
              "      <th></th>\n",
              "      <th>avg_monthly_hrs</th>\n",
              "      <th>department</th>\n",
              "      <th>filed_complaint</th>\n",
              "      <th>last_evaluation</th>\n",
              "      <th>n_projects</th>\n",
              "      <th>recently_promoted</th>\n",
              "      <th>salary</th>\n",
              "      <th>satisfaction</th>\n",
              "      <th>status</th>\n",
              "      <th>tenure</th>\n",
              "      <th>employee_id</th>\n",
              "    </tr>\n",
              "  </thead>\n",
              "  <tbody>\n",
              "  </tbody>\n",
              "</table>\n",
              "</div>"
            ],
            "text/plain": [
              "Empty DataFrame\n",
              "Columns: [avg_monthly_hrs, department, filed_complaint, last_evaluation, n_projects, recently_promoted, salary, satisfaction, status, tenure, employee_id]\n",
              "Index: []"
            ]
          },
          "metadata": {
            "tags": []
          },
          "execution_count": 38
        }
      ]
    },
    {
      "cell_type": "markdown",
      "metadata": {
        "id": "UYSi8Ie3Ks6Y"
      },
      "source": [
        "## **6.1.6 Fixing datatype filed_complaint and recently_promoted column**\n",
        "From the initial data, we can see that filed_complaint and recently_promoted column are float. For our model these two columns should be categorically. hence let's convert this in to int and then change this to string"
      ]
    },
    {
      "cell_type": "markdown",
      "metadata": {
        "id": "7Sr9LJSdKvT5"
      },
      "source": [
        "### **6.1.6.1 Fix the datatype for filed_complaint and recently_promoted column in EmployeeDF**"
      ]
    },
    {
      "cell_type": "code",
      "metadata": {
        "colab": {
          "base_uri": "https://localhost:8080/",
          "height": 435
        },
        "id": "lLiMCKDqLEVF",
        "outputId": "929a0dbe-51b7-4ead-8f35-22aa88d7999f"
      },
      "source": [
        "EmployeeDf['recently_promoted'] = EmployeeDf['recently_promoted'].astype(int)\n",
        "EmployeeDf['filed_complaint'] = EmployeeDf['filed_complaint'].astype(int)\n",
        "EmployeeDf"
      ],
      "execution_count": null,
      "outputs": [
        {
          "output_type": "execute_result",
          "data": {
            "text/html": [
              "<div>\n",
              "<style scoped>\n",
              "    .dataframe tbody tr th:only-of-type {\n",
              "        vertical-align: middle;\n",
              "    }\n",
              "\n",
              "    .dataframe tbody tr th {\n",
              "        vertical-align: top;\n",
              "    }\n",
              "\n",
              "    .dataframe thead th {\n",
              "        text-align: right;\n",
              "    }\n",
              "</style>\n",
              "<table border=\"1\" class=\"dataframe\">\n",
              "  <thead>\n",
              "    <tr style=\"text-align: right;\">\n",
              "      <th></th>\n",
              "      <th>avg_monthly_hrs</th>\n",
              "      <th>department</th>\n",
              "      <th>filed_complaint</th>\n",
              "      <th>last_evaluation</th>\n",
              "      <th>n_projects</th>\n",
              "      <th>recently_promoted</th>\n",
              "      <th>salary</th>\n",
              "      <th>satisfaction</th>\n",
              "      <th>status</th>\n",
              "      <th>tenure</th>\n",
              "      <th>employee_id</th>\n",
              "    </tr>\n",
              "  </thead>\n",
              "  <tbody>\n",
              "    <tr>\n",
              "      <th>0</th>\n",
              "      <td>246.0</td>\n",
              "      <td>D00-SS</td>\n",
              "      <td>0</td>\n",
              "      <td>0.866838</td>\n",
              "      <td>6</td>\n",
              "      <td>0</td>\n",
              "      <td>medium</td>\n",
              "      <td>0.134415</td>\n",
              "      <td>Left</td>\n",
              "      <td>4.0</td>\n",
              "      <td>124467</td>\n",
              "    </tr>\n",
              "    <tr>\n",
              "      <th>1</th>\n",
              "      <td>134.0</td>\n",
              "      <td>D00-SS</td>\n",
              "      <td>0</td>\n",
              "      <td>0.555718</td>\n",
              "      <td>2</td>\n",
              "      <td>0</td>\n",
              "      <td>low</td>\n",
              "      <td>0.511041</td>\n",
              "      <td>Left</td>\n",
              "      <td>3.0</td>\n",
              "      <td>112210</td>\n",
              "    </tr>\n",
              "    <tr>\n",
              "      <th>2</th>\n",
              "      <td>156.0</td>\n",
              "      <td>D00-SS</td>\n",
              "      <td>1</td>\n",
              "      <td>0.474082</td>\n",
              "      <td>2</td>\n",
              "      <td>0</td>\n",
              "      <td>medium</td>\n",
              "      <td>0.405101</td>\n",
              "      <td>Left</td>\n",
              "      <td>3.0</td>\n",
              "      <td>126150</td>\n",
              "    </tr>\n",
              "    <tr>\n",
              "      <th>3</th>\n",
              "      <td>256.0</td>\n",
              "      <td>D00-SP</td>\n",
              "      <td>0</td>\n",
              "      <td>0.961360</td>\n",
              "      <td>6</td>\n",
              "      <td>0</td>\n",
              "      <td>low</td>\n",
              "      <td>0.152974</td>\n",
              "      <td>Left</td>\n",
              "      <td>4.0</td>\n",
              "      <td>125346</td>\n",
              "    </tr>\n",
              "    <tr>\n",
              "      <th>4</th>\n",
              "      <td>146.0</td>\n",
              "      <td>D00-SS</td>\n",
              "      <td>0</td>\n",
              "      <td>0.507349</td>\n",
              "      <td>2</td>\n",
              "      <td>0</td>\n",
              "      <td>medium</td>\n",
              "      <td>0.434845</td>\n",
              "      <td>Left</td>\n",
              "      <td>3.0</td>\n",
              "      <td>113707</td>\n",
              "    </tr>\n",
              "    <tr>\n",
              "      <th>...</th>\n",
              "      <td>...</td>\n",
              "      <td>...</td>\n",
              "      <td>...</td>\n",
              "      <td>...</td>\n",
              "      <td>...</td>\n",
              "      <td>...</td>\n",
              "      <td>...</td>\n",
              "      <td>...</td>\n",
              "      <td>...</td>\n",
              "      <td>...</td>\n",
              "      <td>...</td>\n",
              "    </tr>\n",
              "    <tr>\n",
              "      <th>14116</th>\n",
              "      <td>141.0</td>\n",
              "      <td>D00-SS</td>\n",
              "      <td>0</td>\n",
              "      <td>0.537866</td>\n",
              "      <td>3</td>\n",
              "      <td>0</td>\n",
              "      <td>low</td>\n",
              "      <td>0.610841</td>\n",
              "      <td>Employed</td>\n",
              "      <td>3.0</td>\n",
              "      <td>100833</td>\n",
              "    </tr>\n",
              "    <tr>\n",
              "      <th>14117</th>\n",
              "      <td>168.0</td>\n",
              "      <td>D00-SS</td>\n",
              "      <td>0</td>\n",
              "      <td>0.643553</td>\n",
              "      <td>3</td>\n",
              "      <td>0</td>\n",
              "      <td>low</td>\n",
              "      <td>0.489559</td>\n",
              "      <td>Employed</td>\n",
              "      <td>3.0</td>\n",
              "      <td>118090</td>\n",
              "    </tr>\n",
              "    <tr>\n",
              "      <th>14118</th>\n",
              "      <td>257.0</td>\n",
              "      <td>D00-SP</td>\n",
              "      <td>0</td>\n",
              "      <td>0.000000</td>\n",
              "      <td>3</td>\n",
              "      <td>0</td>\n",
              "      <td>medium</td>\n",
              "      <td>0.944942</td>\n",
              "      <td>Employed</td>\n",
              "      <td>3.0</td>\n",
              "      <td>106064</td>\n",
              "    </tr>\n",
              "    <tr>\n",
              "      <th>14119</th>\n",
              "      <td>242.0</td>\n",
              "      <td>D00-IT</td>\n",
              "      <td>0</td>\n",
              "      <td>0.836603</td>\n",
              "      <td>4</td>\n",
              "      <td>0</td>\n",
              "      <td>low</td>\n",
              "      <td>0.740136</td>\n",
              "      <td>Employed</td>\n",
              "      <td>2.0</td>\n",
              "      <td>113083</td>\n",
              "    </tr>\n",
              "    <tr>\n",
              "      <th>14120</th>\n",
              "      <td>171.0</td>\n",
              "      <td>D00-SP</td>\n",
              "      <td>1</td>\n",
              "      <td>0.907277</td>\n",
              "      <td>3</td>\n",
              "      <td>0</td>\n",
              "      <td>low</td>\n",
              "      <td>0.506658</td>\n",
              "      <td>Employed</td>\n",
              "      <td>3.0</td>\n",
              "      <td>104996</td>\n",
              "    </tr>\n",
              "  </tbody>\n",
              "</table>\n",
              "<p>14116 rows × 11 columns</p>\n",
              "</div>"
            ],
            "text/plain": [
              "       avg_monthly_hrs department  ...  tenure  employee_id\n",
              "0                246.0     D00-SS  ...     4.0       124467\n",
              "1                134.0     D00-SS  ...     3.0       112210\n",
              "2                156.0     D00-SS  ...     3.0       126150\n",
              "3                256.0     D00-SP  ...     4.0       125346\n",
              "4                146.0     D00-SS  ...     3.0       113707\n",
              "...                ...        ...  ...     ...          ...\n",
              "14116            141.0     D00-SS  ...     3.0       100833\n",
              "14117            168.0     D00-SS  ...     3.0       118090\n",
              "14118            257.0     D00-SP  ...     3.0       106064\n",
              "14119            242.0     D00-IT  ...     2.0       113083\n",
              "14120            171.0     D00-SP  ...     3.0       104996\n",
              "\n",
              "[14116 rows x 11 columns]"
            ]
          },
          "metadata": {
            "tags": []
          },
          "execution_count": 39
        }
      ]
    },
    {
      "cell_type": "code",
      "metadata": {
        "colab": {
          "base_uri": "https://localhost:8080/"
        },
        "id": "Oz7nZ9qchUoL",
        "outputId": "9f4cec5d-5a21-4768-fcbf-e624890bdb84"
      },
      "source": [
        "# Convert this in Categorical column\n",
        "EmployeeDf['recently_promoted'] = EmployeeDf['recently_promoted'].astype(str) \n",
        "EmployeeDf['filed_complaint'] = EmployeeDf['filed_complaint'].astype(str)\n",
        "EmployeeDf.info()"
      ],
      "execution_count": null,
      "outputs": [
        {
          "output_type": "stream",
          "text": [
            "<class 'pandas.core.frame.DataFrame'>\n",
            "Int64Index: 14116 entries, 0 to 14120\n",
            "Data columns (total 11 columns):\n",
            " #   Column             Non-Null Count  Dtype  \n",
            "---  ------             --------------  -----  \n",
            " 0   avg_monthly_hrs    14116 non-null  float64\n",
            " 1   department         14116 non-null  object \n",
            " 2   filed_complaint    14116 non-null  object \n",
            " 3   last_evaluation    14116 non-null  float64\n",
            " 4   n_projects         14116 non-null  int64  \n",
            " 5   recently_promoted  14116 non-null  object \n",
            " 6   salary             14116 non-null  object \n",
            " 7   satisfaction       14116 non-null  float64\n",
            " 8   status             14116 non-null  object \n",
            " 9   tenure             14116 non-null  float64\n",
            " 10  employee_id        14116 non-null  int64  \n",
            "dtypes: float64(4), int64(2), object(5)\n",
            "memory usage: 1.3+ MB\n"
          ],
          "name": "stdout"
        }
      ]
    },
    {
      "cell_type": "markdown",
      "metadata": {
        "id": "vI6Oddz4Mf5o"
      },
      "source": [
        "### **6.1.7 Merge the Data from EmployeeDetails and EmployeeDF**"
      ]
    },
    {
      "cell_type": "code",
      "metadata": {
        "id": "QMSv-mU_0DGQ"
      },
      "source": [
        "## Merging the Employee data\n",
        "Employee=pd.merge(EmployeeDf,EmployeeDetailsDf,how=\"left\",on=\"employee_id\")\n",
        "# EmployeeDept=pd.merge(Employee,departmentDf,left_on=\"department\",right_on='dept_id',how=\"left\") \n",
        "# Urvi: No need to Merge the Dept in the final table because we have department Id which should suffice for our Model"
      ],
      "execution_count": null,
      "outputs": []
    },
    {
      "cell_type": "code",
      "metadata": {
        "colab": {
          "base_uri": "https://localhost:8080/"
        },
        "id": "8Qhd_xswYw0K",
        "outputId": "739dfd54-cb07-46b2-a47c-b0e098bc5b2b"
      },
      "source": [
        "EmployeeDf.info()"
      ],
      "execution_count": null,
      "outputs": [
        {
          "output_type": "stream",
          "text": [
            "<class 'pandas.core.frame.DataFrame'>\n",
            "Int64Index: 14116 entries, 0 to 14120\n",
            "Data columns (total 11 columns):\n",
            " #   Column             Non-Null Count  Dtype  \n",
            "---  ------             --------------  -----  \n",
            " 0   avg_monthly_hrs    14116 non-null  float64\n",
            " 1   department         14116 non-null  object \n",
            " 2   filed_complaint    14116 non-null  object \n",
            " 3   last_evaluation    14116 non-null  float64\n",
            " 4   n_projects         14116 non-null  int64  \n",
            " 5   recently_promoted  14116 non-null  object \n",
            " 6   salary             14116 non-null  object \n",
            " 7   satisfaction       14116 non-null  float64\n",
            " 8   status             14116 non-null  object \n",
            " 9   tenure             14116 non-null  float64\n",
            " 10  employee_id        14116 non-null  int64  \n",
            "dtypes: float64(4), int64(2), object(5)\n",
            "memory usage: 1.3+ MB\n"
          ],
          "name": "stdout"
        }
      ]
    },
    {
      "cell_type": "code",
      "metadata": {
        "colab": {
          "base_uri": "https://localhost:8080/",
          "height": 222
        },
        "id": "iJwc934vTNHJ",
        "outputId": "2c9300de-46bd-47b7-dab0-e0e926dabcff"
      },
      "source": [
        "Employee.head()"
      ],
      "execution_count": null,
      "outputs": [
        {
          "output_type": "execute_result",
          "data": {
            "text/html": [
              "<div>\n",
              "<style scoped>\n",
              "    .dataframe tbody tr th:only-of-type {\n",
              "        vertical-align: middle;\n",
              "    }\n",
              "\n",
              "    .dataframe tbody tr th {\n",
              "        vertical-align: top;\n",
              "    }\n",
              "\n",
              "    .dataframe thead th {\n",
              "        text-align: right;\n",
              "    }\n",
              "</style>\n",
              "<table border=\"1\" class=\"dataframe\">\n",
              "  <thead>\n",
              "    <tr style=\"text-align: right;\">\n",
              "      <th></th>\n",
              "      <th>avg_monthly_hrs</th>\n",
              "      <th>department</th>\n",
              "      <th>filed_complaint</th>\n",
              "      <th>last_evaluation</th>\n",
              "      <th>n_projects</th>\n",
              "      <th>recently_promoted</th>\n",
              "      <th>salary</th>\n",
              "      <th>satisfaction</th>\n",
              "      <th>status</th>\n",
              "      <th>tenure</th>\n",
              "      <th>employee_id</th>\n",
              "      <th>age</th>\n",
              "      <th>gender</th>\n",
              "      <th>marital_status</th>\n",
              "    </tr>\n",
              "  </thead>\n",
              "  <tbody>\n",
              "    <tr>\n",
              "      <th>0</th>\n",
              "      <td>246.0</td>\n",
              "      <td>D00-SS</td>\n",
              "      <td>0</td>\n",
              "      <td>0.866838</td>\n",
              "      <td>6</td>\n",
              "      <td>0</td>\n",
              "      <td>medium</td>\n",
              "      <td>0.134415</td>\n",
              "      <td>Left</td>\n",
              "      <td>4.0</td>\n",
              "      <td>124467</td>\n",
              "      <td>42</td>\n",
              "      <td>Female</td>\n",
              "      <td>Married</td>\n",
              "    </tr>\n",
              "    <tr>\n",
              "      <th>1</th>\n",
              "      <td>134.0</td>\n",
              "      <td>D00-SS</td>\n",
              "      <td>0</td>\n",
              "      <td>0.555718</td>\n",
              "      <td>2</td>\n",
              "      <td>0</td>\n",
              "      <td>low</td>\n",
              "      <td>0.511041</td>\n",
              "      <td>Left</td>\n",
              "      <td>3.0</td>\n",
              "      <td>112210</td>\n",
              "      <td>23</td>\n",
              "      <td>Female</td>\n",
              "      <td>Unmarried</td>\n",
              "    </tr>\n",
              "    <tr>\n",
              "      <th>2</th>\n",
              "      <td>156.0</td>\n",
              "      <td>D00-SS</td>\n",
              "      <td>1</td>\n",
              "      <td>0.474082</td>\n",
              "      <td>2</td>\n",
              "      <td>0</td>\n",
              "      <td>medium</td>\n",
              "      <td>0.405101</td>\n",
              "      <td>Left</td>\n",
              "      <td>3.0</td>\n",
              "      <td>126150</td>\n",
              "      <td>24</td>\n",
              "      <td>Female</td>\n",
              "      <td>Unmarried</td>\n",
              "    </tr>\n",
              "    <tr>\n",
              "      <th>3</th>\n",
              "      <td>256.0</td>\n",
              "      <td>D00-SP</td>\n",
              "      <td>0</td>\n",
              "      <td>0.961360</td>\n",
              "      <td>6</td>\n",
              "      <td>0</td>\n",
              "      <td>low</td>\n",
              "      <td>0.152974</td>\n",
              "      <td>Left</td>\n",
              "      <td>4.0</td>\n",
              "      <td>125346</td>\n",
              "      <td>51</td>\n",
              "      <td>Female</td>\n",
              "      <td>Married</td>\n",
              "    </tr>\n",
              "    <tr>\n",
              "      <th>4</th>\n",
              "      <td>146.0</td>\n",
              "      <td>D00-SS</td>\n",
              "      <td>0</td>\n",
              "      <td>0.507349</td>\n",
              "      <td>2</td>\n",
              "      <td>0</td>\n",
              "      <td>medium</td>\n",
              "      <td>0.434845</td>\n",
              "      <td>Left</td>\n",
              "      <td>3.0</td>\n",
              "      <td>113707</td>\n",
              "      <td>23</td>\n",
              "      <td>Female</td>\n",
              "      <td>Unmarried</td>\n",
              "    </tr>\n",
              "  </tbody>\n",
              "</table>\n",
              "</div>"
            ],
            "text/plain": [
              "   avg_monthly_hrs department filed_complaint  ...  age  gender marital_status\n",
              "0            246.0     D00-SS               0  ...   42  Female        Married\n",
              "1            134.0     D00-SS               0  ...   23  Female      Unmarried\n",
              "2            156.0     D00-SS               1  ...   24  Female      Unmarried\n",
              "3            256.0     D00-SP               0  ...   51  Female        Married\n",
              "4            146.0     D00-SS               0  ...   23  Female      Unmarried\n",
              "\n",
              "[5 rows x 14 columns]"
            ]
          },
          "metadata": {
            "tags": []
          },
          "execution_count": 43
        }
      ]
    },
    {
      "cell_type": "code",
      "metadata": {
        "colab": {
          "base_uri": "https://localhost:8080/"
        },
        "id": "NSSIbgDz0DGQ",
        "outputId": "b5bf3c54-5566-45a4-dd31-73f3b2028233"
      },
      "source": [
        "Employee.info()"
      ],
      "execution_count": null,
      "outputs": [
        {
          "output_type": "stream",
          "text": [
            "<class 'pandas.core.frame.DataFrame'>\n",
            "Int64Index: 14116 entries, 0 to 14115\n",
            "Data columns (total 14 columns):\n",
            " #   Column             Non-Null Count  Dtype  \n",
            "---  ------             --------------  -----  \n",
            " 0   avg_monthly_hrs    14116 non-null  float64\n",
            " 1   department         14116 non-null  object \n",
            " 2   filed_complaint    14116 non-null  object \n",
            " 3   last_evaluation    14116 non-null  float64\n",
            " 4   n_projects         14116 non-null  int64  \n",
            " 5   recently_promoted  14116 non-null  object \n",
            " 6   salary             14116 non-null  object \n",
            " 7   satisfaction       14116 non-null  float64\n",
            " 8   status             14116 non-null  object \n",
            " 9   tenure             14116 non-null  float64\n",
            " 10  employee_id        14116 non-null  int64  \n",
            " 11  age                14116 non-null  int64  \n",
            " 12  gender             14116 non-null  object \n",
            " 13  marital_status     14116 non-null  object \n",
            "dtypes: float64(4), int64(3), object(7)\n",
            "memory usage: 1.6+ MB\n"
          ],
          "name": "stdout"
        }
      ]
    },
    {
      "cell_type": "markdown",
      "metadata": {
        "id": "uK2FCf590DGQ"
      },
      "source": [
        "**Observations**\n",
        "- The final data set have non null values in all columns"
      ]
    },
    {
      "cell_type": "markdown",
      "metadata": {
        "id": "Yn_VFljXXyji"
      },
      "source": [
        ""
      ]
    },
    {
      "cell_type": "code",
      "metadata": {
        "colab": {
          "base_uri": "https://localhost:8080/",
          "height": 355
        },
        "id": "47PxtCzUXzVJ",
        "outputId": "3a293bbd-367c-420e-8385-3bd553762fc9"
      },
      "source": [
        "total = Employee.isnull().sum().sort_values(ascending=False)\n",
        "percent = ((Employee.isnull().sum()/Employee.isnull().count())*100).sort_values(ascending=False)\n",
        "missing_data = pd.concat([total, percent], axis=1, keys=['Total', 'Percent'])     \n",
        "missing_data.head(10)"
      ],
      "execution_count": null,
      "outputs": [
        {
          "output_type": "execute_result",
          "data": {
            "text/html": [
              "<div>\n",
              "<style scoped>\n",
              "    .dataframe tbody tr th:only-of-type {\n",
              "        vertical-align: middle;\n",
              "    }\n",
              "\n",
              "    .dataframe tbody tr th {\n",
              "        vertical-align: top;\n",
              "    }\n",
              "\n",
              "    .dataframe thead th {\n",
              "        text-align: right;\n",
              "    }\n",
              "</style>\n",
              "<table border=\"1\" class=\"dataframe\">\n",
              "  <thead>\n",
              "    <tr style=\"text-align: right;\">\n",
              "      <th></th>\n",
              "      <th>Total</th>\n",
              "      <th>Percent</th>\n",
              "    </tr>\n",
              "  </thead>\n",
              "  <tbody>\n",
              "    <tr>\n",
              "      <th>marital_status</th>\n",
              "      <td>0</td>\n",
              "      <td>0.0</td>\n",
              "    </tr>\n",
              "    <tr>\n",
              "      <th>gender</th>\n",
              "      <td>0</td>\n",
              "      <td>0.0</td>\n",
              "    </tr>\n",
              "    <tr>\n",
              "      <th>age</th>\n",
              "      <td>0</td>\n",
              "      <td>0.0</td>\n",
              "    </tr>\n",
              "    <tr>\n",
              "      <th>employee_id</th>\n",
              "      <td>0</td>\n",
              "      <td>0.0</td>\n",
              "    </tr>\n",
              "    <tr>\n",
              "      <th>tenure</th>\n",
              "      <td>0</td>\n",
              "      <td>0.0</td>\n",
              "    </tr>\n",
              "    <tr>\n",
              "      <th>status</th>\n",
              "      <td>0</td>\n",
              "      <td>0.0</td>\n",
              "    </tr>\n",
              "    <tr>\n",
              "      <th>satisfaction</th>\n",
              "      <td>0</td>\n",
              "      <td>0.0</td>\n",
              "    </tr>\n",
              "    <tr>\n",
              "      <th>salary</th>\n",
              "      <td>0</td>\n",
              "      <td>0.0</td>\n",
              "    </tr>\n",
              "    <tr>\n",
              "      <th>recently_promoted</th>\n",
              "      <td>0</td>\n",
              "      <td>0.0</td>\n",
              "    </tr>\n",
              "    <tr>\n",
              "      <th>n_projects</th>\n",
              "      <td>0</td>\n",
              "      <td>0.0</td>\n",
              "    </tr>\n",
              "  </tbody>\n",
              "</table>\n",
              "</div>"
            ],
            "text/plain": [
              "                   Total  Percent\n",
              "marital_status         0      0.0\n",
              "gender                 0      0.0\n",
              "age                    0      0.0\n",
              "employee_id            0      0.0\n",
              "tenure                 0      0.0\n",
              "status                 0      0.0\n",
              "satisfaction           0      0.0\n",
              "salary                 0      0.0\n",
              "recently_promoted      0      0.0\n",
              "n_projects             0      0.0"
            ]
          },
          "metadata": {
            "tags": []
          },
          "execution_count": 45
        }
      ]
    },
    {
      "cell_type": "code",
      "metadata": {
        "id": "QK9vu2TF0DGQ"
      },
      "source": [
        "#Employee.drop(['dept_id'],axis=1,inplace=True) \n",
        "# We should not drop department Id as it will required for Model because are Test data submittion file from INSAID contains Dept Id"
      ],
      "execution_count": null,
      "outputs": []
    },
    {
      "cell_type": "markdown",
      "metadata": {
        "id": "Ws5uL35j33zL"
      },
      "source": [
        "<a id=section7></a>\n",
        "# **7. Exploratory Data Analysis**\n",
        "\n",
        "**Exploratory Data Analysis(EDA)** is an **approach to analyzing data sets** to **summarize** their **main characteristics**, often with **visual methods**."
      ]
    },
    {
      "cell_type": "code",
      "metadata": {
        "colab": {
          "base_uri": "https://localhost:8080/",
          "height": 1000
        },
        "id": "b3MxVHJ90DGQ",
        "outputId": "051860ae-25a8-4eb3-d1d4-5e18135459f4"
      },
      "source": [
        "## Visualizing the countplot for the columns with \"object\" data types\n",
        "categorical_cols=Employee.select_dtypes(exclude='float').select_dtypes(exclude='int64').columns\n",
        "for i in categorical_cols:\n",
        "    sns.countplot(y=i,data=Employee)\n",
        "    plt.show()"
      ],
      "execution_count": null,
      "outputs": [
        {
          "output_type": "display_data",
          "data": {
            "image/png": "[encoded data removed]",
            "text/plain": [
              "<Figure size 432x288 with 1 Axes>"
            ]
          },
          "metadata": {
            "tags": [],
            "needs_background": "light"
          }
        },
        {
          "output_type": "display_data",
          "data": {
            "image/png": "[encoded data removed]",
            "text/plain": [
              "<Figure size 432x288 with 1 Axes>"
            ]
          },
          "metadata": {
            "tags": [],
            "needs_background": "light"
          }
        },
        {
          "output_type": "display_data",
          "data": {
            "image/png": "[encoded data removed]",
            "text/plain": [
              "<Figure size 432x288 with 1 Axes>"
            ]
          },
          "metadata": {
            "tags": [],
            "needs_background": "light"
          }
        },
        {
          "output_type": "display_data",
          "data": {
            "image/png": "[encoded data removed]",
            "text/plain": [
              "<Figure size 432x288 with 1 Axes>"
            ]
          },
          "metadata": {
            "tags": [],
            "needs_background": "light"
          }
        },
        {
          "output_type": "display_data",
          "data": {
            "image/png": "[encoded data removed]",
            "text/plain": [
              "<Figure size 432x288 with 1 Axes>"
            ]
          },
          "metadata": {
            "tags": [],
            "needs_background": "light"
          }
        },
        {
          "output_type": "display_data",
          "data": {
            "image/png": "[encoded data removed]",
            "text/plain": [
              "<Figure size 432x288 with 1 Axes>"
            ]
          },
          "metadata": {
            "tags": [],
            "needs_background": "light"
          }
        },
        {
          "output_type": "display_data",
          "data": {
            "image/png": "[encoded data removed]",
            "text/plain": [
              "<Figure size 432x288 with 1 Axes>"
            ]
          },
          "metadata": {
            "tags": [],
            "needs_background": "light"
          }
        }
      ]
    },
    {
      "cell_type": "markdown",
      "metadata": {
        "id": "ka0LSizV0DGR"
      },
      "source": [
        "##### Observations:\n",
        "- More than 4000 employees are from Sales\n",
        "- 23% of available data is for employees who have left.\n",
        "\n"
      ]
    },
    {
      "cell_type": "code",
      "metadata": {
        "colab": {
          "base_uri": "https://localhost:8080/",
          "height": 1000
        },
        "id": "t3lNr7XT0DGR",
        "outputId": "4af579b1-8263-4211-cd2b-c24ddb577e23"
      },
      "source": [
        "## Visualizing the countplot for the columns with \"object\" data types\n",
        "categorical_cols=Employee.select_dtypes(exclude='float').select_dtypes(exclude='int64').columns\n",
        "for i in categorical_cols:\n",
        "    sns.countplot(y=i,hue='status',data=Employee)\n",
        "    plt.show()"
      ],
      "execution_count": null,
      "outputs": [
        {
          "output_type": "display_data",
          "data": {
            "image/png": "[encoded data removed]",
            "text/plain": [
              "<Figure size 432x288 with 1 Axes>"
            ]
          },
          "metadata": {
            "tags": [],
            "needs_background": "light"
          }
        },
        {
          "output_type": "display_data",
          "data": {
            "image/png": "[encoded data removed]",
            "text/plain": [
              "<Figure size 432x288 with 1 Axes>"
            ]
          },
          "metadata": {
            "tags": [],
            "needs_background": "light"
          }
        },
        {
          "output_type": "display_data",
          "data": {
            "image/png": "[encoded data removed]",
            "text/plain": [
              "<Figure size 432x288 with 1 Axes>"
            ]
          },
          "metadata": {
            "tags": [],
            "needs_background": "light"
          }
        },
        {
          "output_type": "display_data",
          "data": {
            "image/png": "[encoded data removed]",
            "text/plain": [
              "<Figure size 432x288 with 1 Axes>"
            ]
          },
          "metadata": {
            "tags": [],
            "needs_background": "light"
          }
        },
        {
          "output_type": "display_data",
          "data": {
            "image/png": "[encoded data removed]",
            "text/plain": [
              "<Figure size 432x288 with 1 Axes>"
            ]
          },
          "metadata": {
            "tags": [],
            "needs_background": "light"
          }
        },
        {
          "output_type": "display_data",
          "data": {
            "image/png": "[encoded data removed]",
            "text/plain": [
              "<Figure size 432x288 with 1 Axes>"
            ]
          },
          "metadata": {
            "tags": [],
            "needs_background": "light"
          }
        },
        {
          "output_type": "display_data",
          "data": {
            "image/png": "[encoded data removed]",
            "text/plain": [
              "<Figure size 432x288 with 1 Axes>"
            ]
          },
          "metadata": {
            "tags": [],
            "needs_background": "light"
          }
        }
      ]
    },
    {
      "cell_type": "markdown",
      "metadata": {
        "id": "pw0NJsxM0DGR"
      },
      "source": [
        "##### Observation\n",
        "- Attrition is highest in D00-FN ~27% and D00-PR has lowest ~9%"
      ]
    },
    {
      "cell_type": "code",
      "metadata": {
        "colab": {
          "base_uri": "https://localhost:8080/",
          "height": 1000
        },
        "id": "f2UnCskB0DGR",
        "outputId": "5fb46848-cd03-43fd-a238-520599a8df6e"
      },
      "source": [
        "## Visualizing the countplot for the columns with \"int and float\" data types\n",
        "numerical_cols=['age','avg_monthly_hrs','last_evaluation', 'n_projects','satisfaction','tenure']\n",
        "for i in numerical_cols:\n",
        "    sns.boxplot(y=i,data=Employee)\n",
        "    plt.show()"
      ],
      "execution_count": null,
      "outputs": [
        {
          "output_type": "display_data",
          "data": {
            "image/png": "[encoded data removed]",
            "text/plain": [
              "<Figure size 432x288 with 1 Axes>"
            ]
          },
          "metadata": {
            "tags": [],
            "needs_background": "light"
          }
        },
        {
          "output_type": "display_data",
          "data": {
            "image/png": "[encoded data removed]",
            "text/plain": [
              "<Figure size 432x288 with 1 Axes>"
            ]
          },
          "metadata": {
            "tags": [],
            "needs_background": "light"
          }
        },
        {
          "output_type": "display_data",
          "data": {
            "image/png": "[encoded data removed]",
            "text/plain": [
              "<Figure size 432x288 with 1 Axes>"
            ]
          },
          "metadata": {
            "tags": [],
            "needs_background": "light"
          }
        },
        {
          "output_type": "display_data",
          "data": {
            "image/png": "[encoded data removed]",
            "text/plain": [
              "<Figure size 432x288 with 1 Axes>"
            ]
          },
          "metadata": {
            "tags": [],
            "needs_background": "light"
          }
        },
        {
          "output_type": "display_data",
          "data": {
            "image/png": "[encoded data removed]",
            "text/plain": [
              "<Figure size 432x288 with 1 Axes>"
            ]
          },
          "metadata": {
            "tags": [],
            "needs_background": "light"
          }
        },
        {
          "output_type": "display_data",
          "data": {
            "image/png": "[encoded data removed]",
            "text/plain": [
              "<Figure size 432x288 with 1 Axes>"
            ]
          },
          "metadata": {
            "tags": [],
            "needs_background": "light"
          }
        }
      ]
    },
    {
      "cell_type": "markdown",
      "metadata": {
        "id": "l42WTZT70DGR"
      },
      "source": [
        "##### Observation\n",
        "- 70% of population is within 41 years of age\n",
        "- 50% of population is evaluated above 0.7\n",
        "- 50% of population is statisfied above 0.6\n",
        "- Most of the population is with tenure within 5 years"
      ]
    },
    {
      "cell_type": "markdown",
      "metadata": {
        "id": "XLvpoOkGRDoJ"
      },
      "source": [
        "## Distribution of Numeric features of Employee data"
      ]
    },
    {
      "cell_type": "code",
      "metadata": {
        "colab": {
          "base_uri": "https://localhost:8080/",
          "height": 613
        },
        "id": "P2ExVBFo0DGR",
        "outputId": "c4abd3ae-e14a-4f19-994b-9b0c248ddf13"
      },
      "source": [
        "# Plot histogram grid\n",
        "Employee.hist(figsize=(10,10), xrot=-45, edgecolor='black')\n",
        "plt.show()"
      ],
      "execution_count": null,
      "outputs": [
        {
          "output_type": "display_data",
          "data": {
            "image/png": "[encoded data removed]",
            "text/plain": [
              "<Figure size 720x720 with 9 Axes>"
            ]
          },
          "metadata": {
            "tags": [],
            "needs_background": "light"
          }
        }
      ]
    },
    {
      "cell_type": "markdown",
      "metadata": {
        "id": "-HwYCEUUR6DK"
      },
      "source": [
        "\n",
        "Observations:\n",
        "\n",
        "- 1.'filed_compliant' and 'recently_promoted' must be binary indicator variables.\n",
        "- 2.'last_evaluation' ranges approx from 0.4 to 1\n",
        "- 3.'satisfaction' ranges approx from 0 to 1\n",
        "- 4.'tenure' for most of the employees is less than or equal to 5 years\n",
        "- 5.'n_projects' ranges between 2 to 6"
      ]
    },
    {
      "cell_type": "code",
      "metadata": {
        "colab": {
          "base_uri": "https://localhost:8080/",
          "height": 352
        },
        "id": "1WXJ9dLCSLEi",
        "outputId": "1ff92483-b818-4660-e9c0-c1b29f11819b"
      },
      "source": [
        "#plot KDE for average monthly hours\n",
        "sns.distplot(Employee['avg_monthly_hrs'])"
      ],
      "execution_count": null,
      "outputs": [
        {
          "output_type": "stream",
          "text": [
            "/usr/local/lib/python3.6/dist-packages/seaborn/distributions.py:2551: FutureWarning: `distplot` is a deprecated function and will be removed in a future version. Please adapt your code to use either `displot` (a figure-level function with similar flexibility) or `histplot` (an axes-level function for histograms).\n",
            "  warnings.warn(msg, FutureWarning)\n"
          ],
          "name": "stderr"
        },
        {
          "output_type": "execute_result",
          "data": {
            "text/plain": [
              "<matplotlib.axes._subplots.AxesSubplot at 0x7fe8ac5e6a58>"
            ]
          },
          "metadata": {
            "tags": []
          },
          "execution_count": 51
        },
        {
          "output_type": "display_data",
          "data": {
            "image/png": "[encoded data removed]",
            "text/plain": [
              "<Figure size 432x288 with 1 Axes>"
            ]
          },
          "metadata": {
            "tags": [],
            "needs_background": "light"
          }
        }
      ]
    },
    {
      "cell_type": "markdown",
      "metadata": {
        "id": "m5UVA3HiSaJj"
      },
      "source": [
        "\n",
        "- Some employees work for around 150 hrs/month i.e. 37.5 hrs/week which is reasonable.\n",
        "- However there are employees who work for 250 hrs/month i.e. 62.5 hrs/week, which turns out to be 12.5 hrs/day which is big number"
      ]
    },
    {
      "cell_type": "markdown",
      "metadata": {
        "id": "-MaVEceKSbc-"
      },
      "source": [
        "## Distribution of Categorical features"
      ]
    },
    {
      "cell_type": "code",
      "metadata": {
        "colab": {
          "base_uri": "https://localhost:8080/",
          "height": 171
        },
        "id": "OahFJbkSShbv",
        "outputId": "287d6117-149e-4324-d7b8-c39b93295802"
      },
      "source": [
        "# Summarize categorical features\n",
        "Employee.describe(include=['object'])"
      ],
      "execution_count": null,
      "outputs": [
        {
          "output_type": "execute_result",
          "data": {
            "text/html": [
              "<div>\n",
              "<style scoped>\n",
              "    .dataframe tbody tr th:only-of-type {\n",
              "        vertical-align: middle;\n",
              "    }\n",
              "\n",
              "    .dataframe tbody tr th {\n",
              "        vertical-align: top;\n",
              "    }\n",
              "\n",
              "    .dataframe thead th {\n",
              "        text-align: right;\n",
              "    }\n",
              "</style>\n",
              "<table border=\"1\" class=\"dataframe\">\n",
              "  <thead>\n",
              "    <tr style=\"text-align: right;\">\n",
              "      <th></th>\n",
              "      <th>department</th>\n",
              "      <th>filed_complaint</th>\n",
              "      <th>recently_promoted</th>\n",
              "      <th>salary</th>\n",
              "      <th>status</th>\n",
              "      <th>gender</th>\n",
              "      <th>marital_status</th>\n",
              "    </tr>\n",
              "  </thead>\n",
              "  <tbody>\n",
              "    <tr>\n",
              "      <th>count</th>\n",
              "      <td>14116</td>\n",
              "      <td>14116</td>\n",
              "      <td>14116</td>\n",
              "      <td>14116</td>\n",
              "      <td>14116</td>\n",
              "      <td>14116</td>\n",
              "      <td>14116</td>\n",
              "    </tr>\n",
              "    <tr>\n",
              "      <th>unique</th>\n",
              "      <td>11</td>\n",
              "      <td>2</td>\n",
              "      <td>2</td>\n",
              "      <td>3</td>\n",
              "      <td>2</td>\n",
              "      <td>2</td>\n",
              "      <td>2</td>\n",
              "    </tr>\n",
              "    <tr>\n",
              "      <th>top</th>\n",
              "      <td>D00-SS</td>\n",
              "      <td>0</td>\n",
              "      <td>0</td>\n",
              "      <td>low</td>\n",
              "      <td>Employed</td>\n",
              "      <td>Male</td>\n",
              "      <td>Unmarried</td>\n",
              "    </tr>\n",
              "    <tr>\n",
              "      <th>freq</th>\n",
              "      <td>4601</td>\n",
              "      <td>12075</td>\n",
              "      <td>13819</td>\n",
              "      <td>6889</td>\n",
              "      <td>10761</td>\n",
              "      <td>9287</td>\n",
              "      <td>7211</td>\n",
              "    </tr>\n",
              "  </tbody>\n",
              "</table>\n",
              "</div>"
            ],
            "text/plain": [
              "       department filed_complaint  ... gender marital_status\n",
              "count       14116           14116  ...  14116          14116\n",
              "unique         11               2  ...      2              2\n",
              "top        D00-SS               0  ...   Male      Unmarried\n",
              "freq         4601           12075  ...   9287           7211\n",
              "\n",
              "[4 rows x 7 columns]"
            ]
          },
          "metadata": {
            "tags": []
          },
          "execution_count": 52
        }
      ]
    },
    {
      "cell_type": "code",
      "metadata": {
        "colab": {
          "base_uri": "https://localhost:8080/"
        },
        "id": "f68F6POtTqy6",
        "outputId": "8741ba86-7db8-47ba-fd40-89888b0e42c0"
      },
      "source": [
        "Employee['salary'].value_counts()"
      ],
      "execution_count": null,
      "outputs": [
        {
          "output_type": "execute_result",
          "data": {
            "text/plain": [
              "low       6889\n",
              "medium    6086\n",
              "high      1141\n",
              "Name: salary, dtype: int64"
            ]
          },
          "metadata": {
            "tags": []
          },
          "execution_count": 53
        }
      ]
    },
    {
      "cell_type": "code",
      "metadata": {
        "colab": {
          "base_uri": "https://localhost:8080/"
        },
        "id": "jX1K-gRyTxi6",
        "outputId": "c0366499-d145-4617-f870-bc023ce33b72"
      },
      "source": [
        "Employee['status'].value_counts()"
      ],
      "execution_count": null,
      "outputs": [
        {
          "output_type": "execute_result",
          "data": {
            "text/plain": [
              "Employed    10761\n",
              "Left         3355\n",
              "Name: status, dtype: int64"
            ]
          },
          "metadata": {
            "tags": []
          },
          "execution_count": 54
        }
      ]
    },
    {
      "cell_type": "markdown",
      "metadata": {
        "id": "lOrnWDI-NfkY"
      },
      "source": [
        "<a id=section703></a>\n",
        "### 7.3 Find Correlated Columns\n",
        "> Explore the correlation between all columns and accordingly select the columns for our model .\n",
        "Establishing __coorelation__ between all the features using __heatmap__"
      ]
    },
    {
      "cell_type": "code",
      "metadata": {
        "colab": {
          "base_uri": "https://localhost:8080/",
          "height": 622
        },
        "id": "Z6_GJgY-NeW4",
        "outputId": "6ad5f406-64b7-4639-a745-dd1265a64a09"
      },
      "source": [
        "features_correlation = Employee.corr() ## Generate Correlation\n",
        "plt.figure(figsize=(10 ,10))\n",
        "sns.heatmap(features_correlation,vmax=1,square=True,annot=True,cmap='Blues')\n",
        "plt.show()"
      ],
      "execution_count": null,
      "outputs": [
        {
          "output_type": "display_data",
          "data": {
            "image/png": "[encoded data removed]",
            "text/plain": [
              "<Figure size 720x720 with 2 Axes>"
            ]
          },
          "metadata": {
            "tags": [],
            "needs_background": "light"
          }
        }
      ]
    },
    {
      "cell_type": "markdown",
      "metadata": {
        "id": "yfP9CWntOT2U"
      },
      "source": [
        "**Observation**\n",
        "- There is correlation between Avg monthly hrs and files complaint and Satisfaction. It means employees who are working for more hours have filed complaints and are less satisfied."
      ]
    },
    {
      "cell_type": "code",
      "metadata": {
        "colab": {
          "base_uri": "https://localhost:8080/",
          "height": 622
        },
        "id": "3vYVwmn6Ng-G",
        "outputId": "de626349-e41b-4b01-9942-d89c6e59a50d"
      },
      "source": [
        "sns.pairplot(data=Employee[['avg_monthly_hrs','filed_complaint', 'last_evaluation','satisfaction','status']], size=2.5, diag_kind='kde', hue = 'status')"
      ],
      "execution_count": null,
      "outputs": [
        {
          "output_type": "stream",
          "text": [
            "/usr/local/lib/python3.6/dist-packages/seaborn/axisgrid.py:1912: UserWarning: The `size` parameter has been renamed to `height`; please update your code.\n",
            "  warnings.warn(msg, UserWarning)\n"
          ],
          "name": "stderr"
        },
        {
          "output_type": "execute_result",
          "data": {
            "text/plain": [
              "<seaborn.axisgrid.PairGrid at 0x7fe8ad0bbeb8>"
            ]
          },
          "metadata": {
            "tags": []
          },
          "execution_count": 56
        },
        {
          "output_type": "display_data",
          "data": {
            "image/png": "[encoded data removed]",
            "text/plain": [
              "<Figure size 625.375x540 with 12 Axes>"
            ]
          },
          "metadata": {
            "tags": [],
            "needs_background": "light"
          }
        }
      ]
    },
    {
      "cell_type": "markdown",
      "metadata": {
        "id": "1r27mJOWPQfG"
      },
      "source": [
        "**Observations**\n",
        "- from the Above pair plot it is quite evident that there is high chances that employees whose working hours are high will leave the company and are least satisfied."
      ]
    },
    {
      "cell_type": "code",
      "metadata": {
        "id": "w65oZYuCOx1L"
      },
      "source": [
        ""
      ],
      "execution_count": null,
      "outputs": []
    },
    {
      "cell_type": "markdown",
      "metadata": {
        "id": "23D2RktKRFRB"
      },
      "source": [
        "<a id=section704></a>\n",
        "### 7.4 Age vs Status of employee\n",
        " "
      ]
    },
    {
      "cell_type": "code",
      "metadata": {
        "colab": {
          "base_uri": "https://localhost:8080/",
          "height": 297
        },
        "id": "8TRvD43BRDqy",
        "outputId": "1a6c7dec-89ad-4abb-db77-4a5883197f1f"
      },
      "source": [
        "sns.violinplot(data=Employee, x='status', y='age', palette='magma')"
      ],
      "execution_count": null,
      "outputs": [
        {
          "output_type": "execute_result",
          "data": {
            "text/plain": [
              "<matplotlib.axes._subplots.AxesSubplot at 0x7fe8a8c4ec50>"
            ]
          },
          "metadata": {
            "tags": []
          },
          "execution_count": 57
        },
        {
          "output_type": "display_data",
          "data": {
            "image/png": "[encoded data removed]",
            "text/plain": [
              "<Figure size 432x288 with 1 Axes>"
            ]
          },
          "metadata": {
            "tags": [],
            "needs_background": "light"
          }
        }
      ]
    },
    {
      "cell_type": "markdown",
      "metadata": {
        "id": "oWyGSycJRjhQ"
      },
      "source": [
        "**Observations**\n",
        "- Age seems to have no influence on the Employee leaving or staying in the company"
      ]
    },
    {
      "cell_type": "markdown",
      "metadata": {
        "id": "7wV-2pqeR2XI"
      },
      "source": [
        "<a id=section705></a>\n",
        "### 7.5 Tenure vs Status of employee\n",
        " > "
      ]
    },
    {
      "cell_type": "code",
      "metadata": {
        "colab": {
          "base_uri": "https://localhost:8080/",
          "height": 297
        },
        "id": "jpHsi-ytRL5v",
        "outputId": "c79ff636-08fe-4e9a-aee7-cd1aba13ea56"
      },
      "source": [
        "sns.violinplot(data=Employee, x='status', y='tenure', palette='magma')"
      ],
      "execution_count": null,
      "outputs": [
        {
          "output_type": "execute_result",
          "data": {
            "text/plain": [
              "<matplotlib.axes._subplots.AxesSubplot at 0x7fe8ad0a3978>"
            ]
          },
          "metadata": {
            "tags": []
          },
          "execution_count": 58
        },
        {
          "output_type": "display_data",
          "data": {
            "image/png": "[encoded data removed]",
            "text/plain": [
              "<Figure size 432x288 with 1 Axes>"
            ]
          },
          "metadata": {
            "tags": [],
            "needs_background": "light"
          }
        }
      ]
    },
    {
      "cell_type": "markdown",
      "metadata": {
        "id": "hXodnAcKSIt9"
      },
      "source": [
        "**Observations**\n",
        "> Longer the Tenure, Higher the Chances that employee witll stay in the company. Employee with tenure between 2-5 years, there is high chances of them leaving the company"
      ]
    },
    {
      "cell_type": "markdown",
      "metadata": {
        "id": "iYRDUPOJS_9O"
      },
      "source": [
        "<a id=section706></a>\n",
        "### 7.5 Marital Status vs Status of employee\n",
        " > "
      ]
    },
    {
      "cell_type": "code",
      "metadata": {
        "colab": {
          "base_uri": "https://localhost:8080/",
          "height": 461
        },
        "id": "Vd8yFKB5Riab",
        "outputId": "4a30ad40-9dc0-4827-888e-0c7b63fbf05b"
      },
      "source": [
        "f, ax = plt.subplots(figsize=(10, 7))\n",
        "sns.countplot(x='marital_status',hue='status',data=Employee)"
      ],
      "execution_count": null,
      "outputs": [
        {
          "output_type": "execute_result",
          "data": {
            "text/plain": [
              "<matplotlib.axes._subplots.AxesSubplot at 0x7fe8ac8def98>"
            ]
          },
          "metadata": {
            "tags": []
          },
          "execution_count": 59
        },
        {
          "output_type": "display_data",
          "data": {
            "image/png": "[encoded data removed]",
            "text/plain": [
              "<Figure size 720x504 with 1 Axes>"
            ]
          },
          "metadata": {
            "tags": [],
            "needs_background": "light"
          }
        }
      ]
    },
    {
      "cell_type": "markdown",
      "metadata": {
        "id": "zR2tFsHFTF-c"
      },
      "source": [
        "**Observations**\n",
        "> Unmarried employees are more likely to leave the company"
      ]
    },
    {
      "cell_type": "markdown",
      "metadata": {
        "id": "Jpvv7IYhTfJu"
      },
      "source": [
        "import pandas_profiling \n",
        "profile = data.profile_report(title=\"Auto Insurance Claim\")\n",
        "profile.to_file(output_file=\"Auto Insurance Claim_Data_profiling_before_preprocessing.html\")"
      ]
    },
    {
      "cell_type": "code",
      "metadata": {
        "id": "yriAvce2Suzn"
      },
      "source": [
        ""
      ],
      "execution_count": null,
      "outputs": []
    },
    {
      "cell_type": "markdown",
      "metadata": {
        "id": "5tmtz7TST7X0"
      },
      "source": [
        "<a id=section8></a>\n",
        "### 8.   Feature selection/extraction\n",
        "At times some features do not contribute much to the accuracy of the model, in that case its better to discard those features.<br/> \n",
        "> - Employee Id is a unique key and it will drive the Status of employment. Let's drop this column by making this as Index column\n"
      ]
    },
    {
      "cell_type": "code",
      "metadata": {
        "colab": {
          "base_uri": "https://localhost:8080/"
        },
        "id": "ATeybTlqT7yo",
        "outputId": "eafb4ba1-becb-493f-9d1e-80ce2e5c5b14"
      },
      "source": [
        "Employee.columns"
      ],
      "execution_count": null,
      "outputs": [
        {
          "output_type": "execute_result",
          "data": {
            "text/plain": [
              "Index(['avg_monthly_hrs', 'department', 'filed_complaint', 'last_evaluation',\n",
              "       'n_projects', 'recently_promoted', 'salary', 'satisfaction', 'status',\n",
              "       'tenure', 'employee_id', 'age', 'gender', 'marital_status'],\n",
              "      dtype='object')"
            ]
          },
          "metadata": {
            "tags": []
          },
          "execution_count": 60
        }
      ]
    },
    {
      "cell_type": "code",
      "metadata": {
        "colab": {
          "base_uri": "https://localhost:8080/",
          "height": 466
        },
        "id": "y6uEilfmVK-u",
        "outputId": "bef83eaa-bdfe-4318-df18-f371a3dc9b2d"
      },
      "source": [
        "Employee.set_index('employee_id')"
      ],
      "execution_count": null,
      "outputs": [
        {
          "output_type": "execute_result",
          "data": {
            "text/html": [
              "<div>\n",
              "<style scoped>\n",
              "    .dataframe tbody tr th:only-of-type {\n",
              "        vertical-align: middle;\n",
              "    }\n",
              "\n",
              "    .dataframe tbody tr th {\n",
              "        vertical-align: top;\n",
              "    }\n",
              "\n",
              "    .dataframe thead th {\n",
              "        text-align: right;\n",
              "    }\n",
              "</style>\n",
              "<table border=\"1\" class=\"dataframe\">\n",
              "  <thead>\n",
              "    <tr style=\"text-align: right;\">\n",
              "      <th></th>\n",
              "      <th>avg_monthly_hrs</th>\n",
              "      <th>department</th>\n",
              "      <th>filed_complaint</th>\n",
              "      <th>last_evaluation</th>\n",
              "      <th>n_projects</th>\n",
              "      <th>recently_promoted</th>\n",
              "      <th>salary</th>\n",
              "      <th>satisfaction</th>\n",
              "      <th>status</th>\n",
              "      <th>tenure</th>\n",
              "      <th>age</th>\n",
              "      <th>gender</th>\n",
              "      <th>marital_status</th>\n",
              "    </tr>\n",
              "    <tr>\n",
              "      <th>employee_id</th>\n",
              "      <th></th>\n",
              "      <th></th>\n",
              "      <th></th>\n",
              "      <th></th>\n",
              "      <th></th>\n",
              "      <th></th>\n",
              "      <th></th>\n",
              "      <th></th>\n",
              "      <th></th>\n",
              "      <th></th>\n",
              "      <th></th>\n",
              "      <th></th>\n",
              "      <th></th>\n",
              "    </tr>\n",
              "  </thead>\n",
              "  <tbody>\n",
              "    <tr>\n",
              "      <th>124467</th>\n",
              "      <td>246.0</td>\n",
              "      <td>D00-SS</td>\n",
              "      <td>0</td>\n",
              "      <td>0.866838</td>\n",
              "      <td>6</td>\n",
              "      <td>0</td>\n",
              "      <td>medium</td>\n",
              "      <td>0.134415</td>\n",
              "      <td>Left</td>\n",
              "      <td>4.0</td>\n",
              "      <td>42</td>\n",
              "      <td>Female</td>\n",
              "      <td>Married</td>\n",
              "    </tr>\n",
              "    <tr>\n",
              "      <th>112210</th>\n",
              "      <td>134.0</td>\n",
              "      <td>D00-SS</td>\n",
              "      <td>0</td>\n",
              "      <td>0.555718</td>\n",
              "      <td>2</td>\n",
              "      <td>0</td>\n",
              "      <td>low</td>\n",
              "      <td>0.511041</td>\n",
              "      <td>Left</td>\n",
              "      <td>3.0</td>\n",
              "      <td>23</td>\n",
              "      <td>Female</td>\n",
              "      <td>Unmarried</td>\n",
              "    </tr>\n",
              "    <tr>\n",
              "      <th>126150</th>\n",
              "      <td>156.0</td>\n",
              "      <td>D00-SS</td>\n",
              "      <td>1</td>\n",
              "      <td>0.474082</td>\n",
              "      <td>2</td>\n",
              "      <td>0</td>\n",
              "      <td>medium</td>\n",
              "      <td>0.405101</td>\n",
              "      <td>Left</td>\n",
              "      <td>3.0</td>\n",
              "      <td>24</td>\n",
              "      <td>Female</td>\n",
              "      <td>Unmarried</td>\n",
              "    </tr>\n",
              "    <tr>\n",
              "      <th>125346</th>\n",
              "      <td>256.0</td>\n",
              "      <td>D00-SP</td>\n",
              "      <td>0</td>\n",
              "      <td>0.961360</td>\n",
              "      <td>6</td>\n",
              "      <td>0</td>\n",
              "      <td>low</td>\n",
              "      <td>0.152974</td>\n",
              "      <td>Left</td>\n",
              "      <td>4.0</td>\n",
              "      <td>51</td>\n",
              "      <td>Female</td>\n",
              "      <td>Married</td>\n",
              "    </tr>\n",
              "    <tr>\n",
              "      <th>113707</th>\n",
              "      <td>146.0</td>\n",
              "      <td>D00-SS</td>\n",
              "      <td>0</td>\n",
              "      <td>0.507349</td>\n",
              "      <td>2</td>\n",
              "      <td>0</td>\n",
              "      <td>medium</td>\n",
              "      <td>0.434845</td>\n",
              "      <td>Left</td>\n",
              "      <td>3.0</td>\n",
              "      <td>23</td>\n",
              "      <td>Female</td>\n",
              "      <td>Unmarried</td>\n",
              "    </tr>\n",
              "    <tr>\n",
              "      <th>...</th>\n",
              "      <td>...</td>\n",
              "      <td>...</td>\n",
              "      <td>...</td>\n",
              "      <td>...</td>\n",
              "      <td>...</td>\n",
              "      <td>...</td>\n",
              "      <td>...</td>\n",
              "      <td>...</td>\n",
              "      <td>...</td>\n",
              "      <td>...</td>\n",
              "      <td>...</td>\n",
              "      <td>...</td>\n",
              "      <td>...</td>\n",
              "    </tr>\n",
              "    <tr>\n",
              "      <th>100833</th>\n",
              "      <td>141.0</td>\n",
              "      <td>D00-SS</td>\n",
              "      <td>0</td>\n",
              "      <td>0.537866</td>\n",
              "      <td>3</td>\n",
              "      <td>0</td>\n",
              "      <td>low</td>\n",
              "      <td>0.610841</td>\n",
              "      <td>Employed</td>\n",
              "      <td>3.0</td>\n",
              "      <td>29</td>\n",
              "      <td>Male</td>\n",
              "      <td>Unmarried</td>\n",
              "    </tr>\n",
              "    <tr>\n",
              "      <th>118090</th>\n",
              "      <td>168.0</td>\n",
              "      <td>D00-SS</td>\n",
              "      <td>0</td>\n",
              "      <td>0.643553</td>\n",
              "      <td>3</td>\n",
              "      <td>0</td>\n",
              "      <td>low</td>\n",
              "      <td>0.489559</td>\n",
              "      <td>Employed</td>\n",
              "      <td>3.0</td>\n",
              "      <td>24</td>\n",
              "      <td>Female</td>\n",
              "      <td>Unmarried</td>\n",
              "    </tr>\n",
              "    <tr>\n",
              "      <th>106064</th>\n",
              "      <td>257.0</td>\n",
              "      <td>D00-SP</td>\n",
              "      <td>0</td>\n",
              "      <td>0.000000</td>\n",
              "      <td>3</td>\n",
              "      <td>0</td>\n",
              "      <td>medium</td>\n",
              "      <td>0.944942</td>\n",
              "      <td>Employed</td>\n",
              "      <td>3.0</td>\n",
              "      <td>27</td>\n",
              "      <td>Male</td>\n",
              "      <td>Unmarried</td>\n",
              "    </tr>\n",
              "    <tr>\n",
              "      <th>113083</th>\n",
              "      <td>242.0</td>\n",
              "      <td>D00-IT</td>\n",
              "      <td>0</td>\n",
              "      <td>0.836603</td>\n",
              "      <td>4</td>\n",
              "      <td>0</td>\n",
              "      <td>low</td>\n",
              "      <td>0.740136</td>\n",
              "      <td>Employed</td>\n",
              "      <td>2.0</td>\n",
              "      <td>46</td>\n",
              "      <td>Male</td>\n",
              "      <td>Married</td>\n",
              "    </tr>\n",
              "    <tr>\n",
              "      <th>104996</th>\n",
              "      <td>171.0</td>\n",
              "      <td>D00-SP</td>\n",
              "      <td>1</td>\n",
              "      <td>0.907277</td>\n",
              "      <td>3</td>\n",
              "      <td>0</td>\n",
              "      <td>low</td>\n",
              "      <td>0.506658</td>\n",
              "      <td>Employed</td>\n",
              "      <td>3.0</td>\n",
              "      <td>22</td>\n",
              "      <td>Male</td>\n",
              "      <td>Unmarried</td>\n",
              "    </tr>\n",
              "  </tbody>\n",
              "</table>\n",
              "<p>14116 rows × 13 columns</p>\n",
              "</div>"
            ],
            "text/plain": [
              "             avg_monthly_hrs department  ...  gender  marital_status\n",
              "employee_id                              ...                        \n",
              "124467                 246.0     D00-SS  ...  Female         Married\n",
              "112210                 134.0     D00-SS  ...  Female       Unmarried\n",
              "126150                 156.0     D00-SS  ...  Female       Unmarried\n",
              "125346                 256.0     D00-SP  ...  Female         Married\n",
              "113707                 146.0     D00-SS  ...  Female       Unmarried\n",
              "...                      ...        ...  ...     ...             ...\n",
              "100833                 141.0     D00-SS  ...    Male       Unmarried\n",
              "118090                 168.0     D00-SS  ...  Female       Unmarried\n",
              "106064                 257.0     D00-SP  ...    Male       Unmarried\n",
              "113083                 242.0     D00-IT  ...    Male         Married\n",
              "104996                 171.0     D00-SP  ...    Male       Unmarried\n",
              "\n",
              "[14116 rows x 13 columns]"
            ]
          },
          "metadata": {
            "tags": []
          },
          "execution_count": 61
        }
      ]
    },
    {
      "cell_type": "code",
      "metadata": {
        "id": "pwRZ04YcUkb3"
      },
      "source": [
        "features = ['avg_monthly_hrs', 'department', 'filed_complaint', 'last_evaluation',\n",
        "       'n_projects', 'recently_promoted', 'salary', 'satisfaction',\n",
        "       'tenure', 'age', 'gender', 'marital_status']"
      ],
      "execution_count": null,
      "outputs": []
    },
    {
      "cell_type": "code",
      "metadata": {
        "id": "cpw1yf99VgBZ"
      },
      "source": [
        "X = Employee[features]"
      ],
      "execution_count": null,
      "outputs": []
    },
    {
      "cell_type": "code",
      "metadata": {
        "colab": {
          "base_uri": "https://localhost:8080/",
          "height": 415
        },
        "id": "EQsvTQS1g-Px",
        "outputId": "82198ac1-69ee-40d6-c025-9c25d142763f"
      },
      "source": [
        "X.select_dtypes(include=['object'])"
      ],
      "execution_count": null,
      "outputs": [
        {
          "output_type": "execute_result",
          "data": {
            "text/html": [
              "<div>\n",
              "<style scoped>\n",
              "    .dataframe tbody tr th:only-of-type {\n",
              "        vertical-align: middle;\n",
              "    }\n",
              "\n",
              "    .dataframe tbody tr th {\n",
              "        vertical-align: top;\n",
              "    }\n",
              "\n",
              "    .dataframe thead th {\n",
              "        text-align: right;\n",
              "    }\n",
              "</style>\n",
              "<table border=\"1\" class=\"dataframe\">\n",
              "  <thead>\n",
              "    <tr style=\"text-align: right;\">\n",
              "      <th></th>\n",
              "      <th>department</th>\n",
              "      <th>filed_complaint</th>\n",
              "      <th>recently_promoted</th>\n",
              "      <th>salary</th>\n",
              "      <th>gender</th>\n",
              "      <th>marital_status</th>\n",
              "    </tr>\n",
              "  </thead>\n",
              "  <tbody>\n",
              "    <tr>\n",
              "      <th>0</th>\n",
              "      <td>D00-SS</td>\n",
              "      <td>0</td>\n",
              "      <td>0</td>\n",
              "      <td>medium</td>\n",
              "      <td>Female</td>\n",
              "      <td>Married</td>\n",
              "    </tr>\n",
              "    <tr>\n",
              "      <th>1</th>\n",
              "      <td>D00-SS</td>\n",
              "      <td>0</td>\n",
              "      <td>0</td>\n",
              "      <td>low</td>\n",
              "      <td>Female</td>\n",
              "      <td>Unmarried</td>\n",
              "    </tr>\n",
              "    <tr>\n",
              "      <th>2</th>\n",
              "      <td>D00-SS</td>\n",
              "      <td>1</td>\n",
              "      <td>0</td>\n",
              "      <td>medium</td>\n",
              "      <td>Female</td>\n",
              "      <td>Unmarried</td>\n",
              "    </tr>\n",
              "    <tr>\n",
              "      <th>3</th>\n",
              "      <td>D00-SP</td>\n",
              "      <td>0</td>\n",
              "      <td>0</td>\n",
              "      <td>low</td>\n",
              "      <td>Female</td>\n",
              "      <td>Married</td>\n",
              "    </tr>\n",
              "    <tr>\n",
              "      <th>4</th>\n",
              "      <td>D00-SS</td>\n",
              "      <td>0</td>\n",
              "      <td>0</td>\n",
              "      <td>medium</td>\n",
              "      <td>Female</td>\n",
              "      <td>Unmarried</td>\n",
              "    </tr>\n",
              "    <tr>\n",
              "      <th>...</th>\n",
              "      <td>...</td>\n",
              "      <td>...</td>\n",
              "      <td>...</td>\n",
              "      <td>...</td>\n",
              "      <td>...</td>\n",
              "      <td>...</td>\n",
              "    </tr>\n",
              "    <tr>\n",
              "      <th>14111</th>\n",
              "      <td>D00-SS</td>\n",
              "      <td>0</td>\n",
              "      <td>0</td>\n",
              "      <td>low</td>\n",
              "      <td>Male</td>\n",
              "      <td>Unmarried</td>\n",
              "    </tr>\n",
              "    <tr>\n",
              "      <th>14112</th>\n",
              "      <td>D00-SS</td>\n",
              "      <td>0</td>\n",
              "      <td>0</td>\n",
              "      <td>low</td>\n",
              "      <td>Female</td>\n",
              "      <td>Unmarried</td>\n",
              "    </tr>\n",
              "    <tr>\n",
              "      <th>14113</th>\n",
              "      <td>D00-SP</td>\n",
              "      <td>0</td>\n",
              "      <td>0</td>\n",
              "      <td>medium</td>\n",
              "      <td>Male</td>\n",
              "      <td>Unmarried</td>\n",
              "    </tr>\n",
              "    <tr>\n",
              "      <th>14114</th>\n",
              "      <td>D00-IT</td>\n",
              "      <td>0</td>\n",
              "      <td>0</td>\n",
              "      <td>low</td>\n",
              "      <td>Male</td>\n",
              "      <td>Married</td>\n",
              "    </tr>\n",
              "    <tr>\n",
              "      <th>14115</th>\n",
              "      <td>D00-SP</td>\n",
              "      <td>1</td>\n",
              "      <td>0</td>\n",
              "      <td>low</td>\n",
              "      <td>Male</td>\n",
              "      <td>Unmarried</td>\n",
              "    </tr>\n",
              "  </tbody>\n",
              "</table>\n",
              "<p>14116 rows × 6 columns</p>\n",
              "</div>"
            ],
            "text/plain": [
              "      department filed_complaint  ...  gender marital_status\n",
              "0         D00-SS               0  ...  Female        Married\n",
              "1         D00-SS               0  ...  Female      Unmarried\n",
              "2         D00-SS               1  ...  Female      Unmarried\n",
              "3         D00-SP               0  ...  Female        Married\n",
              "4         D00-SS               0  ...  Female      Unmarried\n",
              "...          ...             ...  ...     ...            ...\n",
              "14111     D00-SS               0  ...    Male      Unmarried\n",
              "14112     D00-SS               0  ...  Female      Unmarried\n",
              "14113     D00-SP               0  ...    Male      Unmarried\n",
              "14114     D00-IT               0  ...    Male        Married\n",
              "14115     D00-SP               1  ...    Male      Unmarried\n",
              "\n",
              "[14116 rows x 6 columns]"
            ]
          },
          "metadata": {
            "tags": []
          },
          "execution_count": 64
        }
      ]
    },
    {
      "cell_type": "code",
      "metadata": {
        "id": "U8MyKqPdVjP-"
      },
      "source": [
        "## Define the categorical columns and generate dummies for it using pd.get_dummies\n",
        "X = pd.get_dummies(X, X.select_dtypes(include=['object']).columns, drop_first=True)"
      ],
      "execution_count": null,
      "outputs": []
    },
    {
      "cell_type": "code",
      "metadata": {
        "colab": {
          "base_uri": "https://localhost:8080/",
          "height": 453
        },
        "id": "-l5zIV4yWy8h",
        "outputId": "7a696a53-a791-414d-dbcf-45276f61675a"
      },
      "source": [
        "X"
      ],
      "execution_count": null,
      "outputs": [
        {
          "output_type": "execute_result",
          "data": {
            "text/html": [
              "<div>\n",
              "<style scoped>\n",
              "    .dataframe tbody tr th:only-of-type {\n",
              "        vertical-align: middle;\n",
              "    }\n",
              "\n",
              "    .dataframe tbody tr th {\n",
              "        vertical-align: top;\n",
              "    }\n",
              "\n",
              "    .dataframe thead th {\n",
              "        text-align: right;\n",
              "    }\n",
              "</style>\n",
              "<table border=\"1\" class=\"dataframe\">\n",
              "  <thead>\n",
              "    <tr style=\"text-align: right;\">\n",
              "      <th></th>\n",
              "      <th>avg_monthly_hrs</th>\n",
              "      <th>last_evaluation</th>\n",
              "      <th>n_projects</th>\n",
              "      <th>satisfaction</th>\n",
              "      <th>tenure</th>\n",
              "      <th>age</th>\n",
              "      <th>department_D00-ENG</th>\n",
              "      <th>department_D00-FN</th>\n",
              "      <th>department_D00-IT</th>\n",
              "      <th>department_D00-MN</th>\n",
              "      <th>department_D00-MT</th>\n",
              "      <th>department_D00-PD</th>\n",
              "      <th>department_D00-PR</th>\n",
              "      <th>department_D00-SP</th>\n",
              "      <th>department_D00-SS</th>\n",
              "      <th>department_D00-TP</th>\n",
              "      <th>filed_complaint_1</th>\n",
              "      <th>recently_promoted_1</th>\n",
              "      <th>salary_low</th>\n",
              "      <th>salary_medium</th>\n",
              "      <th>gender_Male</th>\n",
              "      <th>marital_status_Unmarried</th>\n",
              "    </tr>\n",
              "  </thead>\n",
              "  <tbody>\n",
              "    <tr>\n",
              "      <th>0</th>\n",
              "      <td>246.0</td>\n",
              "      <td>0.866838</td>\n",
              "      <td>6</td>\n",
              "      <td>0.134415</td>\n",
              "      <td>4.0</td>\n",
              "      <td>42</td>\n",
              "      <td>0</td>\n",
              "      <td>0</td>\n",
              "      <td>0</td>\n",
              "      <td>0</td>\n",
              "      <td>0</td>\n",
              "      <td>0</td>\n",
              "      <td>0</td>\n",
              "      <td>0</td>\n",
              "      <td>1</td>\n",
              "      <td>0</td>\n",
              "      <td>0</td>\n",
              "      <td>0</td>\n",
              "      <td>0</td>\n",
              "      <td>1</td>\n",
              "      <td>0</td>\n",
              "      <td>0</td>\n",
              "    </tr>\n",
              "    <tr>\n",
              "      <th>1</th>\n",
              "      <td>134.0</td>\n",
              "      <td>0.555718</td>\n",
              "      <td>2</td>\n",
              "      <td>0.511041</td>\n",
              "      <td>3.0</td>\n",
              "      <td>23</td>\n",
              "      <td>0</td>\n",
              "      <td>0</td>\n",
              "      <td>0</td>\n",
              "      <td>0</td>\n",
              "      <td>0</td>\n",
              "      <td>0</td>\n",
              "      <td>0</td>\n",
              "      <td>0</td>\n",
              "      <td>1</td>\n",
              "      <td>0</td>\n",
              "      <td>0</td>\n",
              "      <td>0</td>\n",
              "      <td>1</td>\n",
              "      <td>0</td>\n",
              "      <td>0</td>\n",
              "      <td>1</td>\n",
              "    </tr>\n",
              "    <tr>\n",
              "      <th>2</th>\n",
              "      <td>156.0</td>\n",
              "      <td>0.474082</td>\n",
              "      <td>2</td>\n",
              "      <td>0.405101</td>\n",
              "      <td>3.0</td>\n",
              "      <td>24</td>\n",
              "      <td>0</td>\n",
              "      <td>0</td>\n",
              "      <td>0</td>\n",
              "      <td>0</td>\n",
              "      <td>0</td>\n",
              "      <td>0</td>\n",
              "      <td>0</td>\n",
              "      <td>0</td>\n",
              "      <td>1</td>\n",
              "      <td>0</td>\n",
              "      <td>1</td>\n",
              "      <td>0</td>\n",
              "      <td>0</td>\n",
              "      <td>1</td>\n",
              "      <td>0</td>\n",
              "      <td>1</td>\n",
              "    </tr>\n",
              "    <tr>\n",
              "      <th>3</th>\n",
              "      <td>256.0</td>\n",
              "      <td>0.961360</td>\n",
              "      <td>6</td>\n",
              "      <td>0.152974</td>\n",
              "      <td>4.0</td>\n",
              "      <td>51</td>\n",
              "      <td>0</td>\n",
              "      <td>0</td>\n",
              "      <td>0</td>\n",
              "      <td>0</td>\n",
              "      <td>0</td>\n",
              "      <td>0</td>\n",
              "      <td>0</td>\n",
              "      <td>1</td>\n",
              "      <td>0</td>\n",
              "      <td>0</td>\n",
              "      <td>0</td>\n",
              "      <td>0</td>\n",
              "      <td>1</td>\n",
              "      <td>0</td>\n",
              "      <td>0</td>\n",
              "      <td>0</td>\n",
              "    </tr>\n",
              "    <tr>\n",
              "      <th>4</th>\n",
              "      <td>146.0</td>\n",
              "      <td>0.507349</td>\n",
              "      <td>2</td>\n",
              "      <td>0.434845</td>\n",
              "      <td>3.0</td>\n",
              "      <td>23</td>\n",
              "      <td>0</td>\n",
              "      <td>0</td>\n",
              "      <td>0</td>\n",
              "      <td>0</td>\n",
              "      <td>0</td>\n",
              "      <td>0</td>\n",
              "      <td>0</td>\n",
              "      <td>0</td>\n",
              "      <td>1</td>\n",
              "      <td>0</td>\n",
              "      <td>0</td>\n",
              "      <td>0</td>\n",
              "      <td>0</td>\n",
              "      <td>1</td>\n",
              "      <td>0</td>\n",
              "      <td>1</td>\n",
              "    </tr>\n",
              "    <tr>\n",
              "      <th>...</th>\n",
              "      <td>...</td>\n",
              "      <td>...</td>\n",
              "      <td>...</td>\n",
              "      <td>...</td>\n",
              "      <td>...</td>\n",
              "      <td>...</td>\n",
              "      <td>...</td>\n",
              "      <td>...</td>\n",
              "      <td>...</td>\n",
              "      <td>...</td>\n",
              "      <td>...</td>\n",
              "      <td>...</td>\n",
              "      <td>...</td>\n",
              "      <td>...</td>\n",
              "      <td>...</td>\n",
              "      <td>...</td>\n",
              "      <td>...</td>\n",
              "      <td>...</td>\n",
              "      <td>...</td>\n",
              "      <td>...</td>\n",
              "      <td>...</td>\n",
              "      <td>...</td>\n",
              "    </tr>\n",
              "    <tr>\n",
              "      <th>14111</th>\n",
              "      <td>141.0</td>\n",
              "      <td>0.537866</td>\n",
              "      <td>3</td>\n",
              "      <td>0.610841</td>\n",
              "      <td>3.0</td>\n",
              "      <td>29</td>\n",
              "      <td>0</td>\n",
              "      <td>0</td>\n",
              "      <td>0</td>\n",
              "      <td>0</td>\n",
              "      <td>0</td>\n",
              "      <td>0</td>\n",
              "      <td>0</td>\n",
              "      <td>0</td>\n",
              "      <td>1</td>\n",
              "      <td>0</td>\n",
              "      <td>0</td>\n",
              "      <td>0</td>\n",
              "      <td>1</td>\n",
              "      <td>0</td>\n",
              "      <td>1</td>\n",
              "      <td>1</td>\n",
              "    </tr>\n",
              "    <tr>\n",
              "      <th>14112</th>\n",
              "      <td>168.0</td>\n",
              "      <td>0.643553</td>\n",
              "      <td>3</td>\n",
              "      <td>0.489559</td>\n",
              "      <td>3.0</td>\n",
              "      <td>24</td>\n",
              "      <td>0</td>\n",
              "      <td>0</td>\n",
              "      <td>0</td>\n",
              "      <td>0</td>\n",
              "      <td>0</td>\n",
              "      <td>0</td>\n",
              "      <td>0</td>\n",
              "      <td>0</td>\n",
              "      <td>1</td>\n",
              "      <td>0</td>\n",
              "      <td>0</td>\n",
              "      <td>0</td>\n",
              "      <td>1</td>\n",
              "      <td>0</td>\n",
              "      <td>0</td>\n",
              "      <td>1</td>\n",
              "    </tr>\n",
              "    <tr>\n",
              "      <th>14113</th>\n",
              "      <td>257.0</td>\n",
              "      <td>0.000000</td>\n",
              "      <td>3</td>\n",
              "      <td>0.944942</td>\n",
              "      <td>3.0</td>\n",
              "      <td>27</td>\n",
              "      <td>0</td>\n",
              "      <td>0</td>\n",
              "      <td>0</td>\n",
              "      <td>0</td>\n",
              "      <td>0</td>\n",
              "      <td>0</td>\n",
              "      <td>0</td>\n",
              "      <td>1</td>\n",
              "      <td>0</td>\n",
              "      <td>0</td>\n",
              "      <td>0</td>\n",
              "      <td>0</td>\n",
              "      <td>0</td>\n",
              "      <td>1</td>\n",
              "      <td>1</td>\n",
              "      <td>1</td>\n",
              "    </tr>\n",
              "    <tr>\n",
              "      <th>14114</th>\n",
              "      <td>242.0</td>\n",
              "      <td>0.836603</td>\n",
              "      <td>4</td>\n",
              "      <td>0.740136</td>\n",
              "      <td>2.0</td>\n",
              "      <td>46</td>\n",
              "      <td>0</td>\n",
              "      <td>0</td>\n",
              "      <td>1</td>\n",
              "      <td>0</td>\n",
              "      <td>0</td>\n",
              "      <td>0</td>\n",
              "      <td>0</td>\n",
              "      <td>0</td>\n",
              "      <td>0</td>\n",
              "      <td>0</td>\n",
              "      <td>0</td>\n",
              "      <td>0</td>\n",
              "      <td>1</td>\n",
              "      <td>0</td>\n",
              "      <td>1</td>\n",
              "      <td>0</td>\n",
              "    </tr>\n",
              "    <tr>\n",
              "      <th>14115</th>\n",
              "      <td>171.0</td>\n",
              "      <td>0.907277</td>\n",
              "      <td>3</td>\n",
              "      <td>0.506658</td>\n",
              "      <td>3.0</td>\n",
              "      <td>22</td>\n",
              "      <td>0</td>\n",
              "      <td>0</td>\n",
              "      <td>0</td>\n",
              "      <td>0</td>\n",
              "      <td>0</td>\n",
              "      <td>0</td>\n",
              "      <td>0</td>\n",
              "      <td>1</td>\n",
              "      <td>0</td>\n",
              "      <td>0</td>\n",
              "      <td>1</td>\n",
              "      <td>0</td>\n",
              "      <td>1</td>\n",
              "      <td>0</td>\n",
              "      <td>1</td>\n",
              "      <td>1</td>\n",
              "    </tr>\n",
              "  </tbody>\n",
              "</table>\n",
              "<p>14116 rows × 22 columns</p>\n",
              "</div>"
            ],
            "text/plain": [
              "       avg_monthly_hrs  last_evaluation  ...  gender_Male  marital_status_Unmarried\n",
              "0                246.0         0.866838  ...            0                         0\n",
              "1                134.0         0.555718  ...            0                         1\n",
              "2                156.0         0.474082  ...            0                         1\n",
              "3                256.0         0.961360  ...            0                         0\n",
              "4                146.0         0.507349  ...            0                         1\n",
              "...                ...              ...  ...          ...                       ...\n",
              "14111            141.0         0.537866  ...            1                         1\n",
              "14112            168.0         0.643553  ...            0                         1\n",
              "14113            257.0         0.000000  ...            1                         1\n",
              "14114            242.0         0.836603  ...            1                         0\n",
              "14115            171.0         0.907277  ...            1                         1\n",
              "\n",
              "[14116 rows x 22 columns]"
            ]
          },
          "metadata": {
            "tags": []
          },
          "execution_count": 66
        }
      ]
    },
    {
      "cell_type": "code",
      "metadata": {
        "colab": {
          "base_uri": "https://localhost:8080/"
        },
        "id": "VGAJpE_PW3pW",
        "outputId": "c171ec89-661c-4aa5-baf4-9c929a95310e"
      },
      "source": [
        "X.shape"
      ],
      "execution_count": null,
      "outputs": [
        {
          "output_type": "execute_result",
          "data": {
            "text/plain": [
              "(14116, 22)"
            ]
          },
          "metadata": {
            "tags": []
          },
          "execution_count": 67
        }
      ]
    },
    {
      "cell_type": "markdown",
      "metadata": {
        "id": "h63Xoai-ed9M"
      },
      "source": [
        "<a id=section8></a>\n",
        "# 8. Modeling\n",
        "\n",
        "<a id=section501></a>\n",
        "## 8.1 Define X and Y for Model Training"
      ]
    },
    {
      "cell_type": "code",
      "metadata": {
        "id": "6AGKtNrPehJG"
      },
      "source": [
        "Y = Employee['status'] ## Define the target variable"
      ],
      "execution_count": null,
      "outputs": []
    },
    {
      "cell_type": "code",
      "metadata": {
        "colab": {
          "base_uri": "https://localhost:8080/"
        },
        "id": "ayXtJhbketX6",
        "outputId": "4a2e2523-2be7-42d5-ebb0-9a574e546436"
      },
      "source": [
        "Y.tail()"
      ],
      "execution_count": null,
      "outputs": [
        {
          "output_type": "execute_result",
          "data": {
            "text/plain": [
              "14111    Employed\n",
              "14112    Employed\n",
              "14113    Employed\n",
              "14114    Employed\n",
              "14115    Employed\n",
              "Name: status, dtype: object"
            ]
          },
          "metadata": {
            "tags": []
          },
          "execution_count": 69
        }
      ]
    },
    {
      "cell_type": "code",
      "metadata": {
        "id": "vMI98PzMexe3"
      },
      "source": [
        "# convert the Stauts  to binary values\n",
        "Y.replace(to_replace=['Employed','Left'], value=[0,1],inplace=True) #Target variable should be 1 for Left and 0 for Employed"
      ],
      "execution_count": null,
      "outputs": []
    },
    {
      "cell_type": "code",
      "metadata": {
        "colab": {
          "base_uri": "https://localhost:8080/"
        },
        "id": "g3MNyDV4fLWE",
        "outputId": "9abb21f9-af0f-4494-9977-916931508049"
      },
      "source": [
        "Y.tail()"
      ],
      "execution_count": null,
      "outputs": [
        {
          "output_type": "execute_result",
          "data": {
            "text/plain": [
              "14111    0\n",
              "14112    0\n",
              "14113    0\n",
              "14114    0\n",
              "14115    0\n",
              "Name: status, dtype: int64"
            ]
          },
          "metadata": {
            "tags": []
          },
          "execution_count": 71
        }
      ]
    },
    {
      "cell_type": "code",
      "metadata": {
        "colab": {
          "base_uri": "https://localhost:8080/"
        },
        "id": "fwRE9K0YfS2M",
        "outputId": "494d4be5-5ff3-4653-a86a-e3e8ca47fee6"
      },
      "source": [
        "Y.head()"
      ],
      "execution_count": null,
      "outputs": [
        {
          "output_type": "execute_result",
          "data": {
            "text/plain": [
              "0    1\n",
              "1    1\n",
              "2    1\n",
              "3    1\n",
              "4    1\n",
              "Name: status, dtype: int64"
            ]
          },
          "metadata": {
            "tags": []
          },
          "execution_count": 72
        }
      ]
    },
    {
      "cell_type": "markdown",
      "metadata": {
        "id": "dSibMIdefaqK"
      },
      "source": [
        "<a id=section802></a>\n",
        "## 8.2 Train Test Split"
      ]
    },
    {
      "cell_type": "code",
      "metadata": {
        "id": "TrSusUtyfelZ"
      },
      "source": [
        "from sklearn.model_selection import train_test_split\n",
        "X_train,X_Test,y_train,y_test = train_test_split(X, Y, test_size=0.4, random_state=4)"
      ],
      "execution_count": null,
      "outputs": []
    },
    {
      "cell_type": "markdown",
      "metadata": {
        "id": "ovhB56kJfiXx"
      },
      "source": [
        "<a id=section803></a>\n",
        "## 8.3 Transformation/Scaling Train and Test Data"
      ]
    },
    {
      "cell_type": "code",
      "metadata": {
        "id": "ECAujkABfkbD"
      },
      "source": [
        "#from sklearn import preprocessing\n",
        "#X_train = preprocessing.StandardScaler().fit(X_train).transform(X_train)\n",
        "#X_Test=  preprocessing.StandardScaler().fit(X_Test).transform(X_Test)"
      ],
      "execution_count": null,
      "outputs": []
    },
    {
      "cell_type": "code",
      "metadata": {
        "id": "uBYqvw4edXe4"
      },
      "source": [
        "from sklearn import preprocessing\n",
        "scaling_fit=preprocessing.StandardScaler().fit(X_train)\n",
        "X_train = scaling_fit.transform(X_train)\n",
        "X_Test=  scaling_fit.transform(X_Test)"
      ],
      "execution_count": null,
      "outputs": []
    },
    {
      "cell_type": "code",
      "metadata": {
        "colab": {
          "base_uri": "https://localhost:8080/"
        },
        "id": "VUXfpL8SfmcH",
        "outputId": "1d3b3015-9a52-44fd-d61d-d4b3f088a738"
      },
      "source": [
        "print(\"X train Shape : \",X_train.shape)\n",
        "print(\"X test Shape : \",X_Test.shape)\n",
        "print(\"Y train Shape : \",y_train.shape)\n",
        "print(\"Y test Shape : \",y_test.shape)"
      ],
      "execution_count": null,
      "outputs": [
        {
          "output_type": "stream",
          "text": [
            "X train Shape :  (8469, 22)\n",
            "X test Shape :  (5647, 22)\n",
            "Y train Shape :  (8469,)\n",
            "Y test Shape :  (5647,)\n"
          ],
          "name": "stdout"
        }
      ]
    },
    {
      "cell_type": "code",
      "metadata": {
        "id": "bHFDNAD0foGF"
      },
      "source": [
        ""
      ],
      "execution_count": null,
      "outputs": []
    },
    {
      "cell_type": "markdown",
      "metadata": {
        "id": "f97t53Fofq7a"
      },
      "source": [
        "<a id=section804></a>\n",
        "## 8.4 LOGISTIC REGRESSION MODEL"
      ]
    },
    {
      "cell_type": "code",
      "metadata": {
        "id": "1np3nfQJftpb"
      },
      "source": [
        "from sklearn import metrics\n",
        "from sklearn.metrics import precision_score\n",
        "from sklearn.metrics import classification_report, confusion_matrix\n",
        "from sklearn.metrics import f1_score\n",
        "from sklearn.metrics import recall_score\n",
        "from sklearn.linear_model import LogisticRegression\n",
        "LogReg_model = LogisticRegression().fit(X_train,y_train)"
      ],
      "execution_count": null,
      "outputs": []
    },
    {
      "cell_type": "code",
      "metadata": {
        "id": "YSPs4TBUfv-g"
      },
      "source": [
        "y_pred = LogReg_model.predict(X_Test)"
      ],
      "execution_count": null,
      "outputs": []
    },
    {
      "cell_type": "code",
      "metadata": {
        "colab": {
          "base_uri": "https://localhost:8080/"
        },
        "id": "-9g2POnDiW-r",
        "outputId": "64f46a0d-7b6f-47ff-c0d7-3383b29be2bc"
      },
      "source": [
        "\n",
        "cnf_matrix = confusion_matrix(y_test, y_pred)\n",
        "print(\"Confusion Matrix: \\n\",cnf_matrix)\n",
        "\n",
        "print('Precision score for test data using logistic Regression is:', precision_score(y_test,y_pred))\n",
        "print('Recall score for test data using logistic Regression is:',recall_score(y_test,y_pred))   \n",
        "print('F1_score for test data using logistic Regression is:',f1_score(y_test, y_pred))\n"
      ],
      "execution_count": null,
      "outputs": [
        {
          "output_type": "stream",
          "text": [
            "Confusion Matrix: \n",
            " [[3972  313]\n",
            " [ 840  522]]\n",
            "Precision score for test data using logistic Regression is: 0.6251497005988024\n",
            "Recall score for test data using logistic Regression is: 0.3832599118942731\n",
            "F1_score for test data using logistic Regression is: 0.4751934456076468\n"
          ],
          "name": "stdout"
        }
      ]
    },
    {
      "cell_type": "code",
      "metadata": {
        "colab": {
          "base_uri": "https://localhost:8080/",
          "height": 295
        },
        "id": "8IAIhE51iYCd",
        "outputId": "903fe59d-b869-4e85-8410-bc227fed7f6f"
      },
      "source": [
        "\n",
        "\n",
        "\n",
        "probs = LogReg_model.predict_proba(X_Test)\n",
        "preds = probs[:,1]\n",
        "fpr, tpr, threshold = metrics.roc_curve(y_test,y_pred)\n",
        "roc_auc = metrics.auc(fpr, tpr)\n",
        "\n",
        "import matplotlib.pyplot as plt\n",
        "plt.title('Receiver Operating Characteristic')\n",
        "plt.plot(fpr, tpr, 'b', label = 'AUC = %0.2f' % roc_auc)\n",
        "plt.legend(loc = 'lower right')\n",
        "plt.plot([0, 1], [0, 1],'r--')\n",
        "plt.xlim([0, 1])\n",
        "plt.ylim([0, 1])\n",
        "plt.ylabel('True Positive Rate')\n",
        "plt.xlabel('False Positive Rate')\n",
        "plt.show()"
      ],
      "execution_count": null,
      "outputs": [
        {
          "output_type": "display_data",
          "data": {
            "image/png": "[encoded data removed]",
            "text/plain": [
              "<Figure size 432x288 with 1 Axes>"
            ]
          },
          "metadata": {
            "tags": [],
            "needs_background": "light"
          }
        }
      ]
    },
    {
      "cell_type": "code",
      "metadata": {
        "id": "y0VRKDxIigEN"
      },
      "source": [
        "## Define the Model Parameters dictory for all the models used for GRIDSearchCV. \n",
        "#This can help us run the multiple model with multiple parameters in a single iteration\n",
        "model_params = {\n",
        "  ##  'Naive Bayes':{\n",
        "       ##        'model':GaussianNB(),\n",
        "        ##       'params' : { }\n",
        "        #   },\n",
        "    'SVC': {\n",
        "        'model': SVC(gamma='auto'),\n",
        "        'params' : {\n",
        "            'C': [1,10,20,30,40],\n",
        "            'kernel': ['rbf','linear','poly']\n",
        "        }  \n",
        "    },\n",
        "    'random_forest': {\n",
        "        'model': RandomForestClassifier(),\n",
        "        'params' : {\n",
        "            'n_estimators': [1,5,10,20,30,40,50],\n",
        "            'criterion':['gini', 'entropy']\n",
        "        }\n",
        "    },\n",
        "    'KNN' : {\n",
        "        'model': KNeighborsClassifier(),\n",
        "        'params':{'metric':['manhattan','chebyshev', 'euclidean'],'weights':['uniform', 'distance'],\n",
        "                             'n_neighbors': range(1,20) }\n",
        "        \n",
        "        \n",
        "    }\n",
        "}"
      ],
      "execution_count": null,
      "outputs": []
    },
    {
      "cell_type": "code",
      "metadata": {
        "colab": {
          "base_uri": "https://localhost:8080/"
        },
        "id": "ukzyJENcjEZ4",
        "outputId": "32815145-2767-4a85-f162-0730d747fbe3"
      },
      "source": [
        "scores = []\n",
        "# Run the model model parameters defined in the above step. \n",
        "#This will run all the model using different parameters and return accuracy\n",
        "for model_name, mp in model_params.items():\n",
        "    print(model_name,mp)\n",
        "    clf =  GridSearchCV(mp['model'], mp['params'], cv=5, return_train_score=False, refit=True)\n",
        "    clf.fit(X_train,y_train)\n",
        "    scores.append({\n",
        "        'model': model_name,\n",
        "        'best_score': clf.best_score_,\n",
        "        'best_params': clf.best_params_\n",
        "        \n",
        "    })\n",
        "    print('best_params', clf.best_params_)\n"
      ],
      "execution_count": null,
      "outputs": [
        {
          "output_type": "stream",
          "text": [
            "SVC {'model': SVC(C=1.0, break_ties=False, cache_size=200, class_weight=None, coef0=0.0,\n",
            "    decision_function_shape='ovr', degree=3, gamma='auto', kernel='rbf',\n",
            "    max_iter=-1, probability=False, random_state=None, shrinking=True,\n",
            "    tol=0.001, verbose=False), 'params': {'C': [1, 10, 20, 30, 40], 'kernel': ['rbf', 'linear', 'poly']}}\n",
            "best_params {'C': 20, 'kernel': 'rbf'}\n",
            "random_forest {'model': RandomForestClassifier(bootstrap=True, ccp_alpha=0.0, class_weight=None,\n",
            "                       criterion='gini', max_depth=None, max_features='auto',\n",
            "                       max_leaf_nodes=None, max_samples=None,\n",
            "                       min_impurity_decrease=0.0, min_impurity_split=None,\n",
            "                       min_samples_leaf=1, min_samples_split=2,\n",
            "                       min_weight_fraction_leaf=0.0, n_estimators=100,\n",
            "                       n_jobs=None, oob_score=False, random_state=None,\n",
            "                       verbose=0, warm_start=False), 'params': {'n_estimators': [1, 5, 10, 20, 30, 40, 50], 'criterion': ['gini', 'entropy']}}\n",
            "best_params {'criterion': 'entropy', 'n_estimators': 30}\n",
            "KNN {'model': KNeighborsClassifier(algorithm='auto', leaf_size=30, metric='minkowski',\n",
            "                     metric_params=None, n_jobs=None, n_neighbors=5, p=2,\n",
            "                     weights='uniform'), 'params': {'metric': ['manhattan', 'chebyshev', 'euclidean'], 'weights': ['uniform', 'distance'], 'n_neighbors': range(1, 20)}}\n",
            "best_params {'metric': 'manhattan', 'n_neighbors': 6, 'weights': 'distance'}\n"
          ],
          "name": "stdout"
        }
      ]
    },
    {
      "cell_type": "code",
      "metadata": {
        "colab": {
          "base_uri": "https://localhost:8080/"
        },
        "id": "pvr_Q8qmjGbQ",
        "outputId": "f8323d01-17ae-4fc1-ae8e-cf1fe2a952a2"
      },
      "source": [
        "df_Score = pd.DataFrame(scores,columns=['model','best_score','best_params']) # store the results in a Data frame\n",
        "df_Score # print the score data frame to see the results of all the models"
      ],
      "execution_count": null,
      "outputs": [
        {
          "output_type": "execute_result",
          "data": {
            "text/html": [
              "<div>\n",
              "<style scoped>\n",
              "    .dataframe tbody tr th:only-of-type {\n",
              "        vertical-align: middle;\n",
              "    }\n",
              "\n",
              "    .dataframe tbody tr th {\n",
              "        vertical-align: top;\n",
              "    }\n",
              "\n",
              "    .dataframe thead th {\n",
              "        text-align: right;\n",
              "    }\n",
              "</style>\n",
              "<table border=\"1\" class=\"dataframe\">\n",
              "  <thead>\n",
              "    <tr style=\"text-align: right;\">\n",
              "      <th></th>\n",
              "      <th>model</th>\n",
              "      <th>best_score</th>\n",
              "      <th>best_params</th>\n",
              "    </tr>\n",
              "  </thead>\n",
              "  <tbody>\n",
              "    <tr>\n",
              "      <th>0</th>\n",
              "      <td>SVC</td>\n",
              "      <td>0.951470</td>\n",
              "      <td>{'C': 20, 'kernel': 'rbf'}</td>\n",
              "    </tr>\n",
              "    <tr>\n",
              "      <th>1</th>\n",
              "      <td>random_forest</td>\n",
              "      <td>0.972725</td>\n",
              "      <td>{'criterion': 'entropy', 'n_estimators': 30}</td>\n",
              "    </tr>\n",
              "    <tr>\n",
              "      <th>2</th>\n",
              "      <td>KNN</td>\n",
              "      <td>0.935293</td>\n",
              "      <td>{'metric': 'manhattan', 'n_neighbors': 6, 'wei...</td>\n",
              "    </tr>\n",
              "  </tbody>\n",
              "</table>\n",
              "</div>"
            ],
            "text/plain": [
              "           model  best_score                                        best_params\n",
              "0            SVC    0.951470                         {'C': 20, 'kernel': 'rbf'}\n",
              "1  random_forest    0.972725       {'criterion': 'entropy', 'n_estimators': 30}\n",
              "2            KNN    0.935293  {'metric': 'manhattan', 'n_neighbors': 6, 'wei..."
            ]
          },
          "metadata": {
            "tags": []
          },
          "execution_count": 83
        }
      ]
    },
    {
      "cell_type": "markdown",
      "metadata": {
        "id": "DTSkgP5JjQaf"
      },
      "source": [
        "## Random Forest and SVC got higher scores. Validating each of these"
      ]
    },
    {
      "cell_type": "markdown",
      "metadata": {
        "id": "FHeo9CuLdXe6"
      },
      "source": [
        "### Random Forest"
      ]
    },
    {
      "cell_type": "code",
      "metadata": {
        "colab": {
          "base_uri": "https://localhost:8080/"
        },
        "id": "_SOBIk7ZdXe7",
        "scrolled": true,
        "outputId": "3f636fa6-c8e2-4b4b-8e07-72ce128b8bd8"
      },
      "source": [
        "\n",
        "RF_model = RandomForestClassifier(n_estimators= 40).fit(X_train,y_train)\n",
        "Train_pred=RF_model.predict(X_train)\n",
        "y_pred=RF_model.predict(X_Test)\n",
        "print('Accuracy_score for train data using Random Forest is:',accuracy_score(y_train, Train_pred))\n",
        "print('Precision score for train data using Random Forest is:', precision_score(y_train,Train_pred))\n",
        "print('Recall score for train data using Random Forest is:',recall_score(y_train,Train_pred))   \n",
        "print('F1_score for train data using Random Forest is:',f1_score(y_train,Train_pred))\n",
        "print('Accuracy_score for test data using Random Forest is:',accuracy_score(y_test, y_pred))\n",
        "print('Precision score for test data using Random Forest is:', precision_score(y_test,y_pred))\n",
        "print('Recall score for test data using Random Forest is:',recall_score(y_test,y_pred))   \n",
        "print('F1_score for test data using Random Forest is:',f1_score(y_test, y_pred))"
      ],
      "execution_count": null,
      "outputs": [
        {
          "output_type": "stream",
          "text": [
            "Accuracy_score for train data using Random Forest is: 0.9996457669146298\n",
            "Precision score for train data using Random Forest is: 1.0\n",
            "Recall score for train data using Random Forest is: 0.9984947315604616\n",
            "F1_score for train data using Random Forest is: 0.9992467988953051\n",
            "Accuracy_score for test data using Random Forest is: 0.9748539047281742\n",
            "Precision score for test data using Random Forest is: 0.9841269841269841\n",
            "Recall score for test data using Random Forest is: 0.9104258443465492\n",
            "F1_score for test data using Random Forest is: 0.9458428680396642\n"
          ],
          "name": "stdout"
        }
      ]
    },
    {
      "cell_type": "markdown",
      "metadata": {
        "id": "BHEZ9Kf5dXe7"
      },
      "source": [
        "### SVC"
      ]
    },
    {
      "cell_type": "code",
      "metadata": {
        "colab": {
          "base_uri": "https://localhost:8080/"
        },
        "id": "y3namutrdXe7",
        "outputId": "f2dc2e0f-72ab-486f-fcf6-7623aa92cdd4"
      },
      "source": [
        "SVC_model = SVC(C= 20, kernel= 'rbf').fit(X_train,y_train)\n",
        "Train_pred=SVC_model.predict(X_train)\n",
        "y_pred=SVC_model.predict(X_Test)\n",
        "print('Accuracy_score for train data using SVC_model is:',accuracy_score(y_train, Train_pred))\n",
        "print('Precision score for train data using SVC is:', precision_score(y_train,Train_pred))\n",
        "print('Recall score for train data using SVC is:',recall_score(y_train,Train_pred))   \n",
        "print('F1_score for train data using SVC_model is:',f1_score(y_train,Train_pred))\n",
        "print('Accuracy_score for test data using SVC_model is:',accuracy_score(y_test, y_pred))\n",
        "print('Precision score for test data using SVC_model is:', precision_score(y_test,y_pred))\n",
        "print('Recall score for test data using SVC_model is:',recall_score(y_test,y_pred))   \n",
        "print('F1_score for test data using SVC_model is:',f1_score(y_test, y_pred))"
      ],
      "execution_count": null,
      "outputs": [
        {
          "output_type": "stream",
          "text": [
            "Accuracy_score for train data using SVC_model is: 0.9740229070728539\n",
            "Precision score for train data using SVC is: 0.9493157627977699\n",
            "Recall score for train data using SVC is: 0.9397892624184646\n",
            "F1_score for train data using SVC_model is: 0.9445284921835603\n",
            "Accuracy_score for test data using SVC_model is: 0.9541349389056136\n",
            "Precision score for test data using SVC_model is: 0.9131086142322098\n",
            "Recall score for test data using SVC_model is: 0.895007342143906\n",
            "F1_score for test data using SVC_model is: 0.9039673711531331\n"
          ],
          "name": "stdout"
        }
      ]
    },
    {
      "cell_type": "code",
      "metadata": {
        "colab": {
          "base_uri": "https://localhost:8080/"
        },
        "id": "azhPBOevhw0Y",
        "outputId": "6a3949d6-7f23-412a-a3bd-293b12772c3c"
      },
      "source": [
        "c =[1,10,15,20,30,40]  ## run SVC with different C values\n",
        "score = []\n",
        "start_time = time.time() # track the time required to run the alogithm\n",
        "for i in c:\n",
        "    model = SVC(gamma='auto', C= i, kernel = 'rbf')\n",
        "    model.fit(X_train,y_train)\n",
        "    ypred = model.predict(X_Test)\n",
        "    Model_score = accuracy_score(y_test, ypred)\n",
        "    model_precision = precision_score(y_test, ypred, average='weighted')\n",
        "    # store C and its corresponding Score value in the model\n",
        "    score.append({\n",
        "        'C': i,\n",
        "        'score': Model_score,\n",
        "        'Precision' : model_precision\n",
        "    })\n",
        "end_time = time.time()\n",
        "time2 = end_time-start_time\n",
        "print(time2)  "
      ],
      "execution_count": null,
      "outputs": [
        {
          "output_type": "stream",
          "text": [
            "9.371357202529907\n"
          ],
          "name": "stdout"
        }
      ]
    },
    {
      "cell_type": "markdown",
      "metadata": {
        "id": "MwN0nv5ddXe7"
      },
      "source": [
        "## Observations:\n",
        "- Both models are good. SVC however has lower difference in Recall value between train and test. Random Forest might be overfitting since there is higher difference between recall values between train and test. Looks like SVC would be better."
      ]
    },
    {
      "cell_type": "code",
      "metadata": {
        "id": "0FIxy9NniLHs"
      },
      "source": [
        "df_score= pd.DataFrame(score,columns =['C', 'score'])"
      ],
      "execution_count": null,
      "outputs": []
    },
    {
      "cell_type": "code",
      "metadata": {
        "colab": {
          "base_uri": "https://localhost:8080/"
        },
        "id": "mJNQ7LSndXe7",
        "outputId": "55e0ddd2-4598-4c85-d1de-e18df1072a7b"
      },
      "source": [
        "df_score"
      ],
      "execution_count": null,
      "outputs": [
        {
          "output_type": "execute_result",
          "data": {
            "text/html": [
              "<div>\n",
              "<style scoped>\n",
              "    .dataframe tbody tr th:only-of-type {\n",
              "        vertical-align: middle;\n",
              "    }\n",
              "\n",
              "    .dataframe tbody tr th {\n",
              "        vertical-align: top;\n",
              "    }\n",
              "\n",
              "    .dataframe thead th {\n",
              "        text-align: right;\n",
              "    }\n",
              "</style>\n",
              "<table border=\"1\" class=\"dataframe\">\n",
              "  <thead>\n",
              "    <tr style=\"text-align: right;\">\n",
              "      <th></th>\n",
              "      <th>C</th>\n",
              "      <th>score</th>\n",
              "    </tr>\n",
              "  </thead>\n",
              "  <tbody>\n",
              "    <tr>\n",
              "      <th>0</th>\n",
              "      <td>1</td>\n",
              "      <td>0.944041</td>\n",
              "    </tr>\n",
              "    <tr>\n",
              "      <th>1</th>\n",
              "      <td>10</td>\n",
              "      <td>0.953781</td>\n",
              "    </tr>\n",
              "    <tr>\n",
              "      <th>2</th>\n",
              "      <td>15</td>\n",
              "      <td>0.953427</td>\n",
              "    </tr>\n",
              "    <tr>\n",
              "      <th>3</th>\n",
              "      <td>20</td>\n",
              "      <td>0.954135</td>\n",
              "    </tr>\n",
              "    <tr>\n",
              "      <th>4</th>\n",
              "      <td>30</td>\n",
              "      <td>0.956083</td>\n",
              "    </tr>\n",
              "    <tr>\n",
              "      <th>5</th>\n",
              "      <td>40</td>\n",
              "      <td>0.956260</td>\n",
              "    </tr>\n",
              "  </tbody>\n",
              "</table>\n",
              "</div>"
            ],
            "text/plain": [
              "    C     score\n",
              "0   1  0.944041\n",
              "1  10  0.953781\n",
              "2  15  0.953427\n",
              "3  20  0.954135\n",
              "4  30  0.956083\n",
              "5  40  0.956260"
            ]
          },
          "metadata": {
            "tags": []
          },
          "execution_count": 88
        }
      ]
    },
    {
      "cell_type": "code",
      "metadata": {
        "colab": {
          "base_uri": "https://localhost:8080/"
        },
        "id": "S81p9vwUiNRu",
        "outputId": "f5a916ae-297f-49c7-b645-b56346b9c5d0"
      },
      "source": [
        "# Plot the Elbow Curve to find out the best C\n",
        "import pylab as pl\n",
        "pl.plot((df_score.C),df_score.score,marker='o')\n",
        "pl.grid()\n",
        "pl.xlabel('C')\n",
        "pl.ylabel('Score')\n",
        "pl.title('Elbow Curve')\n",
        "pl.show()"
      ],
      "execution_count": null,
      "outputs": [
        {
          "output_type": "display_data",
          "data": {
            "image/png": "[encoded data removed]",
            "text/plain": [
              "<Figure size 432x288 with 1 Axes>"
            ]
          },
          "metadata": {
            "tags": [],
            "needs_background": "light"
          }
        }
      ]
    },
    {
      "cell_type": "markdown",
      "metadata": {
        "id": "98OZhpjwm8U8"
      },
      "source": [
        "### BEST C = 10 for SVC"
      ]
    },
    {
      "cell_type": "code",
      "metadata": {
        "colab": {
          "base_uri": "https://localhost:8080/"
        },
        "id": "0XFoWhtUiRAd",
        "outputId": "2702facf-747b-4938-eb5b-98e5c0fae109"
      },
      "source": [
        "SVC_model = SVC(C= 10, kernel= 'rbf').fit(X_train,y_train) # best C from above is C=10\n",
        "Train_pred=SVC_model.predict(X_train)\n",
        "y_pred=SVC_model.predict(X_Test)\n",
        "print('Accuracy_score for train data using SVC_model is:',accuracy_score(y_train, Train_pred))\n",
        "print('Precision score for train data using SVC is:', precision_score(y_train,Train_pred))\n",
        "print('Recall score for train data using SVC is:',recall_score(y_train,Train_pred))   \n",
        "print('F1_score for train data using SVC_model is:',f1_score(y_train,Train_pred))\n",
        "print('Accuracy_score for test data using SVC_model is:',accuracy_score(y_test, y_pred))\n",
        "print('Precision score for test data using SVC_model is:', precision_score(y_test,y_pred))\n",
        "print('Recall score for test data using SVC_model is:',recall_score(y_test,y_pred))   \n",
        "print('F1_score for test data using SVC_model is:',f1_score(y_test, y_pred))"
      ],
      "execution_count": null,
      "outputs": [
        {
          "output_type": "stream",
          "text": [
            "Accuracy_score for train data using SVC_model is: 0.9696540323532885\n",
            "Precision score for train data using SVC is: 0.9383838383838384\n",
            "Recall score for train data using SVC is: 0.9322629202207727\n",
            "F1_score for train data using SVC_model is: 0.9353133652152026\n",
            "Accuracy_score for test data using SVC_model is: 0.9537807685496724\n",
            "Precision score for test data using SVC_model is: 0.9160997732426304\n",
            "Recall score for test data using SVC_model is: 0.8898678414096917\n",
            "F1_score for test data using SVC_model is: 0.9027932960893855\n"
          ],
          "name": "stdout"
        }
      ]
    },
    {
      "cell_type": "markdown",
      "metadata": {
        "id": "KRKvz0-SnOX7"
      },
      "source": [
        ""
      ]
    },
    {
      "cell_type": "markdown",
      "metadata": {
        "id": "ltmiADr1nOfs"
      },
      "source": [
        "<a id=section6></a>\n",
        "## 9 FINAL Model For Test Data\n",
        "> Run the model on test data which  is shared by INSAID .compare the results with the actual results vs predicted results to measure the accurancy of our model"
      ]
    },
    {
      "cell_type": "code",
      "metadata": {
        "colab": {
          "base_uri": "https://localhost:8080/",
          "height": 416
        },
        "id": "rvNF-UxjianI",
        "outputId": "ee626cb4-ae12-4b03-8322-c8eb5b6b8033"
      },
      "source": [
        "\n",
        "# Import the test data which has 100 rows and use this data to predit the results\n",
        "testdf = pd.read_csv('1007_TestData_INSAID.csv') #"
      ],
      "execution_count": null,
      "outputs": [
        {
          "output_type": "error",
          "ename": "FileNotFoundError",
          "evalue": "ignored",
          "traceback": [
            "\u001b[0;31m---------------------------------------------------------------------------\u001b[0m",
            "\u001b[0;31mFileNotFoundError\u001b[0m                         Traceback (most recent call last)",
            "\u001b[0;32m<ipython-input-91-1dd1b8660ce9>\u001b[0m in \u001b[0;36m<module>\u001b[0;34m()\u001b[0m\n\u001b[1;32m      1\u001b[0m \u001b[0;34m\u001b[0m\u001b[0m\n\u001b[1;32m      2\u001b[0m \u001b[0;31m# Import the test data which has 100 rows and use this data to predit the results\u001b[0m\u001b[0;34m\u001b[0m\u001b[0;34m\u001b[0m\u001b[0;34m\u001b[0m\u001b[0m\n\u001b[0;32m----> 3\u001b[0;31m \u001b[0mtestdf\u001b[0m \u001b[0;34m=\u001b[0m \u001b[0mpd\u001b[0m\u001b[0;34m.\u001b[0m\u001b[0mread_csv\u001b[0m\u001b[0;34m(\u001b[0m\u001b[0;34m'1007_TestData_INSAID.csv'\u001b[0m\u001b[0;34m)\u001b[0m \u001b[0;31m#\u001b[0m\u001b[0;34m\u001b[0m\u001b[0;34m\u001b[0m\u001b[0m\n\u001b[0m",
            "\u001b[0;32m/usr/local/lib/python3.6/dist-packages/pandas/io/parsers.py\u001b[0m in \u001b[0;36mread_csv\u001b[0;34m(filepath_or_buffer, sep, delimiter, header, names, index_col, usecols, squeeze, prefix, mangle_dupe_cols, dtype, engine, converters, true_values, false_values, skipinitialspace, skiprows, skipfooter, nrows, na_values, keep_default_na, na_filter, verbose, skip_blank_lines, parse_dates, infer_datetime_format, keep_date_col, date_parser, dayfirst, cache_dates, iterator, chunksize, compression, thousands, decimal, lineterminator, quotechar, quoting, doublequote, escapechar, comment, encoding, dialect, error_bad_lines, warn_bad_lines, delim_whitespace, low_memory, memory_map, float_precision)\u001b[0m\n\u001b[1;32m    686\u001b[0m     )\n\u001b[1;32m    687\u001b[0m \u001b[0;34m\u001b[0m\u001b[0m\n\u001b[0;32m--> 688\u001b[0;31m     \u001b[0;32mreturn\u001b[0m \u001b[0m_read\u001b[0m\u001b[0;34m(\u001b[0m\u001b[0mfilepath_or_buffer\u001b[0m\u001b[0;34m,\u001b[0m \u001b[0mkwds\u001b[0m\u001b[0;34m)\u001b[0m\u001b[0;34m\u001b[0m\u001b[0;34m\u001b[0m\u001b[0m\n\u001b[0m\u001b[1;32m    689\u001b[0m \u001b[0;34m\u001b[0m\u001b[0m\n\u001b[1;32m    690\u001b[0m \u001b[0;34m\u001b[0m\u001b[0m\n",
            "\u001b[0;32m/usr/local/lib/python3.6/dist-packages/pandas/io/parsers.py\u001b[0m in \u001b[0;36m_read\u001b[0;34m(filepath_or_buffer, kwds)\u001b[0m\n\u001b[1;32m    452\u001b[0m \u001b[0;34m\u001b[0m\u001b[0m\n\u001b[1;32m    453\u001b[0m     \u001b[0;31m# Create the parser.\u001b[0m\u001b[0;34m\u001b[0m\u001b[0;34m\u001b[0m\u001b[0;34m\u001b[0m\u001b[0m\n\u001b[0;32m--> 454\u001b[0;31m     \u001b[0mparser\u001b[0m \u001b[0;34m=\u001b[0m \u001b[0mTextFileReader\u001b[0m\u001b[0;34m(\u001b[0m\u001b[0mfp_or_buf\u001b[0m\u001b[0;34m,\u001b[0m \u001b[0;34m**\u001b[0m\u001b[0mkwds\u001b[0m\u001b[0;34m)\u001b[0m\u001b[0;34m\u001b[0m\u001b[0;34m\u001b[0m\u001b[0m\n\u001b[0m\u001b[1;32m    455\u001b[0m \u001b[0;34m\u001b[0m\u001b[0m\n\u001b[1;32m    456\u001b[0m     \u001b[0;32mif\u001b[0m \u001b[0mchunksize\u001b[0m \u001b[0;32mor\u001b[0m \u001b[0miterator\u001b[0m\u001b[0;34m:\u001b[0m\u001b[0;34m\u001b[0m\u001b[0;34m\u001b[0m\u001b[0m\n",
            "\u001b[0;32m/usr/local/lib/python3.6/dist-packages/pandas/io/parsers.py\u001b[0m in \u001b[0;36m__init__\u001b[0;34m(self, f, engine, **kwds)\u001b[0m\n\u001b[1;32m    946\u001b[0m             \u001b[0mself\u001b[0m\u001b[0;34m.\u001b[0m\u001b[0moptions\u001b[0m\u001b[0;34m[\u001b[0m\u001b[0;34m\"has_index_names\"\u001b[0m\u001b[0;34m]\u001b[0m \u001b[0;34m=\u001b[0m \u001b[0mkwds\u001b[0m\u001b[0;34m[\u001b[0m\u001b[0;34m\"has_index_names\"\u001b[0m\u001b[0;34m]\u001b[0m\u001b[0;34m\u001b[0m\u001b[0;34m\u001b[0m\u001b[0m\n\u001b[1;32m    947\u001b[0m \u001b[0;34m\u001b[0m\u001b[0m\n\u001b[0;32m--> 948\u001b[0;31m         \u001b[0mself\u001b[0m\u001b[0;34m.\u001b[0m\u001b[0m_make_engine\u001b[0m\u001b[0;34m(\u001b[0m\u001b[0mself\u001b[0m\u001b[0;34m.\u001b[0m\u001b[0mengine\u001b[0m\u001b[0;34m)\u001b[0m\u001b[0;34m\u001b[0m\u001b[0;34m\u001b[0m\u001b[0m\n\u001b[0m\u001b[1;32m    949\u001b[0m \u001b[0;34m\u001b[0m\u001b[0m\n\u001b[1;32m    950\u001b[0m     \u001b[0;32mdef\u001b[0m \u001b[0mclose\u001b[0m\u001b[0;34m(\u001b[0m\u001b[0mself\u001b[0m\u001b[0;34m)\u001b[0m\u001b[0;34m:\u001b[0m\u001b[0;34m\u001b[0m\u001b[0;34m\u001b[0m\u001b[0m\n",
            "\u001b[0;32m/usr/local/lib/python3.6/dist-packages/pandas/io/parsers.py\u001b[0m in \u001b[0;36m_make_engine\u001b[0;34m(self, engine)\u001b[0m\n\u001b[1;32m   1178\u001b[0m     \u001b[0;32mdef\u001b[0m \u001b[0m_make_engine\u001b[0m\u001b[0;34m(\u001b[0m\u001b[0mself\u001b[0m\u001b[0;34m,\u001b[0m \u001b[0mengine\u001b[0m\u001b[0;34m=\u001b[0m\u001b[0;34m\"c\"\u001b[0m\u001b[0;34m)\u001b[0m\u001b[0;34m:\u001b[0m\u001b[0;34m\u001b[0m\u001b[0;34m\u001b[0m\u001b[0m\n\u001b[1;32m   1179\u001b[0m         \u001b[0;32mif\u001b[0m \u001b[0mengine\u001b[0m \u001b[0;34m==\u001b[0m \u001b[0;34m\"c\"\u001b[0m\u001b[0;34m:\u001b[0m\u001b[0;34m\u001b[0m\u001b[0;34m\u001b[0m\u001b[0m\n\u001b[0;32m-> 1180\u001b[0;31m             \u001b[0mself\u001b[0m\u001b[0;34m.\u001b[0m\u001b[0m_engine\u001b[0m \u001b[0;34m=\u001b[0m \u001b[0mCParserWrapper\u001b[0m\u001b[0;34m(\u001b[0m\u001b[0mself\u001b[0m\u001b[0;34m.\u001b[0m\u001b[0mf\u001b[0m\u001b[0;34m,\u001b[0m \u001b[0;34m**\u001b[0m\u001b[0mself\u001b[0m\u001b[0;34m.\u001b[0m\u001b[0moptions\u001b[0m\u001b[0;34m)\u001b[0m\u001b[0;34m\u001b[0m\u001b[0;34m\u001b[0m\u001b[0m\n\u001b[0m\u001b[1;32m   1181\u001b[0m         \u001b[0;32melse\u001b[0m\u001b[0;34m:\u001b[0m\u001b[0;34m\u001b[0m\u001b[0;34m\u001b[0m\u001b[0m\n\u001b[1;32m   1182\u001b[0m             \u001b[0;32mif\u001b[0m \u001b[0mengine\u001b[0m \u001b[0;34m==\u001b[0m \u001b[0;34m\"python\"\u001b[0m\u001b[0;34m:\u001b[0m\u001b[0;34m\u001b[0m\u001b[0;34m\u001b[0m\u001b[0m\n",
            "\u001b[0;32m/usr/local/lib/python3.6/dist-packages/pandas/io/parsers.py\u001b[0m in \u001b[0;36m__init__\u001b[0;34m(self, src, **kwds)\u001b[0m\n\u001b[1;32m   2008\u001b[0m         \u001b[0mkwds\u001b[0m\u001b[0;34m[\u001b[0m\u001b[0;34m\"usecols\"\u001b[0m\u001b[0;34m]\u001b[0m \u001b[0;34m=\u001b[0m \u001b[0mself\u001b[0m\u001b[0;34m.\u001b[0m\u001b[0musecols\u001b[0m\u001b[0;34m\u001b[0m\u001b[0;34m\u001b[0m\u001b[0m\n\u001b[1;32m   2009\u001b[0m \u001b[0;34m\u001b[0m\u001b[0m\n\u001b[0;32m-> 2010\u001b[0;31m         \u001b[0mself\u001b[0m\u001b[0;34m.\u001b[0m\u001b[0m_reader\u001b[0m \u001b[0;34m=\u001b[0m \u001b[0mparsers\u001b[0m\u001b[0;34m.\u001b[0m\u001b[0mTextReader\u001b[0m\u001b[0;34m(\u001b[0m\u001b[0msrc\u001b[0m\u001b[0;34m,\u001b[0m \u001b[0;34m**\u001b[0m\u001b[0mkwds\u001b[0m\u001b[0;34m)\u001b[0m\u001b[0;34m\u001b[0m\u001b[0;34m\u001b[0m\u001b[0m\n\u001b[0m\u001b[1;32m   2011\u001b[0m         \u001b[0mself\u001b[0m\u001b[0;34m.\u001b[0m\u001b[0munnamed_cols\u001b[0m \u001b[0;34m=\u001b[0m \u001b[0mself\u001b[0m\u001b[0;34m.\u001b[0m\u001b[0m_reader\u001b[0m\u001b[0;34m.\u001b[0m\u001b[0munnamed_cols\u001b[0m\u001b[0;34m\u001b[0m\u001b[0;34m\u001b[0m\u001b[0m\n\u001b[1;32m   2012\u001b[0m \u001b[0;34m\u001b[0m\u001b[0m\n",
            "\u001b[0;32mpandas/_libs/parsers.pyx\u001b[0m in \u001b[0;36mpandas._libs.parsers.TextReader.__cinit__\u001b[0;34m()\u001b[0m\n",
            "\u001b[0;32mpandas/_libs/parsers.pyx\u001b[0m in \u001b[0;36mpandas._libs.parsers.TextReader._setup_parser_source\u001b[0;34m()\u001b[0m\n",
            "\u001b[0;31mFileNotFoundError\u001b[0m: [Errno 2] No such file or directory: '1007_TestData_INSAID.csv'"
          ]
        }
      ]
    },
    {
      "cell_type": "code",
      "metadata": {
        "id": "lqeIgtupK5LW"
      },
      "source": [
        "# Convert this in Categorical column\n",
        "testdf['recently_promoted'] = testdf['recently_promoted'].astype(str) \n",
        "testdf['filed_complaint'] = testdf['filed_complaint'].astype(str)\n",
        "testdf['tenure']=testdf['tenure'].astype(float)\n",
        "testdf['satisfaction']=testdf['satisfaction'].astype(float)\n",
        "testdf.info()"
      ],
      "execution_count": null,
      "outputs": []
    },
    {
      "cell_type": "code",
      "metadata": {
        "id": "26mGWIsinrOe"
      },
      "source": [
        "testdf.info()"
      ],
      "execution_count": null,
      "outputs": []
    },
    {
      "cell_type": "code",
      "metadata": {
        "id": "J43chM-YK5LX"
      },
      "source": [
        "testdf.isnull().sum()"
      ],
      "execution_count": null,
      "outputs": []
    },
    {
      "cell_type": "markdown",
      "metadata": {
        "id": "7AAkf6RoK5LX"
      },
      "source": [
        "The Unseen data doesn't have the fields age, gender and marital status available. Lets where these feature stand in terms of importance\n"
      ]
    },
    {
      "cell_type": "code",
      "metadata": {
        "id": "6NDJxHLWK5LX"
      },
      "source": [
        "#RF_model\n",
        "feature_importances = pd.DataFrame(RF_model.feature_importances_,\n",
        "                                   index = X.columns,\n",
        "                                    columns=['importance']).sort_values('importance',ascending=False)\n",
        "print(feature_importances)"
      ],
      "execution_count": null,
      "outputs": []
    },
    {
      "cell_type": "markdown",
      "metadata": {
        "id": "MnE-D5CGK5LX"
      },
      "source": [
        "Based on the feature imporatnce, looks like age has got ~4% importance, marital status and gender has got less than 2% importance. Lets retrain the model on top 5 features which consist 86% of importance and drop the rest and seee how this performs."
      ]
    },
    {
      "cell_type": "code",
      "metadata": {
        "id": "9LV_xFgWK5LX"
      },
      "source": [
        "df_train = pd.DataFrame(i for i in X_train)\n",
        "df_train.columns = X.columns\n",
        "\n",
        "df_test = pd.DataFrame(i for i in X_Test)\n",
        "df_test.columns = X.columns"
      ],
      "execution_count": null,
      "outputs": []
    },
    {
      "cell_type": "code",
      "metadata": {
        "id": "qXBnID9AK5LY"
      },
      "source": [
        "df_train=df_train[['satisfaction','n_projects','tenure','avg_monthly_hrs','last_evaluation']]\n",
        "df_test=df_test[['satisfaction','n_projects','tenure','avg_monthly_hrs','last_evaluation']]"
      ],
      "execution_count": null,
      "outputs": []
    },
    {
      "cell_type": "code",
      "metadata": {
        "id": "-qenUqaMK5LY"
      },
      "source": [
        "scaling_fit=preprocessing.StandardScaler().fit(df_train)\n",
        "df_train = scaling_fit.transform(df_train)\n",
        "df_test=  scaling_fit.transform(df_test)"
      ],
      "execution_count": null,
      "outputs": []
    },
    {
      "cell_type": "code",
      "metadata": {
        "id": "gGIAnUp5K5LY"
      },
      "source": [
        "print(\"------------SVC-----------------\")\n",
        "SVC_model = SVC(C= 10, kernel= 'rbf',probability=True).fit(df_train,y_train) # best C from above is C=10\n",
        "Train_pred=SVC_model.predict(df_train)\n",
        "y_pred=SVC_model.predict(df_test)\n",
        "print('Precision score for train data using SVC is:', precision_score(y_train,Train_pred))\n",
        "print('Recall score for train data using SVC is:',recall_score(y_train,Train_pred))   \n",
        "print('F1_score for train data using SVC_model is:',f1_score(y_train,Train_pred))\n",
        "print('Accuracy_score for train data using SVC_model is:',accuracy_score(y_train, Train_pred))\n",
        "print('Precision score for test data using SVC_model is:', precision_score(y_test,y_pred))\n",
        "print('Recall score for test data using SVC_model is:',recall_score(y_test,y_pred))   \n",
        "print('F1_score for test data using SVC_model is:',f1_score(y_test, y_pred))\n",
        "print('Accuracy_score for test data using SVC_model is:',accuracy_score(y_test, y_pred))\n",
        "\n",
        "\n",
        "print(\"\\n------------RandomForest-----------------\")\n",
        "\n",
        "RF_model = RandomForestClassifier().fit(df_train,y_train)\n",
        "Train_pred=RF_model.predict(df_train)\n",
        "y_pred=RF_model.predict(df_test)\n",
        "print('Precision score for train data using Random Forest is:', precision_score(y_train,Train_pred))\n",
        "print('Recall score for train data using Random Forest is:',recall_score(y_train,Train_pred))   \n",
        "print('F1_score for train data using Random Forest is:',f1_score(y_train,Train_pred))\n",
        "print('Accuracy_score for train data using Random Forest is:',accuracy_score(y_train, Train_pred))\n",
        "print('Precision score for test data using Random Forest is:', precision_score(y_test,y_pred))\n",
        "print('Recall score for test data using Random Forest is:',recall_score(y_test,y_pred))   \n",
        "print('F1_score for test data using Random Forest is:',f1_score(y_test, y_pred))\n",
        "print('Accuracy_score for test data using Random Forest is:',accuracy_score(y_test, y_pred))"
      ],
      "execution_count": null,
      "outputs": []
    },
    {
      "cell_type": "markdown",
      "metadata": {
        "id": "GhJ73OoWK5LY"
      },
      "source": [
        "Both models looks good based on the scores. Random forest however looks better with 97.7 accuracy and recall of 91.8"
      ]
    },
    {
      "cell_type": "code",
      "metadata": {
        "id": "xP-az_-7sJV_"
      },
      "source": [
        "# Mean value of Satisfaction on Original data set  0.621212\n",
        "testdf['satisfaction'].fillna('0.621212', inplace=True)"
      ],
      "execution_count": null,
      "outputs": []
    },
    {
      "cell_type": "code",
      "metadata": {
        "id": "9bH_3noXoMqF"
      },
      "source": [
        "testdf.fillna({'filed_complaint': 0,'recently_promoted': 0, 'last_evaluation': 0}, inplace = True)\n",
        "#testdf['department'].fillna('D00-SS', inplace=True)\n",
        "testdf['tenure'].fillna('3.499357', inplace=True) "
      ],
      "execution_count": null,
      "outputs": []
    },
    {
      "cell_type": "code",
      "metadata": {
        "id": "riPfDwtlK5LZ"
      },
      "source": [
        "X_InsaidTest = testdf[['satisfaction','n_projects','tenure','avg_monthly_hrs','last_evaluation']]\n",
        "#X_InsaidTest.set_index('employee_id')"
      ],
      "execution_count": null,
      "outputs": []
    },
    {
      "cell_type": "code",
      "metadata": {
        "id": "OF9mzwr0K5LZ"
      },
      "source": [
        "#X_InsaidTest.select_dtypes(include=['object'])\n",
        "## Define the categorical columns and generate dummies for it using pd.get_dummies\n",
        "#X_InsaidTest = pd.get_dummies(X_InsaidTest, X_InsaidTest['department','filed_complaint','recently_promoted','salary','gender','marital_status'], drop_first=True)\n",
        "X_InsaidTest=  scaling_fit.transform(X_InsaidTest)"
      ],
      "execution_count": null,
      "outputs": []
    },
    {
      "cell_type": "code",
      "metadata": {
        "id": "B1_KZmY0K5La"
      },
      "source": [
        "testdf['Prediction_RF']=RF_model.predict(X_InsaidTest)\n",
        "testdf['Prediction_ProbaLeft_RF']=RF_model.predict_proba(X_InsaidTest)[:,1]\n",
        "testdf['Prediction_RF'].replace(to_replace=[0,1], value=['Employed','Left'],inplace=True) \n",
        "testdf.to_csv(\"Predictions_unseen.csv\")"
      ],
      "execution_count": null,
      "outputs": []
    },
    {
      "cell_type": "code",
      "metadata": {
        "id": "GMlAYWDUK5La"
      },
      "source": [
        ""
      ],
      "execution_count": null,
      "outputs": []
    }
  ]
}